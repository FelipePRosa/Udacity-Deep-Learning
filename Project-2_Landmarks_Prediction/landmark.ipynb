{
 "cells": [
  {
   "cell_type": "markdown",
   "metadata": {},
   "source": [
    "# Convolutional Neural Networks\n",
    "\n",
    "## Project: Write an Algorithm for Landmark Classification\n",
    "\n",
    "---\n",
    "\n",
    "In this notebook, some template code has already been provided for you, and you will need to implement additional functionality to successfully complete this project. You will not need to modify the included code beyond what is requested. Sections that begin with **'(IMPLEMENTATION)'** in the header indicate that the following block of code will require additional functionality which you must provide. Instructions will be provided for each section, and the specifics of the implementation are marked in the code block with a 'TODO' statement. Please be sure to read the instructions carefully! \n",
    "\n",
    "> **Note**: Once you have completed all the code implementations, you need to finalize your work by exporting the Jupyter Notebook as an HTML document. Before exporting the notebook to HTML, all the code cells need to have been run so that reviewers can see the final implementation and output. You can then export the notebook by using the menu above and navigating to **File -> Download as -> HTML (.html)**. Include the finished document along with this notebook as your submission.\n",
    "\n",
    "In addition to implementing code, there will be questions that you must answer which relate to the project and your implementation. Each section where you will answer a question is preceded by a **'Question X'** header. Carefully read each question and provide thorough answers in the following text boxes that begin with **'Answer:'**. Your project submission will be evaluated based on your answers to each of the questions and the implementation you provide.\n",
    "\n",
    ">**Note:** Code and Markdown cells can be executed using the **Shift + Enter** keyboard shortcut.  Markdown cells can be edited by double-clicking the cell to enter edit mode.\n",
    "\n",
    "The rubric contains _optional_ \"Stand Out Suggestions\" for enhancing the project beyond the minimum requirements. If you decide to pursue the \"Stand Out Suggestions\", you should include the code in this Jupyter notebook.\n",
    "\n",
    "---\n",
    "### Why We're Here\n",
    "\n",
    "Photo sharing and photo storage services like to have location data for each photo that is uploaded. With the location data, these services can build advanced features, such as automatic suggestion of relevant tags or automatic photo organization, which help provide a compelling user experience. Although a photo's location can often be obtained by looking at the photo's metadata, many photos uploaded to these services will not have location metadata available. This can happen when, for example, the camera capturing the picture does not have GPS or if a photo's metadata is scrubbed due to privacy concerns.\n",
    "\n",
    "If no location metadata for an image is available, one way to infer the location is to detect and classify a discernible landmark in the image. Given the large number of landmarks across the world and the immense volume of images that are uploaded to photo sharing services, using human judgement to classify these landmarks would not be feasible.\n",
    "\n",
    "In this notebook, you will take the first steps towards addressing this problem by building models to automatically predict the location of the image based on any landmarks depicted in the image. At the end of this project, your code will accept any user-supplied image as input and suggest the top k most relevant landmarks from 50 possible landmarks from across the world. The image below displays a potential sample output of your finished project.\n",
    "\n",
    "![Sample landmark classification output](images/sample_landmark_output.png)\n",
    "\n",
    "\n",
    "### The Road Ahead\n",
    "\n",
    "We break the notebook into separate steps.  Feel free to use the links below to navigate the notebook.\n",
    "\n",
    "* [Step 0](#step0): Download Datasets and Install Python Modules\n",
    "* [Step 1](#step1): Create a CNN to Classify Landmarks (from Scratch)\n",
    "* [Step 2](#step2): Create a CNN to Classify Landmarks (using Transfer Learning)\n",
    "* [Step 3](#step3): Write Your Landmark Prediction Algorithm\n",
    "\n",
    "---\n",
    "<a id='step0'></a>\n",
    "## Step 0: Download Datasets and Install Python Modules\n",
    "\n",
    "**Note: if you are using the Udacity workspace, *YOU CAN SKIP THIS STEP*. The dataset can be found in the `/data` folder and all required Python modules have been installed in the workspace.**\n",
    "\n",
    "Download the [landmark dataset](https://udacity-dlnfd.s3-us-west-1.amazonaws.com/datasets/landmark_images.zip).\n",
    "Unzip the folder and place it in this project's home directory, at the location `/landmark_images`.\n",
    "\n",
    "Install the following Python modules:\n",
    "* cv2\n",
    "* matplotlib\n",
    "* numpy\n",
    "* PIL\n",
    "* torch\n",
    "* torchvision"
   ]
  },
  {
   "cell_type": "markdown",
   "metadata": {},
   "source": [
    "---\n",
    "\n",
    "<a id='step1'></a>\n",
    "## Step 1: Create a CNN to Classify Landmarks (from Scratch)\n",
    "\n",
    "In this step, you will create a CNN that classifies landmarks.  You must create your CNN _from scratch_ (so, you can't use transfer learning _yet_!), and you must attain a test accuracy of at least 20%.\n",
    "\n",
    "Although 20% may seem low at first glance, it seems more reasonable after realizing how difficult of a problem this is. Many times, an image that is taken at a landmark captures a fairly mundane image of an animal or plant, like in the following picture.\n",
    "\n",
    "<img src=\"images/train/00.Haleakala_National_Park/084c2aa50d0a9249.jpg\" alt=\"Bird in Haleakalā National Park\" style=\"width: 400px;\"/>\n",
    "\n",
    "Just by looking at that image alone, would you have been able to guess that it was taken at the Haleakalā National Park in Hawaii?\n",
    "\n",
    "An accuracy of 20% is significantly better than random guessing, which would provide an accuracy of just 2%. In Step 2 of this notebook, you will have the opportunity to greatly improve accuracy by using transfer learning to create a CNN.\n",
    "\n",
    "Remember that practice is far ahead of theory in deep learning.  Experiment with many different architectures, and trust your intuition.  And, of course, have fun!"
   ]
  },
  {
   "cell_type": "markdown",
   "metadata": {},
   "source": [
    "### (IMPLEMENTATION) Specify Data Loaders for the Landmark Dataset\n",
    "\n",
    "Use the code cell below to create three separate [data loaders](http://pytorch.org/docs/stable/data.html#torch.utils.data.DataLoader): one for training data, one for validation data, and one for test data. Randomly split the images located at `landmark_images/train` to create the train and validation data loaders, and use the images located at `landmark_images/test` to create the test data loader.\n",
    "\n",
    "All three of your data loaders should be accessible via a dictionary named `loaders_scratch`. Your train data loader should be at `loaders_scratch['train']`, your validation data loader should be at `loaders_scratch['valid']`, and your test data loader should be at `loaders_scratch['test']`.\n",
    "\n",
    "You may find [this documentation on custom datasets](https://pytorch.org/docs/stable/torchvision/datasets.html#datasetfolder) to be a useful resource.  If you are interested in augmenting your training and/or validation data, check out the wide variety of [transforms](http://pytorch.org/docs/stable/torchvision/transforms.html?highlight=transform)!"
   ]
  },
  {
   "cell_type": "code",
   "execution_count": 3,
   "metadata": {},
   "outputs": [],
   "source": [
    "### TODO: Write data loaders for training, validation, and test sets\n",
    "## Specify appropriate transforms, and batch_sizes\n",
    "\n",
    "import numpy as np\n",
    "import torch\n",
    "\n",
    "import torchvision\n",
    "from torchvision import datasets, models, transforms\n",
    "from torch.utils.data.sampler import SubsetRandomSampler\n",
    "import matplotlib.pyplot as plt\n",
    "\n",
    "## Specify appropriate transforms, and batch_sizes\n",
    "\n",
    "# number of subprocesses to use for data loading\n",
    "num_workers = 0\n",
    "# how many samples per batch to load\n",
    "batch_size = 20\n",
    "# percentage of training set to use as validation\n",
    "valid_size = 0.2\n",
    "\n",
    "# convert data to a normalized torch.FloatTensor\n",
    "train_transform = transforms.Compose([transforms.Resize(32),\n",
    "                                transforms.RandomVerticalFlip(),\n",
    "                                transforms.RandomRotation(5),\n",
    "                                transforms.CenterCrop(32),\n",
    "                                transforms.ToTensor(),\n",
    "                                transforms.Normalize((0.5, 0.5, 0.5), (0.5, 0.5, 0.5))])\n",
    "\n",
    "test_transform = transforms.Compose([transforms.Resize(32),\n",
    "                                transforms.ToTensor(),\n",
    "                                transforms.Normalize((0.5, 0.5, 0.5), (0.5, 0.5, 0.5))])\n",
    "\n",
    "# choose the training and test datasets\n",
    "train_data = datasets.ImageFolder('/data/landmark_images/train', transform = train_transform)\n",
    "test_data = datasets.ImageFolder('/data/landmark_images/test', transform = test_transform)\n",
    "\n",
    "# obtain training indices that will be used for validation\n",
    "num_train = len(train_data)\n",
    "indices = list(range(num_train))\n",
    "np.random.shuffle(indices)\n",
    "split = int(np.floor(valid_size * num_train))\n",
    "train_idx, valid_idx = indices[split:], indices[:split]\n",
    "\n",
    "# define samplers for obtaining training and validation batches\n",
    "train_sampler = SubsetRandomSampler(train_idx)\n",
    "valid_sampler = SubsetRandomSampler(valid_idx)\n",
    "\n",
    "# prepare data loaders\n",
    "# prepare data loaders (combine dataset and sampler)\n",
    "train_loader = torch.utils.data.DataLoader(train_data, batch_size=batch_size,\n",
    "    sampler=train_sampler, num_workers=num_workers)\n",
    "valid_loader = torch.utils.data.DataLoader(train_data, batch_size=batch_size, \n",
    "    sampler=valid_sampler, num_workers=num_workers)\n",
    "test_loader = torch.utils.data.DataLoader(test_data, batch_size=batch_size, \n",
    "    num_workers=num_workers)\n",
    "\n",
    "loaders_scratch = {'train': train_loader, 'valid': valid_loader, 'test': test_loader}\n"
   ]
  },
  {
   "cell_type": "markdown",
   "metadata": {},
   "source": [
    "**Question 1:** Describe your chosen procedure for preprocessing the data. \n",
    "- How does your code resize the images (by cropping, stretching, etc)?  What size did you pick for the input tensor, and why?\n",
    "- Did you decide to augment the dataset?  If so, how (through translations, flips, rotations, etc)?  If not, why not?"
   ]
  },
  {
   "cell_type": "markdown",
   "metadata": {},
   "source": [
    "**Answer**:\n",
    "\n",
    "* Using difar10 cnn as my primary referece, and as it is 32 pixels, I managed to start just like that, that's why I resized and croped to 32 pixels.\n",
    "* I also included a tiny random rotations and vertical flip to increase training variety (Since the images are landscapes I don't think horizontal flips would be interesting, and bigger rotations should be out of normal)\n",
    "* After that, just a tensor transformation and a normalizaton to prepare the views"
   ]
  },
  {
   "cell_type": "markdown",
   "metadata": {},
   "source": [
    "### (IMPLEMENTATION) Visualize a Batch of Training Data\n",
    "\n",
    "Use the code cell below to retrieve a batch of images from your train data loader, display at least 5 images simultaneously, and label each displayed image with its class name (e.g., \"Golden Gate Bridge\").\n",
    "\n",
    "Visualizing the output of your data loader is a great way to ensure that your data loading and preprocessing are working as expected."
   ]
  },
  {
   "cell_type": "code",
   "execution_count": null,
   "metadata": {},
   "outputs": [],
   "source": [
    "import matplotlib.pyplot as plt\n",
    "%matplotlib inline\n",
    "\n",
    "## TODO: visualize a batch of the train data loader\n",
    "\n",
    "def imshow(img):\n",
    "    img = img / 2 + 0.5  # unnormalize\n",
    "    plt.imshow(np.transpose(img, (1, 2, 0)))  # convert from Tensor image\n",
    "\n",
    "## the class names can be accessed at the `classes` attribute\n",
    "## of your dataset object (e.g., `train_dataset.classes`)\n",
    "\n",
    "classes = train_data.classes"
   ]
  },
  {
   "cell_type": "code",
   "execution_count": 8,
   "metadata": {},
   "outputs": [
    {
     "ename": "NameError",
     "evalue": "name 'train_loader' is not defined",
     "output_type": "error",
     "traceback": [
      "\u001b[1;31m---------------------------------------------------------------------------\u001b[0m",
      "\u001b[1;31mNameError\u001b[0m                                 Traceback (most recent call last)",
      "\u001b[1;32m<ipython-input-8-78138fbc4c5d>\u001b[0m in \u001b[0;36m<module>\u001b[1;34m\u001b[0m\n\u001b[0;32m      1\u001b[0m \u001b[1;31m# obtain one batch of training images\u001b[0m\u001b[1;33m\u001b[0m\u001b[1;33m\u001b[0m\u001b[1;33m\u001b[0m\u001b[0m\n\u001b[1;32m----> 2\u001b[1;33m \u001b[0mdataiter\u001b[0m \u001b[1;33m=\u001b[0m \u001b[0miter\u001b[0m\u001b[1;33m(\u001b[0m\u001b[0mtrain_loader\u001b[0m\u001b[1;33m)\u001b[0m\u001b[1;33m\u001b[0m\u001b[1;33m\u001b[0m\u001b[0m\n\u001b[0m\u001b[0;32m      3\u001b[0m \u001b[0mimages\u001b[0m\u001b[1;33m,\u001b[0m \u001b[0mlabels\u001b[0m \u001b[1;33m=\u001b[0m \u001b[0mdataiter\u001b[0m\u001b[1;33m.\u001b[0m\u001b[0mnext\u001b[0m\u001b[1;33m(\u001b[0m\u001b[1;33m)\u001b[0m\u001b[1;33m\u001b[0m\u001b[1;33m\u001b[0m\u001b[0m\n\u001b[0;32m      4\u001b[0m \u001b[0mimages\u001b[0m \u001b[1;33m=\u001b[0m \u001b[0mimages\u001b[0m\u001b[1;33m.\u001b[0m\u001b[0mnumpy\u001b[0m\u001b[1;33m(\u001b[0m\u001b[1;33m)\u001b[0m \u001b[1;31m# convert images to numpy for display\u001b[0m\u001b[1;33m\u001b[0m\u001b[1;33m\u001b[0m\u001b[0m\n\u001b[0;32m      5\u001b[0m \u001b[1;33m\u001b[0m\u001b[0m\n",
      "\u001b[1;31mNameError\u001b[0m: name 'train_loader' is not defined"
     ]
    }
   ],
   "source": [
    "# obtain one batch of training images\n",
    "dataiter = iter(train_loader)\n",
    "images, labels = dataiter.next()\n",
    "images = images.numpy() # convert images to numpy for display\n",
    "\n",
    "# plot the images in the batch, along with the corresponding labels\n",
    "fig = plt.figure()\n",
    "fig.set_size_inches(15, 15)\n",
    "# display 10 images\n",
    "for idx in np.arange(10):\n",
    "    ax = fig.add_subplot(2, 5, idx+1)\n",
    "    #plt.imshow(np.transpose(images[idx]/2+0.5, (1, 2, 0)))\n",
    "    #ax.set_title(classes[labels[idx]])"
   ]
  },
  {
   "cell_type": "markdown",
   "metadata": {},
   "source": [
    "### Initialize use_cuda variable"
   ]
  },
  {
   "cell_type": "code",
   "execution_count": 2,
   "metadata": {},
   "outputs": [],
   "source": [
    "# useful variable that tells us whether we should use the GPU\n",
    "use_cuda = torch.cuda.is_available()"
   ]
  },
  {
   "cell_type": "markdown",
   "metadata": {},
   "source": [
    "### (IMPLEMENTATION) Specify Loss Function and Optimizer\n",
    "\n",
    "Use the next code cell to specify a [loss function](http://pytorch.org/docs/stable/nn.html#loss-functions) and [optimizer](http://pytorch.org/docs/stable/optim.html).  Save the chosen loss function as `criterion_scratch`, and fill in the function `get_optimizer_scratch` below."
   ]
  },
  {
   "cell_type": "code",
   "execution_count": 3,
   "metadata": {},
   "outputs": [],
   "source": [
    "import torch.optim as optim\n",
    "import torch.nn as nn\n",
    "\n",
    "## TODO: select loss function\n",
    "criterion_scratch = nn.CrossEntropyLoss()\n",
    "\n",
    "def get_optimizer_scratch(model):\n",
    "    ## TODO: select and return an optimizer\n",
    "    optimizer = optim.SGD(model.parameters(), lr=0.01)\n",
    "\n",
    "    return optimizer"
   ]
  },
  {
   "cell_type": "markdown",
   "metadata": {},
   "source": [
    "### (IMPLEMENTATION) Model Architecture\n",
    "\n",
    "Create a CNN to classify images of landmarks.  Use the template in the code cell below."
   ]
  },
  {
   "cell_type": "code",
   "execution_count": 4,
   "metadata": {},
   "outputs": [],
   "source": [
    "import torch.nn.functional as F\n",
    "\n",
    "# define the CNN architecture\n",
    "class Net(nn.Module):\n",
    "    ## TODO: choose an architecture, and complete the class\n",
    "    def __init__(self):\n",
    "        super(Net, self).__init__()\n",
    "\n",
    "        # convolutional layer (sees 32x32x3 image tensor)\n",
    "        self.conv1 = nn.Conv2d(3, 16, 3, padding=1)\n",
    "        # convolutional layer (sees 16x16x16 tensor)\n",
    "        self.conv2 = nn.Conv2d(16, 32, 3, padding=1)\n",
    "        # convolutional layer (sees 8x8x32 tensor)\n",
    "        self.conv3 = nn.Conv2d(32, 64, 3, padding=1)\n",
    "        # max pooling layer\n",
    "        self.pool = nn.MaxPool2d(2, 2)\n",
    "        # linear layer (64 * 4 * 4 -> 500)\n",
    "        self.fc1 = nn.Linear(64 * 4 * 4, 500)\n",
    "        # linear layer (500 -> 10)\n",
    "        self.fc2 = nn.Linear(500, 50)\n",
    "        # dropout layer (p=0.25)\n",
    "        self.dropout = nn.Dropout(0.25)\n",
    "\n",
    "    def forward(self, x):\n",
    "\n",
    "        x = self.pool(F.relu(self.conv1(x)))\n",
    "        x = self.pool(F.relu(self.conv2(x)))\n",
    "        x = self.pool(F.relu(self.conv3(x)))\n",
    "        # flatten image input\n",
    "        x = x.view(-1, 64 * 4 * 4)\n",
    "        # add dropout layer\n",
    "        x = self.dropout(x)\n",
    "        # add 1st hidden layer, with relu activation function\n",
    "        x = F.relu(self.fc1(x))\n",
    "        # add dropout layer\n",
    "        x = self.dropout(x)\n",
    "        # add 2nd hidden layer, with relu activation function\n",
    "        x = self.fc2(x)\n",
    "        return x\n",
    "\n",
    "#-#-# Do NOT modify the code below this line. #-#-#\n",
    "\n",
    "# instantiate the CNN\n",
    "model_scratch = Net()\n",
    "\n",
    "# move tensors to GPU if CUDA is available\n",
    "if use_cuda:\n",
    "    model_scratch.cuda()"
   ]
  },
  {
   "cell_type": "markdown",
   "metadata": {},
   "source": [
    "__Question 2:__ Outline the steps you took to get to your final CNN architecture and your reasoning at each step.  "
   ]
  },
  {
   "cell_type": "markdown",
   "metadata": {},
   "source": [
    "__Answer:__  \n",
    "\n",
    "As mentioned before, I took Cifar 10 model as a base line. Since I resized the images to be at the same lenght, I used similar layers.\n",
    "\n",
    "-- Convolutional Layers --\n",
    "* As the image is RGB and are resized and croped, it starts with 32x32x3\n",
    "* The first convolutional layer generate 16 filtered images of 32x32.\n",
    "* After maxpooling using a 2x2 flter, the images drop to half: 16x16x16\n",
    "* The second convolutional layer generate 32 filtered images, turning in 16x16x32\n",
    "* Same maxpooling as before turns it in 8x8x32\n",
    "* The last convolutional layer generate the output of 8x8x64\n",
    "* And for the last time the maxpooling brings it to 4x4x64\n",
    "\n",
    "-- Full Conected Layers --\n",
    "* After that, the images are adjusted in a list to be read in the full connected layer\n",
    "* A dropout of 25% is defined so the weights are equaly evalueated\n",
    "* The full coected layer applies the weights to all values of the input list\n",
    "* Another 25% droupout is applied\n",
    "* The final full conected layer with the 50 output possibilities"
   ]
  },
  {
   "cell_type": "markdown",
   "metadata": {},
   "source": [
    "### (IMPLEMENTATION) Implement the Training Algorithm\n",
    "\n",
    "Implement your training algorithm in the code cell below.  [Save the final model parameters](http://pytorch.org/docs/master/notes/serialization.html) at the filepath stored in the variable `save_path`."
   ]
  },
  {
   "cell_type": "code",
   "execution_count": 8,
   "metadata": {},
   "outputs": [],
   "source": [
    "def train(n_epochs, loaders, model, optimizer, criterion, use_cuda, save_path):\n",
    "    \"\"\"returns trained model\"\"\"\n",
    "    # initialize tracker for minimum validation loss\n",
    "    valid_loss_min = np.Inf \n",
    "\n",
    "    for epoch in range(1, n_epochs+1):\n",
    "        # initialize variables to monitor training and validation loss\n",
    "        train_loss = 0.0\n",
    "        valid_loss = 0.0\n",
    "\n",
    "        ###################\n",
    "        # train the model #\n",
    "        ###################\n",
    "        # set the module to training mode\n",
    "        model.train()\n",
    "        for batch_idx, (data, target) in enumerate(loaders['train']):\n",
    "            # move to GPU\n",
    "            if use_cuda:\n",
    "                data, target = data.cuda(), target.cuda()\n",
    "\n",
    "            ## TODO: find the loss and update the model parameters accordingly\n",
    "            ## record the average training loss, using something like\n",
    "            ## train_loss = train_loss + ((1 / (batch_idx + 1)) * (loss.data.item() - train_loss))\n",
    "            # clear the gradients of all optimized variables\n",
    "            optimizer.zero_grad()\n",
    "            # forward pass: compute predicted outputs by passing inputs to the model\n",
    "            output = model(data)\n",
    "            # calculate the batch loss\n",
    "            loss = criterion(output, target)\n",
    "            # backward pass: compute gradient of the loss with respect to model parameters\n",
    "            loss.backward()\n",
    "            # perform a single optimization step (parameter update)\n",
    "            optimizer.step()\n",
    "            # update training loss\n",
    "            train_loss += loss.item()*data.size(0)\n",
    "\n",
    "        ######################    \n",
    "        # validate the model #\n",
    "        ######################\n",
    "        # set the model to evaluation mode\n",
    "        model.eval()\n",
    "        for batch_idx, (data, target) in enumerate(loaders['valid']):\n",
    "            # move to GPU\n",
    "            if use_cuda:\n",
    "                data, target = data.cuda(), target.cuda()\n",
    "\n",
    "            ## TODO: update average validation loss \n",
    "            # forward pass: compute predicted outputs by passing inputs to the model\n",
    "            output = model(data)\n",
    "            # calculate the batch loss\n",
    "            loss = criterion(output, target)\n",
    "            # update average validation loss \n",
    "            valid_loss += loss.item()*data.size(0)\n",
    "\n",
    "        # calculate average losses\n",
    "        train_loss = train_loss/len(train_loader.sampler)\n",
    "        valid_loss = valid_loss/len(valid_loader.sampler)\n",
    "\n",
    "        # print training/validation statistics \n",
    "        print('Epoch: {} \\tTraining Loss: {:.6f} \\tValidation Loss: {:.6f}'.format(\n",
    "            epoch, train_loss, valid_loss))\n",
    "\n",
    "        ## TODO: if the validation loss has decreased, save the model at the filepath stored in save_path\n",
    "        if valid_loss <= valid_loss_min:\n",
    "            print('Validation loss decreased ({:.6f} --> {:.6f}).  Saving model ...'.format(\n",
    "            valid_loss_min,\n",
    "            valid_loss))\n",
    "            torch.save(model.state_dict(), save_path)\n",
    "            valid_loss_min = valid_loss\n",
    "\n",
    "    return model"
   ]
  },
  {
   "cell_type": "markdown",
   "metadata": {},
   "source": [
    "### (IMPLEMENTATION) Experiment with the Weight Initialization\n",
    "\n",
    "Use the code cell below to define a custom weight initialization, and then train with your weight initialization for a few epochs. Make sure that neither the training loss nor validation loss is `nan`.\n",
    "\n",
    "Later on, you will be able to see how this compares to training with PyTorch's default weight initialization."
   ]
  },
  {
   "cell_type": "code",
   "execution_count": 9,
   "metadata": {},
   "outputs": [
    {
     "name": "stderr",
     "output_type": "stream",
     "text": [
      "C:\\Users\\felip\\Anaconda3\\lib\\site-packages\\torch\\nn\\functional.py:718: UserWarning: Named tensors and all their associated APIs are an experimental feature and subject to change. Please do not use them for anything important until they are released as stable. (Triggered internally at  ..\\c10/core/TensorImpl.h:1156.)\n",
      "  return torch.max_pool2d(input, kernel_size, stride, padding, dilation, ceil_mode)\n"
     ]
    },
    {
     "name": "stdout",
     "output_type": "stream",
     "text": [
      "Epoch: 1 \tTraining Loss: 7.055170 \tValidation Loss: 3.913386\n",
      "Validation loss decreased (inf --> 3.913386).  Saving model ...\n",
      "Epoch: 2 \tTraining Loss: 3.912285 \tValidation Loss: 3.914000\n",
      "Epoch: 3 \tTraining Loss: 3.912067 \tValidation Loss: 3.914533\n",
      "Epoch: 4 \tTraining Loss: 3.911997 \tValidation Loss: 3.914873\n",
      "Epoch: 5 \tTraining Loss: 3.911730 \tValidation Loss: 3.915404\n",
      "Epoch: 6 \tTraining Loss: 3.911584 \tValidation Loss: 3.915970\n",
      "Epoch: 7 \tTraining Loss: 3.911682 \tValidation Loss: 3.916337\n",
      "Epoch: 8 \tTraining Loss: 3.911739 \tValidation Loss: 3.916603\n",
      "Epoch: 9 \tTraining Loss: 3.911617 \tValidation Loss: 3.916849\n",
      "Epoch: 10 \tTraining Loss: 3.911254 \tValidation Loss: 3.917355\n",
      "Epoch: 11 \tTraining Loss: 3.911427 \tValidation Loss: 3.917667\n",
      "Epoch: 12 \tTraining Loss: 3.911745 \tValidation Loss: 3.917591\n",
      "Epoch: 13 \tTraining Loss: 3.911468 \tValidation Loss: 3.917828\n",
      "Epoch: 14 \tTraining Loss: 3.911350 \tValidation Loss: 3.918042\n",
      "Epoch: 15 \tTraining Loss: 3.911106 \tValidation Loss: 3.918475\n",
      "Epoch: 16 \tTraining Loss: 3.911451 \tValidation Loss: 3.918529\n",
      "Epoch: 17 \tTraining Loss: 3.911012 \tValidation Loss: 3.918999\n",
      "Epoch: 18 \tTraining Loss: 3.911461 \tValidation Loss: 3.919009\n",
      "Epoch: 19 \tTraining Loss: 3.911382 \tValidation Loss: 3.919007\n",
      "Epoch: 20 \tTraining Loss: 3.911426 \tValidation Loss: 3.919008\n"
     ]
    }
   ],
   "source": [
    "def custom_weight_init(m):\n",
    "    ## TODO: implement a weight initialization strategy\n",
    "    classname = m.__class__.__name__\n",
    "    # for every Linear layer in a model..\n",
    "    if classname.find('Linear') != -1:\n",
    "        # apply a uniform distribution to the weights and a bias=0\n",
    "        m.weight.data.uniform_(0.0, 1.0)\n",
    "        m.bias.data.fill_(0)\n",
    "\n",
    "#-#-# Do NOT modify the code below this line. #-#-#\n",
    "\n",
    "model_scratch.apply(custom_weight_init)\n",
    "model_scratch = train(20, loaders_scratch, model_scratch, get_optimizer_scratch(model_scratch),\n",
    "                      criterion_scratch, use_cuda, 'ignore.pt')"
   ]
  },
  {
   "cell_type": "markdown",
   "metadata": {},
   "source": [
    "### (IMPLEMENTATION) Train and Validate the Model\n",
    "\n",
    "Run the next code cell to train your model."
   ]
  },
  {
   "cell_type": "code",
   "execution_count": 10,
   "metadata": {},
   "outputs": [
    {
     "name": "stdout",
     "output_type": "stream",
     "text": [
      "Epoch: 1 \tTraining Loss: 3.912700 \tValidation Loss: 3.912396\n",
      "Validation loss decreased (inf --> 3.912396).  Saving model ...\n",
      "Epoch: 2 \tTraining Loss: 3.911577 \tValidation Loss: 3.912215\n",
      "Validation loss decreased (3.912396 --> 3.912215).  Saving model ...\n",
      "Epoch: 3 \tTraining Loss: 3.909989 \tValidation Loss: 3.911879\n",
      "Validation loss decreased (3.912215 --> 3.911879).  Saving model ...\n",
      "Epoch: 4 \tTraining Loss: 3.908041 \tValidation Loss: 3.910574\n",
      "Validation loss decreased (3.911879 --> 3.910574).  Saving model ...\n",
      "Epoch: 5 \tTraining Loss: 3.904981 \tValidation Loss: 3.907387\n",
      "Validation loss decreased (3.910574 --> 3.907387).  Saving model ...\n",
      "Epoch: 6 \tTraining Loss: 3.899117 \tValidation Loss: 3.901276\n",
      "Validation loss decreased (3.907387 --> 3.901276).  Saving model ...\n",
      "Epoch: 7 \tTraining Loss: 3.888694 \tValidation Loss: 3.891005\n",
      "Validation loss decreased (3.901276 --> 3.891005).  Saving model ...\n",
      "Epoch: 8 \tTraining Loss: 3.875697 \tValidation Loss: 3.879709\n",
      "Validation loss decreased (3.891005 --> 3.879709).  Saving model ...\n",
      "Epoch: 9 \tTraining Loss: 3.863694 \tValidation Loss: 3.864476\n",
      "Validation loss decreased (3.879709 --> 3.864476).  Saving model ...\n",
      "Epoch: 10 \tTraining Loss: 3.840710 \tValidation Loss: 3.838543\n",
      "Validation loss decreased (3.864476 --> 3.838543).  Saving model ...\n",
      "Epoch: 11 \tTraining Loss: 3.810115 \tValidation Loss: 3.789457\n",
      "Validation loss decreased (3.838543 --> 3.789457).  Saving model ...\n",
      "Epoch: 12 \tTraining Loss: 3.765623 \tValidation Loss: 3.738085\n",
      "Validation loss decreased (3.789457 --> 3.738085).  Saving model ...\n",
      "Epoch: 13 \tTraining Loss: 3.734512 \tValidation Loss: 3.723983\n",
      "Validation loss decreased (3.738085 --> 3.723983).  Saving model ...\n",
      "Epoch: 14 \tTraining Loss: 3.715959 \tValidation Loss: 3.708166\n",
      "Validation loss decreased (3.723983 --> 3.708166).  Saving model ...\n",
      "Epoch: 15 \tTraining Loss: 3.702045 \tValidation Loss: 3.692346\n",
      "Validation loss decreased (3.708166 --> 3.692346).  Saving model ...\n",
      "Epoch: 16 \tTraining Loss: 3.677874 \tValidation Loss: 3.682922\n",
      "Validation loss decreased (3.692346 --> 3.682922).  Saving model ...\n",
      "Epoch: 17 \tTraining Loss: 3.665836 \tValidation Loss: 3.657205\n",
      "Validation loss decreased (3.682922 --> 3.657205).  Saving model ...\n",
      "Epoch: 18 \tTraining Loss: 3.653843 \tValidation Loss: 3.648473\n",
      "Validation loss decreased (3.657205 --> 3.648473).  Saving model ...\n",
      "Epoch: 19 \tTraining Loss: 3.632907 \tValidation Loss: 3.628774\n",
      "Validation loss decreased (3.648473 --> 3.628774).  Saving model ...\n",
      "Epoch: 20 \tTraining Loss: 3.620524 \tValidation Loss: 3.622879\n",
      "Validation loss decreased (3.628774 --> 3.622879).  Saving model ...\n",
      "Epoch: 21 \tTraining Loss: 3.604673 \tValidation Loss: 3.596968\n",
      "Validation loss decreased (3.622879 --> 3.596968).  Saving model ...\n",
      "Epoch: 22 \tTraining Loss: 3.570718 \tValidation Loss: 3.573863\n",
      "Validation loss decreased (3.596968 --> 3.573863).  Saving model ...\n",
      "Epoch: 23 \tTraining Loss: 3.554066 \tValidation Loss: 3.541852\n",
      "Validation loss decreased (3.573863 --> 3.541852).  Saving model ...\n",
      "Epoch: 24 \tTraining Loss: 3.515161 \tValidation Loss: 3.547004\n",
      "Epoch: 25 \tTraining Loss: 3.487815 \tValidation Loss: 3.515417\n",
      "Validation loss decreased (3.541852 --> 3.515417).  Saving model ...\n",
      "Epoch: 26 \tTraining Loss: 3.468388 \tValidation Loss: 3.492846\n",
      "Validation loss decreased (3.515417 --> 3.492846).  Saving model ...\n",
      "Epoch: 27 \tTraining Loss: 3.432093 \tValidation Loss: 3.447794\n",
      "Validation loss decreased (3.492846 --> 3.447794).  Saving model ...\n",
      "Epoch: 28 \tTraining Loss: 3.400327 \tValidation Loss: 3.432572\n",
      "Validation loss decreased (3.447794 --> 3.432572).  Saving model ...\n",
      "Epoch: 29 \tTraining Loss: 3.367368 \tValidation Loss: 3.422171\n",
      "Validation loss decreased (3.432572 --> 3.422171).  Saving model ...\n",
      "Epoch: 30 \tTraining Loss: 3.340932 \tValidation Loss: 3.390285\n",
      "Validation loss decreased (3.422171 --> 3.390285).  Saving model ...\n",
      "Epoch: 31 \tTraining Loss: 3.309275 \tValidation Loss: 3.375024\n",
      "Validation loss decreased (3.390285 --> 3.375024).  Saving model ...\n",
      "Epoch: 32 \tTraining Loss: 3.296506 \tValidation Loss: 3.400498\n",
      "Epoch: 33 \tTraining Loss: 3.267142 \tValidation Loss: 3.352498\n",
      "Validation loss decreased (3.375024 --> 3.352498).  Saving model ...\n",
      "Epoch: 34 \tTraining Loss: 3.236420 \tValidation Loss: 3.335090\n",
      "Validation loss decreased (3.352498 --> 3.335090).  Saving model ...\n",
      "Epoch: 35 \tTraining Loss: 3.219595 \tValidation Loss: 3.347944\n",
      "Epoch: 36 \tTraining Loss: 3.195345 \tValidation Loss: 3.306184\n",
      "Validation loss decreased (3.335090 --> 3.306184).  Saving model ...\n",
      "Epoch: 37 \tTraining Loss: 3.178190 \tValidation Loss: 3.263011\n",
      "Validation loss decreased (3.306184 --> 3.263011).  Saving model ...\n",
      "Epoch: 38 \tTraining Loss: 3.149943 \tValidation Loss: 3.257373\n",
      "Validation loss decreased (3.263011 --> 3.257373).  Saving model ...\n",
      "Epoch: 39 \tTraining Loss: 3.123414 \tValidation Loss: 3.261161\n",
      "Epoch: 40 \tTraining Loss: 3.102378 \tValidation Loss: 3.254559\n",
      "Validation loss decreased (3.257373 --> 3.254559).  Saving model ...\n",
      "Epoch: 41 \tTraining Loss: 3.063168 \tValidation Loss: 3.212922\n",
      "Validation loss decreased (3.254559 --> 3.212922).  Saving model ...\n",
      "Epoch: 42 \tTraining Loss: 3.040460 \tValidation Loss: 3.207855\n",
      "Validation loss decreased (3.212922 --> 3.207855).  Saving model ...\n",
      "Epoch: 43 \tTraining Loss: 3.032259 \tValidation Loss: 3.208246\n",
      "Epoch: 44 \tTraining Loss: 2.983680 \tValidation Loss: 3.260030\n",
      "Epoch: 45 \tTraining Loss: 2.975339 \tValidation Loss: 3.188282\n",
      "Validation loss decreased (3.207855 --> 3.188282).  Saving model ...\n",
      "Epoch: 46 \tTraining Loss: 2.940634 \tValidation Loss: 3.205413\n",
      "Epoch: 47 \tTraining Loss: 2.923560 \tValidation Loss: 3.197562\n",
      "Epoch: 48 \tTraining Loss: 2.886419 \tValidation Loss: 3.178399\n",
      "Validation loss decreased (3.188282 --> 3.178399).  Saving model ...\n",
      "Epoch: 49 \tTraining Loss: 2.890902 \tValidation Loss: 3.146157\n",
      "Validation loss decreased (3.178399 --> 3.146157).  Saving model ...\n",
      "Epoch: 50 \tTraining Loss: 2.857831 \tValidation Loss: 3.160103\n",
      "Epoch: 51 \tTraining Loss: 2.822189 \tValidation Loss: 3.132594\n",
      "Validation loss decreased (3.146157 --> 3.132594).  Saving model ...\n",
      "Epoch: 52 \tTraining Loss: 2.800094 \tValidation Loss: 3.159581\n",
      "Epoch: 53 \tTraining Loss: 2.783041 \tValidation Loss: 3.156749\n",
      "Epoch: 54 \tTraining Loss: 2.743145 \tValidation Loss: 3.201071\n",
      "Epoch: 55 \tTraining Loss: 2.710577 \tValidation Loss: 3.112257\n",
      "Validation loss decreased (3.132594 --> 3.112257).  Saving model ...\n",
      "Epoch: 56 \tTraining Loss: 2.685940 \tValidation Loss: 3.117349\n",
      "Epoch: 57 \tTraining Loss: 2.652638 \tValidation Loss: 3.139755\n",
      "Epoch: 58 \tTraining Loss: 2.619800 \tValidation Loss: 3.136777\n",
      "Epoch: 59 \tTraining Loss: 2.597108 \tValidation Loss: 3.133433\n",
      "Epoch: 60 \tTraining Loss: 2.575371 \tValidation Loss: 3.162277\n",
      "Epoch: 61 \tTraining Loss: 2.542815 \tValidation Loss: 3.114153\n",
      "Epoch: 62 \tTraining Loss: 2.510552 \tValidation Loss: 3.102390\n",
      "Validation loss decreased (3.112257 --> 3.102390).  Saving model ...\n",
      "Epoch: 63 \tTraining Loss: 2.488729 \tValidation Loss: 3.115863\n",
      "Epoch: 64 \tTraining Loss: 2.454876 \tValidation Loss: 3.109999\n",
      "Epoch: 65 \tTraining Loss: 2.383598 \tValidation Loss: 3.148685\n",
      "Epoch: 66 \tTraining Loss: 2.388315 \tValidation Loss: 3.116677\n",
      "Epoch: 67 \tTraining Loss: 2.338023 \tValidation Loss: 3.180595\n",
      "Epoch: 68 \tTraining Loss: 2.308096 \tValidation Loss: 3.162419\n",
      "Epoch: 69 \tTraining Loss: 2.300845 \tValidation Loss: 3.192270\n",
      "Epoch: 70 \tTraining Loss: 2.245246 \tValidation Loss: 3.194985\n",
      "Epoch: 71 \tTraining Loss: 2.208984 \tValidation Loss: 3.227820\n",
      "Epoch: 72 \tTraining Loss: 2.177465 \tValidation Loss: 3.224796\n",
      "Epoch: 73 \tTraining Loss: 2.146396 \tValidation Loss: 3.169807\n",
      "Epoch: 74 \tTraining Loss: 2.112523 \tValidation Loss: 3.202382\n",
      "Epoch: 75 \tTraining Loss: 2.104309 \tValidation Loss: 3.240588\n",
      "Epoch: 76 \tTraining Loss: 2.045365 \tValidation Loss: 3.303773\n",
      "Epoch: 77 \tTraining Loss: 2.005990 \tValidation Loss: 3.288824\n",
      "Epoch: 78 \tTraining Loss: 1.975204 \tValidation Loss: 3.295229\n",
      "Epoch: 79 \tTraining Loss: 1.920566 \tValidation Loss: 3.289998\n",
      "Epoch: 80 \tTraining Loss: 1.901854 \tValidation Loss: 3.306701\n",
      "Epoch: 81 \tTraining Loss: 1.863260 \tValidation Loss: 3.321214\n",
      "Epoch: 82 \tTraining Loss: 1.799687 \tValidation Loss: 3.433500\n",
      "Epoch: 83 \tTraining Loss: 1.810941 \tValidation Loss: 3.378621\n",
      "Epoch: 84 \tTraining Loss: 1.758939 \tValidation Loss: 3.413293\n"
     ]
    },
    {
     "name": "stdout",
     "output_type": "stream",
     "text": [
      "Epoch: 85 \tTraining Loss: 1.725157 \tValidation Loss: 3.416640\n",
      "Epoch: 86 \tTraining Loss: 1.693318 \tValidation Loss: 3.478091\n",
      "Epoch: 87 \tTraining Loss: 1.657928 \tValidation Loss: 3.556761\n",
      "Epoch: 88 \tTraining Loss: 1.639296 \tValidation Loss: 3.471965\n",
      "Epoch: 89 \tTraining Loss: 1.606480 \tValidation Loss: 3.585048\n",
      "Epoch: 90 \tTraining Loss: 1.593846 \tValidation Loss: 3.537352\n",
      "Epoch: 91 \tTraining Loss: 1.545552 \tValidation Loss: 3.500699\n",
      "Epoch: 92 \tTraining Loss: 1.529547 \tValidation Loss: 3.521186\n",
      "Epoch: 93 \tTraining Loss: 1.456871 \tValidation Loss: 3.556515\n",
      "Epoch: 94 \tTraining Loss: 1.448711 \tValidation Loss: 3.622379\n",
      "Epoch: 95 \tTraining Loss: 1.431307 \tValidation Loss: 3.622657\n",
      "Epoch: 96 \tTraining Loss: 1.406292 \tValidation Loss: 3.756511\n",
      "Epoch: 97 \tTraining Loss: 1.387991 \tValidation Loss: 3.684525\n",
      "Epoch: 98 \tTraining Loss: 1.340053 \tValidation Loss: 3.811413\n",
      "Epoch: 99 \tTraining Loss: 1.304459 \tValidation Loss: 3.705581\n",
      "Epoch: 100 \tTraining Loss: 1.261335 \tValidation Loss: 3.855064\n"
     ]
    }
   ],
   "source": [
    "## TODO: you may change the number of epochs if you'd like,\n",
    "## but changing it is not required\n",
    "num_epochs = 100\n",
    "\n",
    "#-#-# Do NOT modify the code below this line. #-#-#\n",
    "\n",
    "# function to re-initialize a model with pytorch's default weight initialization\n",
    "def default_weight_init(m):\n",
    "    reset_parameters = getattr(m, 'reset_parameters', None)\n",
    "    if callable(reset_parameters):\n",
    "        m.reset_parameters()\n",
    "\n",
    "# reset the model parameters\n",
    "model_scratch.apply(default_weight_init)\n",
    "\n",
    "# train the model\n",
    "model_scratch = train(num_epochs, loaders_scratch, model_scratch, get_optimizer_scratch(model_scratch), \n",
    "                      criterion_scratch, use_cuda, 'model_scratch.pt')"
   ]
  },
  {
   "cell_type": "markdown",
   "metadata": {},
   "source": [
    "### (IMPLEMENTATION) Test the Model\n",
    "\n",
    "Run the code cell below to try out your model on the test dataset of landmark images. Run the code cell below to calculate and print the test loss and accuracy.  Ensure that your test accuracy is greater than 20%."
   ]
  },
  {
   "cell_type": "code",
   "execution_count": 9,
   "metadata": {},
   "outputs": [
    {
     "name": "stderr",
     "output_type": "stream",
     "text": [
      "C:\\Users\\felip\\Anaconda3\\lib\\site-packages\\torch\\nn\\functional.py:718: UserWarning: Named tensors and all their associated APIs are an experimental feature and subject to change. Please do not use them for anything important until they are released as stable. (Triggered internally at  ..\\c10/core/TensorImpl.h:1156.)\n",
      "  return torch.max_pool2d(input, kernel_size, stride, padding, dilation, ceil_mode)\n"
     ]
    },
    {
     "name": "stdout",
     "output_type": "stream",
     "text": [
      "Test Loss: 3.113921\n",
      "\n",
      "\n",
      "Test Accuracy: 24% (310/1250)\n"
     ]
    }
   ],
   "source": [
    "def test(loaders, model, criterion, use_cuda):\n",
    "\n",
    "    # monitor test loss and accuracy\n",
    "    test_loss = 0.\n",
    "    correct = 0.\n",
    "    total = 0.\n",
    "\n",
    "    # set the module to evaluation mode\n",
    "    model.eval()\n",
    "\n",
    "    for batch_idx, (data, target) in enumerate(loaders['test']):\n",
    "        # move to GPU\n",
    "        if use_cuda:\n",
    "            data, target = data.cuda(), target.cuda()\n",
    "        # forward pass: compute predicted outputs by passing inputs to the model\n",
    "        output = model(data)\n",
    "        # calculate the loss\n",
    "        loss = criterion(output, target)\n",
    "        # update average test loss \n",
    "        test_loss = test_loss + ((1 / (batch_idx + 1)) * (loss.data.item() - test_loss))\n",
    "        # convert output probabilities to predicted class\n",
    "        pred = output.data.max(1, keepdim=True)[1]\n",
    "        # compare predictions to true label\n",
    "        correct += np.sum(np.squeeze(pred.eq(target.data.view_as(pred))).cpu().numpy())\n",
    "        total += data.size(0)\n",
    "\n",
    "    print('Test Loss: {:.6f}\\n'.format(test_loss))\n",
    "\n",
    "    print('\\nTest Accuracy: %2d%% (%2d/%2d)' % (\n",
    "        100. * correct / total, correct, total))\n",
    "\n",
    "# load the model that got the best validation accuracy\n",
    "model_scratch.load_state_dict(torch.load('model_scratch.pt'))\n",
    "test(loaders_scratch, model_scratch, criterion_scratch, use_cuda)"
   ]
  },
  {
   "cell_type": "markdown",
   "metadata": {},
   "source": [
    "---\n",
    "<a id='step2'></a>\n",
    "## Step 2: Create a CNN to Classify Landmarks (using Transfer Learning)\n",
    "\n",
    "You will now use transfer learning to create a CNN that can identify landmarks from images.  Your CNN must attain at least 60% accuracy on the test set.\n",
    "\n",
    "### (IMPLEMENTATION) Specify Data Loaders for the Landmark Dataset\n",
    "\n",
    "Use the code cell below to create three separate [data loaders](http://pytorch.org/docs/stable/data.html#torch.utils.data.DataLoader): one for training data, one for validation data, and one for test data. Randomly split the images located at `landmark_images/train` to create the train and validation data loaders, and use the images located at `landmark_images/test` to create the test data loader.\n",
    "\n",
    "All three of your data loaders should be accessible via a dictionary named `loaders_transfer`. Your train data loader should be at `loaders_transfer['train']`, your validation data loader should be at `loaders_transfer['valid']`, and your test data loader should be at `loaders_transfer['test']`.\n",
    "\n",
    "If you like, **you are welcome to use the same data loaders from the previous step**, when you created a CNN from scratch."
   ]
  },
  {
   "cell_type": "code",
   "execution_count": 21,
   "metadata": {},
   "outputs": [],
   "source": [
    "### TODO: Write data loaders for training, validation, and test sets\n",
    "## Specify appropriate transforms, and batch_sizes\n",
    "# VGG-16 Takes 224x224 images as input, so we resize all of them\n",
    "data_train_transform = transforms.Compose([transforms.RandomResizedCrop(224), \n",
    "                                     transforms.ToTensor(),\n",
    "                                     transforms.Normalize((0.5, 0.5, 0.5), (0.5, 0.5, 0.5))])\n",
    "\n",
    "data_test_transform = transforms.Compose([transforms.Resize(224), \n",
    "                                     transforms.ToTensor(),\n",
    "                                     transforms.Normalize((0.5, 0.5, 0.5), (0.5, 0.5, 0.5))])\n",
    "\n",
    "# choose the training and test datasets\n",
    "train_data = datasets.ImageFolder('landmark_images/train', transform=data_train_transform)\n",
    "test_data = datasets.ImageFolder('landmark_images/test', data_test_transform=data_transform)\n",
    "\n",
    "# obtain training indices that will be used for validation\n",
    "num_train = len(train_data)\n",
    "indices = list(range(num_train))\n",
    "np.random.shuffle(indices)\n",
    "split = int(np.floor(valid_size * num_train))\n",
    "train_idx, valid_idx = indices[split:], indices[:split]\n",
    "\n",
    "# define samplers for obtaining training and validation batches\n",
    "train_sampler = SubsetRandomSampler(train_idx)\n",
    "valid_sampler = SubsetRandomSampler(valid_idx)\n",
    "\n",
    "# prepare data loaders\n",
    "# prepare data loaders (combine dataset and sampler)\n",
    "train_loader = torch.utils.data.DataLoader(train_data, batch_size=batch_size,\n",
    "    sampler=train_sampler, num_workers=num_workers)\n",
    "valid_loader = torch.utils.data.DataLoader(train_data, batch_size=batch_size, \n",
    "    sampler=valid_sampler, num_workers=num_workers)\n",
    "test_loader = torch.utils.data.DataLoader(test_data, batch_size=batch_size, \n",
    "    num_workers=num_workers)\n",
    "loaders_transfer = {'train': train_loader, 'valid': valid_loader, 'test': test_loader}"
   ]
  },
  {
   "cell_type": "markdown",
   "metadata": {},
   "source": [
    "### (IMPLEMENTATION) Specify Loss Function and Optimizer\n",
    "\n",
    "Use the next code cell to specify a [loss function](http://pytorch.org/docs/stable/nn.html#loss-functions) and [optimizer](http://pytorch.org/docs/stable/optim.html).  Save the chosen loss function as `criterion_transfer`, and fill in the function `get_optimizer_transfer` below."
   ]
  },
  {
   "cell_type": "code",
   "execution_count": 11,
   "metadata": {},
   "outputs": [],
   "source": [
    "## TODO: select loss function\n",
    "criterion_transfer = nn.CrossEntropyLoss()\n",
    "\n",
    "def get_optimizer_transfer(model):\n",
    "    ## TODO: select and return optimizer\n",
    "    optimizer = optim.SGD(model.classifier.parameters(), lr=0.001)\n",
    "\n",
    "    return optimizer "
   ]
  },
  {
   "cell_type": "markdown",
   "metadata": {},
   "source": [
    "### (IMPLEMENTATION) Model Architecture\n",
    "\n",
    "Use transfer learning to create a CNN to classify images of landmarks.  Use the code cell below, and save your initialized model as the variable `model_transfer`."
   ]
  },
  {
   "cell_type": "code",
   "execution_count": 12,
   "metadata": {},
   "outputs": [
    {
     "name": "stdout",
     "output_type": "stream",
     "text": [
      "VGG(\n",
      "  (features): Sequential(\n",
      "    (0): Conv2d(3, 64, kernel_size=(3, 3), stride=(1, 1), padding=(1, 1))\n",
      "    (1): ReLU(inplace=True)\n",
      "    (2): Conv2d(64, 64, kernel_size=(3, 3), stride=(1, 1), padding=(1, 1))\n",
      "    (3): ReLU(inplace=True)\n",
      "    (4): MaxPool2d(kernel_size=2, stride=2, padding=0, dilation=1, ceil_mode=False)\n",
      "    (5): Conv2d(64, 128, kernel_size=(3, 3), stride=(1, 1), padding=(1, 1))\n",
      "    (6): ReLU(inplace=True)\n",
      "    (7): Conv2d(128, 128, kernel_size=(3, 3), stride=(1, 1), padding=(1, 1))\n",
      "    (8): ReLU(inplace=True)\n",
      "    (9): MaxPool2d(kernel_size=2, stride=2, padding=0, dilation=1, ceil_mode=False)\n",
      "    (10): Conv2d(128, 256, kernel_size=(3, 3), stride=(1, 1), padding=(1, 1))\n",
      "    (11): ReLU(inplace=True)\n",
      "    (12): Conv2d(256, 256, kernel_size=(3, 3), stride=(1, 1), padding=(1, 1))\n",
      "    (13): ReLU(inplace=True)\n",
      "    (14): Conv2d(256, 256, kernel_size=(3, 3), stride=(1, 1), padding=(1, 1))\n",
      "    (15): ReLU(inplace=True)\n",
      "    (16): MaxPool2d(kernel_size=2, stride=2, padding=0, dilation=1, ceil_mode=False)\n",
      "    (17): Conv2d(256, 512, kernel_size=(3, 3), stride=(1, 1), padding=(1, 1))\n",
      "    (18): ReLU(inplace=True)\n",
      "    (19): Conv2d(512, 512, kernel_size=(3, 3), stride=(1, 1), padding=(1, 1))\n",
      "    (20): ReLU(inplace=True)\n",
      "    (21): Conv2d(512, 512, kernel_size=(3, 3), stride=(1, 1), padding=(1, 1))\n",
      "    (22): ReLU(inplace=True)\n",
      "    (23): MaxPool2d(kernel_size=2, stride=2, padding=0, dilation=1, ceil_mode=False)\n",
      "    (24): Conv2d(512, 512, kernel_size=(3, 3), stride=(1, 1), padding=(1, 1))\n",
      "    (25): ReLU(inplace=True)\n",
      "    (26): Conv2d(512, 512, kernel_size=(3, 3), stride=(1, 1), padding=(1, 1))\n",
      "    (27): ReLU(inplace=True)\n",
      "    (28): Conv2d(512, 512, kernel_size=(3, 3), stride=(1, 1), padding=(1, 1))\n",
      "    (29): ReLU(inplace=True)\n",
      "    (30): MaxPool2d(kernel_size=2, stride=2, padding=0, dilation=1, ceil_mode=False)\n",
      "  )\n",
      "  (avgpool): AdaptiveAvgPool2d(output_size=(7, 7))\n",
      "  (classifier): Sequential(\n",
      "    (0): Linear(in_features=25088, out_features=4096, bias=True)\n",
      "    (1): ReLU(inplace=True)\n",
      "    (2): Dropout(p=0.5, inplace=False)\n",
      "    (3): Linear(in_features=4096, out_features=4096, bias=True)\n",
      "    (4): ReLU(inplace=True)\n",
      "    (5): Dropout(p=0.5, inplace=False)\n",
      "    (6): Linear(in_features=4096, out_features=1000, bias=True)\n",
      "  )\n",
      ")\n",
      "50\n"
     ]
    }
   ],
   "source": [
    "## TODO: Specify model architecture\n",
    "\n",
    "model_transfer = models.vgg16(pretrained=True)\n",
    "\n",
    "print(model_transfer)\n",
    "\n",
    "# Freeze training for all \"features\" layers\n",
    "for param in model_transfer.features.parameters():\n",
    "    param.requires_grad = False\n",
    "\n",
    "n_inputs = model_transfer.classifier[6].in_features\n",
    "\n",
    "# add last linear layer (n_inputs -> 50 landscapes classes)\n",
    "# new layers automatically have requires_grad = True\n",
    "last_layer = nn.Linear(n_inputs, len(classes))\n",
    "\n",
    "model_transfer.classifier[6] = last_layer\n",
    "\n",
    "# check to see that your last layer produces the expected number of outputs\n",
    "print(model_transfer.classifier[6].out_features)    \n",
    "\n",
    "#-#-# Do NOT modify the code below this line. #-#-#\n",
    "\n",
    "if use_cuda:\n",
    "    model_transfer = model_transfer.cuda()"
   ]
  },
  {
   "cell_type": "markdown",
   "metadata": {},
   "source": [
    "__Question 3:__ Outline the steps you took to get to your final CNN architecture and your reasoning at each step.  Describe why you think the architecture is suitable for the current problem."
   ]
  },
  {
   "cell_type": "markdown",
   "metadata": {},
   "source": [
    "__Answer:__  \n",
    "\n",
    "As I still using the lectures to implement these project, I used VGG16 as my pre-treined model.\n",
    "\n",
    "* So, to do that, VGG16 takes 224x224 input, so it was changed in the transformation part when loading data. The other parts remains the same\n",
    "* I also kept criterion and optimizer the same, as long as I think it's ok to this problem\n",
    "* Then, freeze all vgg16 trained layers and insert a new one full conected layer with the 50 necessary outputs"
   ]
  },
  {
   "cell_type": "markdown",
   "metadata": {},
   "source": [
    "### (IMPLEMENTATION) Train and Validate the Model\n",
    "\n",
    "Train and validate your model in the code cell below.  [Save the final model parameters](http://pytorch.org/docs/master/notes/serialization.html) at filepath `'model_transfer.pt'`."
   ]
  },
  {
   "cell_type": "code",
   "execution_count": 18,
   "metadata": {},
   "outputs": [
    {
     "name": "stdout",
     "output_type": "stream",
     "text": [
      "Epoch: 1 \tTraining Loss: 3.670235 \tValidation Loss: 3.256862\n",
      "Validation loss decreased (inf --> 3.256862).  Saving model ...\n",
      "Epoch: 2 \tTraining Loss: 3.050231 \tValidation Loss: 2.742913\n",
      "Validation loss decreased (3.256862 --> 2.742913).  Saving model ...\n",
      "Epoch: 3 \tTraining Loss: 2.607074 \tValidation Loss: 2.366817\n",
      "Validation loss decreased (2.742913 --> 2.366817).  Saving model ...\n",
      "Epoch: 4 \tTraining Loss: 2.252780 \tValidation Loss: 2.037691\n",
      "Validation loss decreased (2.366817 --> 2.037691).  Saving model ...\n",
      "Epoch: 5 \tTraining Loss: 2.030574 \tValidation Loss: 1.885533\n",
      "Validation loss decreased (2.037691 --> 1.885533).  Saving model ...\n",
      "Epoch: 6 \tTraining Loss: 1.862606 \tValidation Loss: 1.762730\n",
      "Validation loss decreased (1.885533 --> 1.762730).  Saving model ...\n",
      "Epoch: 7 \tTraining Loss: 1.751740 \tValidation Loss: 1.677915\n",
      "Validation loss decreased (1.762730 --> 1.677915).  Saving model ...\n",
      "Epoch: 8 \tTraining Loss: 1.681612 \tValidation Loss: 1.562548\n",
      "Validation loss decreased (1.677915 --> 1.562548).  Saving model ...\n",
      "Epoch: 9 \tTraining Loss: 1.607277 \tValidation Loss: 1.525251\n",
      "Validation loss decreased (1.562548 --> 1.525251).  Saving model ...\n",
      "Epoch: 10 \tTraining Loss: 1.582150 \tValidation Loss: 1.505866\n",
      "Validation loss decreased (1.525251 --> 1.505866).  Saving model ...\n"
     ]
    },
    {
     "data": {
      "text/plain": [
       "<All keys matched successfully>"
      ]
     },
     "execution_count": 18,
     "metadata": {},
     "output_type": "execute_result"
    }
   ],
   "source": [
    "# TODO: train the model and save the best model parameters at filepath 'model_transfer.pt'\n",
    "\n",
    "num_epochs = 10\n",
    "\n",
    "model_transfer = train(num_epochs, loaders_transfer, model_transfer, get_optimizer_transfer(model_transfer), \n",
    "                      criterion_transfer, use_cuda, 'model_transfer.pt')\n",
    "#-#-# Do NOT modify the code below this line. #-#-#\n",
    "\n",
    "# load the model that got the best validation accuracy\n",
    "model_transfer.load_state_dict(torch.load('model_transfer.pt'))"
   ]
  },
  {
   "cell_type": "markdown",
   "metadata": {},
   "source": [
    "### (IMPLEMENTATION) Test the Model\n",
    "\n",
    "Try out your model on the test dataset of landmark images. Use the code cell below to calculate and print the test loss and accuracy.  Ensure that your test accuracy is greater than 60%."
   ]
  },
  {
   "cell_type": "code",
   "execution_count": 14,
   "metadata": {},
   "outputs": [
    {
     "data": {
      "text/plain": [
       "<All keys matched successfully>"
      ]
     },
     "execution_count": 14,
     "metadata": {},
     "output_type": "execute_result"
    }
   ],
   "source": [
    "# load the model that got the best validation accuracy\n",
    "model_transfer.load_state_dict(torch.load('model_transfer.pt'))"
   ]
  },
  {
   "cell_type": "code",
   "execution_count": 15,
   "metadata": {},
   "outputs": [
    {
     "name": "stdout",
     "output_type": "stream",
     "text": [
      "Test Loss: 1.373453\n",
      "\n",
      "\n",
      "Test Accuracy: 65% (816/1250)\n"
     ]
    }
   ],
   "source": [
    "test(loaders_transfer, model_transfer, criterion_transfer, use_cuda)"
   ]
  },
  {
   "cell_type": "markdown",
   "metadata": {},
   "source": [
    "---\n",
    "<a id='step3'></a>\n",
    "## Step 3: Write Your Landmark Prediction Algorithm\n",
    "\n",
    "Great job creating your CNN models! Now that you have put in all the hard work of creating accurate classifiers, let's define some functions to make it easy for others to use your classifiers.\n",
    "\n",
    "### (IMPLEMENTATION) Write Your Algorithm, Part 1\n",
    "\n",
    "Implement the function `predict_landmarks`, which accepts a file path to an image and an integer k, and then predicts the **top k most likely landmarks**. You are **required** to use your transfer learned CNN from Step 2 to predict the landmarks.\n",
    "\n",
    "An example of the expected behavior of `predict_landmarks`:\n",
    "```\n",
    ">>> predicted_landmarks = predict_landmarks('example_image.jpg', 3)\n",
    ">>> print(predicted_landmarks)\n",
    "['Golden Gate Bridge', 'Brooklyn Bridge', 'Sydney Harbour Bridge']\n",
    "```"
   ]
  },
  {
   "cell_type": "code",
   "execution_count": 16,
   "metadata": {},
   "outputs": [
    {
     "data": {
      "text/plain": [
       "['Golden_Gate_Bridge',\n",
       " 'Forth_Bridge',\n",
       " 'Brooklyn_Bridge',\n",
       " 'Sydney_Harbour_Bridge',\n",
       " 'Niagara_Falls']"
      ]
     },
     "execution_count": 16,
     "metadata": {},
     "output_type": "execute_result"
    }
   ],
   "source": [
    "import cv2\n",
    "from PIL import Image\n",
    "\n",
    "## the class names can be accessed at the `classes` attribute\n",
    "## of your dataset object (e.g., `train_dataset.classes`)\n",
    "\n",
    "def predict_landmarks(img_path, k):\n",
    "    ## TODO: return the names of the top k landmarks predicted by the transfer learned CNN\n",
    "\n",
    "    data = data_transform(Image.open(img_path))\n",
    "    data.unsqueeze_(0)\n",
    "    \n",
    "    data = data.cuda() if use_cuda else data\n",
    "    model_transfer.eval()\n",
    "    out_data = model_transfer(data)\n",
    "    _, top_k = torch.topk(out_data,k)\n",
    "    top_k = top_k if not use_cuda else top_k.cpu()\n",
    "    results = np.squeeze(np.array(top_k))\n",
    "    predictions =[classes[result] for result in results]\n",
    "    \n",
    "    return predictions\n",
    "\n",
    "# test on a sample image\n",
    "predict_landmarks('images/test/09.Golden_Gate_Bridge/190f3bae17c32c37.jpg', 5)"
   ]
  },
  {
   "cell_type": "markdown",
   "metadata": {},
   "source": [
    "### (IMPLEMENTATION) Write Your Algorithm, Part 2\n",
    "\n",
    "In the code cell below, implement the function `suggest_locations`, which accepts a file path to an image as input, and then displays the image and the **top 3 most likely landmarks** as predicted by `predict_landmarks`.\n",
    "\n",
    "Some sample output for `suggest_locations` is provided below, but feel free to design your own user experience!\n",
    "![](images/sample_landmark_output.png)"
   ]
  },
  {
   "cell_type": "code",
   "execution_count": 17,
   "metadata": {},
   "outputs": [
    {
     "name": "stdout",
     "output_type": "stream",
     "text": [
      " 1º Golden_Gate_Bridge \n",
      " 2º Forth_Bridge \n",
      " 3º Brooklyn_Bridge\n"
     ]
    }
   ],
   "source": [
    "def suggest_locations(img_path):\n",
    "    # get landmark predictions\n",
    "    predicted_landmarks = predict_landmarks(img_path, 3)\n",
    "    \n",
    "    ## TODO: display image and display landmark predictions\n",
    "    \n",
    "    img = Image.open(img_path)\n",
    "    plt.imshow(img)\n",
    "    plt.show()\n",
    "    print(' 1º', predicted_landmarks[0],'\\n', '2º', predicted_landmarks[1],'\\n', '3º',predicted_landmarks[2])\n",
    "\n",
    "# test on a sample image\n",
    "suggest_locations('images/test/09.Golden_Gate_Bridge/190f3bae17c32c37.jpg')"
   ]
  },
  {
   "cell_type": "markdown",
   "metadata": {},
   "source": [
    "### (IMPLEMENTATION) Test Your Algorithm\n",
    "\n",
    "Test your algorithm by running the `suggest_locations` function on at least four images on your computer. Feel free to use any images you like.\n",
    "\n",
    "__Question 4:__ Is the output better than you expected :) ?  Or worse :( ?  Provide at least three possible points of improvement for your algorithm."
   ]
  },
  {
   "cell_type": "markdown",
   "metadata": {},
   "source": [
    "__Answer:__ (Three possible points for improvement)\n",
    "\n",
    "-----------------------------------------------------\n",
    "Worst, but I guess that should be expected.\n",
    "\n",
    "\n",
    "1) More epochs in my training\n",
    "\n",
    "2) Reevaluate the weights of the intire CNN\n",
    "\n",
    "3) Get more examples to use in the train set"
   ]
  },
  {
   "cell_type": "code",
   "execution_count": 35,
   "metadata": {},
   "outputs": [
    {
     "ename": "NameError",
     "evalue": "name 'suggest_locations' is not defined",
     "output_type": "error",
     "traceback": [
      "\u001b[1;31m---------------------------------------------------------------------------\u001b[0m",
      "\u001b[1;31mNameError\u001b[0m                                 Traceback (most recent call last)",
      "\u001b[1;32m<ipython-input-35-8ec3e0631027>\u001b[0m in \u001b[0;36m<module>\u001b[1;34m\u001b[0m\n\u001b[0;32m     11\u001b[0m \u001b[1;32mfor\u001b[0m \u001b[0mnumber\u001b[0m \u001b[1;32min\u001b[0m \u001b[0mchosen\u001b[0m\u001b[1;33m:\u001b[0m\u001b[1;33m\u001b[0m\u001b[1;33m\u001b[0m\u001b[0m\n\u001b[0;32m     12\u001b[0m     \u001b[1;31m#print(filename)\u001b[0m\u001b[1;33m\u001b[0m\u001b[1;33m\u001b[0m\u001b[1;33m\u001b[0m\u001b[0m\n\u001b[1;32m---> 13\u001b[1;33m     \u001b[0msuggest_locations\u001b[0m\u001b[1;33m(\u001b[0m\u001b[0mos\u001b[0m\u001b[1;33m.\u001b[0m\u001b[0mlistdir\u001b[0m\u001b[1;33m(\u001b[0m\u001b[1;34m'predict'\u001b[0m\u001b[1;33m)\u001b[0m\u001b[1;33m[\u001b[0m\u001b[0mnumber\u001b[0m\u001b[1;33m]\u001b[0m\u001b[1;33m)\u001b[0m\u001b[1;33m\u001b[0m\u001b[1;33m\u001b[0m\u001b[0m\n\u001b[0m",
      "\u001b[1;31mNameError\u001b[0m: name 'suggest_locations' is not defined"
     ]
    }
   ],
   "source": [
    "## TODO: Execute the `suggest_locations` function on\n",
    "## at least 4 images on your computer.\n",
    "## Feel free to use as many code cells as needed.\n",
    "\n",
    "import os\n",
    "import random\n",
    "path = 'landmark_images\\\\test'\n",
    "\n",
    "n_files = len(os.listdir(path))\n",
    "chosen = random.sample(range(1, n_files), 4)\n",
    "\n",
    "for number in chosen:\n",
    "    #print(filename)\n",
    "    folder = os.listdir(path)[number]\n",
    "    full_path = os.path.join(os.getcwd(),path, folder)\n",
    "    file = random.sample(os.listdir(full_path), 1)[0]\n",
    "    file_path = os.path.join(full_path, file)\n",
    "    suggest_locations(file)"
   ]
  },
  {
   "cell_type": "code",
   "execution_count": 66,
   "metadata": {},
   "outputs": [],
   "source": [
    "path = 'landmark_images\\\\test'"
   ]
  }
 ],
 "metadata": {
  "kernelspec": {
   "display_name": "Python 3",
   "language": "python",
   "name": "python3"
  },
  "language_info": {
   "codemirror_mode": {
    "name": "ipython",
    "version": 3
   },
   "file_extension": ".py",
   "mimetype": "text/x-python",
   "name": "python",
   "nbconvert_exporter": "python",
   "pygments_lexer": "ipython3",
   "version": "3.8.8"
  }
 },
 "nbformat": 4,
 "nbformat_minor": 2
}
