{
 "cells": [
  {
   "cell_type": "markdown",
   "metadata": {},
   "source": [
    "# Creating a Sentiment Analysis Web App\n",
    "## Using PyTorch and SageMaker\n",
    "\n",
    "_Deep Learning Nanodegree Program | Deployment_\n",
    "\n",
    "---\n",
    "\n",
    "Now that we have a basic understanding of how SageMaker works we will try to use it to construct a complete project from end to end. Our goal will be to have a simple web page which a user can use to enter a movie review. The web page will then send the review off to our deployed model which will predict the sentiment of the entered review.\n",
    "\n",
    "## Instructions\n",
    "\n",
    "Some template code has already been provided for you, and you will need to implement additional functionality to successfully complete this notebook. You will not need to modify the included code beyond what is requested. Sections that begin with '**TODO**' in the header indicate that you need to complete or implement some portion within them. Instructions will be provided for each section and the specifics of the implementation are marked in the code block with a `# TODO: ...` comment. Please be sure to read the instructions carefully!\n",
    "\n",
    "In addition to implementing code, there will be questions for you to answer which relate to the task and your implementation. Each section where you will answer a question is preceded by a '**Question:**' header. Carefully read each question and provide your answer below the '**Answer:**' header by editing the Markdown cell.\n",
    "\n",
    "> **Note**: Code and Markdown cells can be executed using the **Shift+Enter** keyboard shortcut. In addition, a cell can be edited by typically clicking it (double-click for Markdown cells) or by pressing **Enter** while it is highlighted.\n",
    "\n",
    "## General Outline\n",
    "\n",
    "Recall the general outline for SageMaker projects using a notebook instance.\n",
    "\n",
    "1. Download or otherwise retrieve the data.\n",
    "2. Process / Prepare the data.\n",
    "3. Upload the processed data to S3.\n",
    "4. Train a chosen model.\n",
    "5. Test the trained model (typically using a batch transform job).\n",
    "6. Deploy the trained model.\n",
    "7. Use the deployed model.\n",
    "\n",
    "For this project, you will be following the steps in the general outline with some modifications. \n",
    "\n",
    "First, you will not be testing the model in its own step. You will still be testing the model, however, you will do it by deploying your model and then using the deployed model by sending the test data to it. One of the reasons for doing this is so that you can make sure that your deployed model is working correctly before moving forward.\n",
    "\n",
    "In addition, you will deploy and use your trained model a second time. In the second iteration you will customize the way that your trained model is deployed by including some of your own code. In addition, your newly deployed model will be used in the sentiment analysis web app."
   ]
  },
  {
   "cell_type": "code",
   "execution_count": 1,
   "metadata": {},
   "outputs": [
    {
     "name": "stdout",
     "output_type": "stream",
     "text": [
      "Collecting sagemaker==1.72.0\n",
      "  Downloading sagemaker-1.72.0.tar.gz (297 kB)\n",
      "     |████████████████████████████████| 297 kB 27.5 MB/s            \n",
      "\u001b[?25h  Preparing metadata (setup.py) ... \u001b[?25ldone\n",
      "\u001b[?25hRequirement already satisfied: boto3>=1.14.12 in /home/ec2-user/anaconda3/envs/pytorch_p36/lib/python3.6/site-packages (from sagemaker==1.72.0) (1.20.25)\n",
      "Requirement already satisfied: numpy>=1.9.0 in /home/ec2-user/anaconda3/envs/pytorch_p36/lib/python3.6/site-packages (from sagemaker==1.72.0) (1.19.5)\n",
      "Requirement already satisfied: protobuf>=3.1 in /home/ec2-user/anaconda3/envs/pytorch_p36/lib/python3.6/site-packages (from sagemaker==1.72.0) (3.17.2)\n",
      "Requirement already satisfied: scipy>=0.19.0 in /home/ec2-user/anaconda3/envs/pytorch_p36/lib/python3.6/site-packages (from sagemaker==1.72.0) (1.5.3)\n",
      "Requirement already satisfied: protobuf3-to-dict>=0.1.5 in /home/ec2-user/anaconda3/envs/pytorch_p36/lib/python3.6/site-packages (from sagemaker==1.72.0) (0.1.5)\n",
      "Collecting smdebug-rulesconfig==0.1.4\n",
      "  Downloading smdebug_rulesconfig-0.1.4-py2.py3-none-any.whl (10 kB)\n",
      "Requirement already satisfied: importlib-metadata>=1.4.0 in /home/ec2-user/anaconda3/envs/pytorch_p36/lib/python3.6/site-packages (from sagemaker==1.72.0) (4.5.0)\n",
      "Requirement already satisfied: packaging>=20.0 in /home/ec2-user/anaconda3/envs/pytorch_p36/lib/python3.6/site-packages (from sagemaker==1.72.0) (21.3)\n",
      "Requirement already satisfied: s3transfer<0.6.0,>=0.5.0 in /home/ec2-user/anaconda3/envs/pytorch_p36/lib/python3.6/site-packages (from boto3>=1.14.12->sagemaker==1.72.0) (0.5.0)\n",
      "Requirement already satisfied: jmespath<1.0.0,>=0.7.1 in /home/ec2-user/anaconda3/envs/pytorch_p36/lib/python3.6/site-packages (from boto3>=1.14.12->sagemaker==1.72.0) (0.10.0)\n",
      "Requirement already satisfied: botocore<1.24.0,>=1.23.25 in /home/ec2-user/anaconda3/envs/pytorch_p36/lib/python3.6/site-packages (from boto3>=1.14.12->sagemaker==1.72.0) (1.23.25)\n",
      "Requirement already satisfied: typing-extensions>=3.6.4 in /home/ec2-user/anaconda3/envs/pytorch_p36/lib/python3.6/site-packages (from importlib-metadata>=1.4.0->sagemaker==1.72.0) (3.10.0.0)\n",
      "Requirement already satisfied: zipp>=0.5 in /home/ec2-user/anaconda3/envs/pytorch_p36/lib/python3.6/site-packages (from importlib-metadata>=1.4.0->sagemaker==1.72.0) (3.4.1)\n",
      "Requirement already satisfied: pyparsing!=3.0.5,>=2.0.2 in /home/ec2-user/anaconda3/envs/pytorch_p36/lib/python3.6/site-packages (from packaging>=20.0->sagemaker==1.72.0) (2.4.7)\n",
      "Requirement already satisfied: six>=1.9 in /home/ec2-user/anaconda3/envs/pytorch_p36/lib/python3.6/site-packages (from protobuf>=3.1->sagemaker==1.72.0) (1.16.0)\n",
      "Requirement already satisfied: python-dateutil<3.0.0,>=2.1 in /home/ec2-user/anaconda3/envs/pytorch_p36/lib/python3.6/site-packages (from botocore<1.24.0,>=1.23.25->boto3>=1.14.12->sagemaker==1.72.0) (2.8.1)\n",
      "Requirement already satisfied: urllib3<1.27,>=1.25.4 in /home/ec2-user/anaconda3/envs/pytorch_p36/lib/python3.6/site-packages (from botocore<1.24.0,>=1.23.25->boto3>=1.14.12->sagemaker==1.72.0) (1.26.5)\n",
      "Building wheels for collected packages: sagemaker\n",
      "  Building wheel for sagemaker (setup.py) ... \u001b[?25ldone\n",
      "\u001b[?25h  Created wheel for sagemaker: filename=sagemaker-1.72.0-py2.py3-none-any.whl size=388327 sha256=59d0ea075c2a2b5381202f21cf329a1cd20c61afdbfea68ffe6acf4fcf4842ba\n",
      "  Stored in directory: /home/ec2-user/.cache/pip/wheels/c3/58/70/85faf4437568bfaa4c419937569ba1fe54d44c5db42406bbd7\n",
      "Successfully built sagemaker\n",
      "Installing collected packages: smdebug-rulesconfig, sagemaker\n",
      "  Attempting uninstall: smdebug-rulesconfig\n",
      "    Found existing installation: smdebug-rulesconfig 1.0.1\n",
      "    Uninstalling smdebug-rulesconfig-1.0.1:\n",
      "      Successfully uninstalled smdebug-rulesconfig-1.0.1\n",
      "  Attempting uninstall: sagemaker\n",
      "    Found existing installation: sagemaker 2.72.1\n",
      "    Uninstalling sagemaker-2.72.1:\n",
      "      Successfully uninstalled sagemaker-2.72.1\n",
      "Successfully installed sagemaker-1.72.0 smdebug-rulesconfig-0.1.4\n"
     ]
    }
   ],
   "source": [
    "# Make sure that we use SageMaker 1.x\n",
    "!pip install sagemaker==1.72.0"
   ]
  },
  {
   "cell_type": "markdown",
   "metadata": {},
   "source": [
    "## Step 1: Downloading the data\n",
    "\n",
    "As in the XGBoost in SageMaker notebook, we will be using the [IMDb dataset](http://ai.stanford.edu/~amaas/data/sentiment/)\n",
    "\n",
    "> Maas, Andrew L., et al. [Learning Word Vectors for Sentiment Analysis](http://ai.stanford.edu/~amaas/data/sentiment/). In _Proceedings of the 49th Annual Meeting of the Association for Computational Linguistics: Human Language Technologies_. Association for Computational Linguistics, 2011."
   ]
  },
  {
   "cell_type": "code",
   "execution_count": 2,
   "metadata": {},
   "outputs": [
    {
     "name": "stdout",
     "output_type": "stream",
     "text": [
      "mkdir: cannot create directory ‘../data’: File exists\n",
      "--2022-02-19 14:38:20--  http://ai.stanford.edu/~amaas/data/sentiment/aclImdb_v1.tar.gz\n",
      "Resolving ai.stanford.edu (ai.stanford.edu)... 171.64.68.10\n",
      "Connecting to ai.stanford.edu (ai.stanford.edu)|171.64.68.10|:80... connected.\n",
      "HTTP request sent, awaiting response... 200 OK\n",
      "Length: 84125825 (80M) [application/x-gzip]\n",
      "Saving to: ‘../data/aclImdb_v1.tar.gz’\n",
      "\n",
      "../data/aclImdb_v1. 100%[===================>]  80.23M  26.5MB/s    in 3.0s    \n",
      "\n",
      "2022-02-19 14:38:24 (26.5 MB/s) - ‘../data/aclImdb_v1.tar.gz’ saved [84125825/84125825]\n",
      "\n"
     ]
    }
   ],
   "source": [
    "%mkdir ../data\n",
    "!wget -O ../data/aclImdb_v1.tar.gz http://ai.stanford.edu/~amaas/data/sentiment/aclImdb_v1.tar.gz\n",
    "!tar -zxf ../data/aclImdb_v1.tar.gz -C ../data"
   ]
  },
  {
   "cell_type": "markdown",
   "metadata": {},
   "source": [
    "## Step 2: Preparing and Processing the data\n",
    "\n",
    "Also, as in the XGBoost notebook, we will be doing some initial data processing. The first few steps are the same as in the XGBoost example. To begin with, we will read in each of the reviews and combine them into a single input structure. Then, we will split the dataset into a training set and a testing set."
   ]
  },
  {
   "cell_type": "code",
   "execution_count": 3,
   "metadata": {},
   "outputs": [],
   "source": [
    "import os\n",
    "import glob\n",
    "\n",
    "def read_imdb_data(data_dir='../data/aclImdb'):\n",
    "    data = {}\n",
    "    labels = {}\n",
    "    \n",
    "    for data_type in ['train', 'test']:\n",
    "        data[data_type] = {}\n",
    "        labels[data_type] = {}\n",
    "        \n",
    "        for sentiment in ['pos', 'neg']:\n",
    "            data[data_type][sentiment] = []\n",
    "            labels[data_type][sentiment] = []\n",
    "            \n",
    "            path = os.path.join(data_dir, data_type, sentiment, '*.txt')\n",
    "            files = glob.glob(path)\n",
    "            \n",
    "            for f in files:\n",
    "                with open(f) as review:\n",
    "                    data[data_type][sentiment].append(review.read())\n",
    "                    # Here we represent a positive review by '1' and a negative review by '0'\n",
    "                    labels[data_type][sentiment].append(1 if sentiment == 'pos' else 0)\n",
    "                    \n",
    "            assert len(data[data_type][sentiment]) == len(labels[data_type][sentiment]), \\\n",
    "                    \"{}/{} data size does not match labels size\".format(data_type, sentiment)\n",
    "                \n",
    "    return data, labels"
   ]
  },
  {
   "cell_type": "code",
   "execution_count": 4,
   "metadata": {},
   "outputs": [
    {
     "name": "stdout",
     "output_type": "stream",
     "text": [
      "IMDB reviews: train = 12500 pos / 12500 neg, test = 12500 pos / 12500 neg\n"
     ]
    }
   ],
   "source": [
    "data, labels = read_imdb_data()\n",
    "print(\"IMDB reviews: train = {} pos / {} neg, test = {} pos / {} neg\".format(\n",
    "            len(data['train']['pos']), len(data['train']['neg']),\n",
    "            len(data['test']['pos']), len(data['test']['neg'])))"
   ]
  },
  {
   "cell_type": "markdown",
   "metadata": {},
   "source": [
    "Now that we've read the raw training and testing data from the downloaded dataset, we will combine the positive and negative reviews and shuffle the resulting records."
   ]
  },
  {
   "cell_type": "code",
   "execution_count": 5,
   "metadata": {},
   "outputs": [],
   "source": [
    "from sklearn.utils import shuffle\n",
    "\n",
    "def prepare_imdb_data(data, labels):\n",
    "    \"\"\"Prepare training and test sets from IMDb movie reviews.\"\"\"\n",
    "    \n",
    "    #Combine positive and negative reviews and labels\n",
    "    data_train = data['train']['pos'] + data['train']['neg']\n",
    "    data_test = data['test']['pos'] + data['test']['neg']\n",
    "    labels_train = labels['train']['pos'] + labels['train']['neg']\n",
    "    labels_test = labels['test']['pos'] + labels['test']['neg']\n",
    "    \n",
    "    #Shuffle reviews and corresponding labels within training and test sets\n",
    "    data_train, labels_train = shuffle(data_train, labels_train)\n",
    "    data_test, labels_test = shuffle(data_test, labels_test)\n",
    "    \n",
    "    # Return a unified training data, test data, training labels, test labets\n",
    "    return data_train, data_test, labels_train, labels_test"
   ]
  },
  {
   "cell_type": "code",
   "execution_count": 6,
   "metadata": {},
   "outputs": [
    {
     "name": "stdout",
     "output_type": "stream",
     "text": [
      "IMDb reviews (combined): train = 25000, test = 25000\n"
     ]
    }
   ],
   "source": [
    "train_X, test_X, train_y, test_y = prepare_imdb_data(data, labels)\n",
    "print(\"IMDb reviews (combined): train = {}, test = {}\".format(len(train_X), len(test_X)))"
   ]
  },
  {
   "cell_type": "markdown",
   "metadata": {},
   "source": [
    "Now that we have our training and testing sets unified and prepared, we should do a quick check and see an example of the data our model will be trained on. This is generally a good idea as it allows you to see how each of the further processing steps affects the reviews and it also ensures that the data has been loaded correctly."
   ]
  },
  {
   "cell_type": "code",
   "execution_count": 7,
   "metadata": {},
   "outputs": [
    {
     "name": "stdout",
     "output_type": "stream",
     "text": [
      "This was the best movie I've ever seen about Bulimia. It hit the exact spot of what Bulimia is really about and how it's not always about being skinny and dieting. It showed how people with Bulimia tend to think about things such as their outlook on life, friends and themselves. The best line and the part that really shows what the problem with Bulimia is, is when Beth says,\"It's not about you!\" That line really showed a lot about the character and others with the same problem. It showed that people with Bulimia don't have this problem because of anything that has to do with anyone else. It has to do with them and them only. It shows that it's time to talk about the person with the problem instead of putting the attention all on themselves. It showed that Beth needed to call out for attention at that moment and she needed her mom's attention at that time the most.\n",
      "1\n"
     ]
    }
   ],
   "source": [
    "print(train_X[100])\n",
    "print(train_y[100])"
   ]
  },
  {
   "cell_type": "markdown",
   "metadata": {},
   "source": [
    "The first step in processing the reviews is to make sure that any html tags that appear should be removed. In addition we wish to tokenize our input, that way words such as *entertained* and *entertaining* are considered the same with regard to sentiment analysis."
   ]
  },
  {
   "cell_type": "code",
   "execution_count": 8,
   "metadata": {},
   "outputs": [],
   "source": [
    "import nltk\n",
    "from nltk.corpus import stopwords\n",
    "from nltk.stem.porter import *\n",
    "\n",
    "import re\n",
    "from bs4 import BeautifulSoup\n",
    "\n",
    "def review_to_words(review):\n",
    "    nltk.download(\"stopwords\", quiet=True)\n",
    "    stemmer = PorterStemmer()\n",
    "    \n",
    "    text = BeautifulSoup(review, \"html.parser\").get_text() # Remove HTML tags\n",
    "    text = re.sub(r\"[^a-zA-Z0-9]\", \" \", text.lower()) # Convert to lower case\n",
    "    words = text.split() # Split string into words\n",
    "    words = [w for w in words if w not in stopwords.words(\"english\")] # Remove stopwords\n",
    "    words = [PorterStemmer().stem(w) for w in words] # stem\n",
    "    \n",
    "    return words"
   ]
  },
  {
   "cell_type": "markdown",
   "metadata": {},
   "source": [
    "The `review_to_words` method defined above uses `BeautifulSoup` to remove any html tags that appear and uses the `nltk` package to tokenize the reviews. As a check to ensure we know how everything is working, try applying `review_to_words` to one of the reviews in the training set."
   ]
  },
  {
   "cell_type": "code",
   "execution_count": 9,
   "metadata": {},
   "outputs": [
    {
     "data": {
      "text/plain": [
       "['best',\n",
       " 'movi',\n",
       " 'ever',\n",
       " 'seen',\n",
       " 'bulimia',\n",
       " 'hit',\n",
       " 'exact',\n",
       " 'spot',\n",
       " 'bulimia',\n",
       " 'realli',\n",
       " 'alway',\n",
       " 'skinni',\n",
       " 'diet',\n",
       " 'show',\n",
       " 'peopl',\n",
       " 'bulimia',\n",
       " 'tend',\n",
       " 'think',\n",
       " 'thing',\n",
       " 'outlook',\n",
       " 'life',\n",
       " 'friend',\n",
       " 'best',\n",
       " 'line',\n",
       " 'part',\n",
       " 'realli',\n",
       " 'show',\n",
       " 'problem',\n",
       " 'bulimia',\n",
       " 'beth',\n",
       " 'say',\n",
       " 'line',\n",
       " 'realli',\n",
       " 'show',\n",
       " 'lot',\n",
       " 'charact',\n",
       " 'other',\n",
       " 'problem',\n",
       " 'show',\n",
       " 'peopl',\n",
       " 'bulimia',\n",
       " 'problem',\n",
       " 'anyth',\n",
       " 'anyon',\n",
       " 'els',\n",
       " 'show',\n",
       " 'time',\n",
       " 'talk',\n",
       " 'person',\n",
       " 'problem',\n",
       " 'instead',\n",
       " 'put',\n",
       " 'attent',\n",
       " 'show',\n",
       " 'beth',\n",
       " 'need',\n",
       " 'call',\n",
       " 'attent',\n",
       " 'moment',\n",
       " 'need',\n",
       " 'mom',\n",
       " 'attent',\n",
       " 'time']"
      ]
     },
     "execution_count": 9,
     "metadata": {},
     "output_type": "execute_result"
    }
   ],
   "source": [
    "# TODO: Apply review_to_words to a review (train_X[100] or any other review)\n",
    "review_to_words(train_X[100])"
   ]
  },
  {
   "cell_type": "markdown",
   "metadata": {},
   "source": [
    "**Question:** Above we mentioned that `review_to_words` method removes html formatting and allows us to tokenize the words found in a review, for example, converting *entertained* and *entertaining* into *entertain* so that they are treated as though they are the same word. What else, if anything, does this method do to the input?"
   ]
  },
  {
   "cell_type": "markdown",
   "metadata": {},
   "source": [
    "**Answer:**\n",
    "\n",
    "This method does a lot of other string treatment, like:\n",
    "* Transform all characters in lower case\n",
    "* Removal of english stopwords and punctuations\n",
    "* Transform words to stemmed words"
   ]
  },
  {
   "cell_type": "markdown",
   "metadata": {},
   "source": [
    "The method below applies the `review_to_words` method to each of the reviews in the training and testing datasets. In addition it caches the results. This is because performing this processing step can take a long time. This way if you are unable to complete the notebook in the current session, you can come back without needing to process the data a second time."
   ]
  },
  {
   "cell_type": "code",
   "execution_count": 10,
   "metadata": {},
   "outputs": [],
   "source": [
    "import pickle\n",
    "\n",
    "cache_dir = os.path.join(\"../cache\", \"sentiment_analysis\")  # where to store cache files\n",
    "os.makedirs(cache_dir, exist_ok=True)  # ensure cache directory exists\n",
    "\n",
    "def preprocess_data(data_train, data_test, labels_train, labels_test,\n",
    "                    cache_dir=cache_dir, cache_file=\"preprocessed_data.pkl\"):\n",
    "    \"\"\"Convert each review to words; read from cache if available.\"\"\"\n",
    "\n",
    "    # If cache_file is not None, try to read from it first\n",
    "    cache_data = None\n",
    "    if cache_file is not None:\n",
    "        try:\n",
    "            with open(os.path.join(cache_dir, cache_file), \"rb\") as f:\n",
    "                cache_data = pickle.load(f)\n",
    "            print(\"Read preprocessed data from cache file:\", cache_file)\n",
    "        except:\n",
    "            pass  # unable to read from cache, but that's okay\n",
    "    \n",
    "    # If cache is missing, then do the heavy lifting\n",
    "    if cache_data is None:\n",
    "        # Preprocess training and test data to obtain words for each review\n",
    "        #words_train = list(map(review_to_words, data_train))\n",
    "        #words_test = list(map(review_to_words, data_test))\n",
    "        words_train = [review_to_words(review) for review in data_train]\n",
    "        words_test = [review_to_words(review) for review in data_test]\n",
    "        \n",
    "        # Write to cache file for future runs\n",
    "        if cache_file is not None:\n",
    "            cache_data = dict(words_train=words_train, words_test=words_test,\n",
    "                              labels_train=labels_train, labels_test=labels_test)\n",
    "            with open(os.path.join(cache_dir, cache_file), \"wb\") as f:\n",
    "                pickle.dump(cache_data, f)\n",
    "            print(\"Wrote preprocessed data to cache file:\", cache_file)\n",
    "    else:\n",
    "        # Unpack data loaded from cache file\n",
    "        words_train, words_test, labels_train, labels_test = (cache_data['words_train'],\n",
    "                cache_data['words_test'], cache_data['labels_train'], cache_data['labels_test'])\n",
    "    \n",
    "    return words_train, words_test, labels_train, labels_test"
   ]
  },
  {
   "cell_type": "code",
   "execution_count": 11,
   "metadata": {},
   "outputs": [
    {
     "name": "stdout",
     "output_type": "stream",
     "text": [
      "Read preprocessed data from cache file: preprocessed_data.pkl\n"
     ]
    }
   ],
   "source": [
    "# Preprocess data\n",
    "train_X, test_X, train_y, test_y = preprocess_data(train_X, test_X, train_y, test_y)"
   ]
  },
  {
   "cell_type": "markdown",
   "metadata": {},
   "source": [
    "## Transform the data\n",
    "\n",
    "In the XGBoost notebook we transformed the data from its word representation to a bag-of-words feature representation. For the model we are going to construct in this notebook we will construct a feature representation which is very similar. To start, we will represent each word as an integer. Of course, some of the words that appear in the reviews occur very infrequently and so likely don't contain much information for the purposes of sentiment analysis. The way we will deal with this problem is that we will fix the size of our working vocabulary and we will only include the words that appear most frequently. We will then combine all of the infrequent words into a single category and, in our case, we will label it as `1`.\n",
    "\n",
    "Since we will be using a recurrent neural network, it will be convenient if the length of each review is the same. To do this, we will fix a size for our reviews and then pad short reviews with the category 'no word' (which we will label `0`) and truncate long reviews."
   ]
  },
  {
   "cell_type": "markdown",
   "metadata": {},
   "source": [
    "### (TODO) Create a word dictionary\n",
    "\n",
    "To begin with, we need to construct a way to map words that appear in the reviews to integers. Here we fix the size of our vocabulary (including the 'no word' and 'infrequent' categories) to be `5000` but you may wish to change this to see how it affects the model.\n",
    "\n",
    "> **TODO:** Complete the implementation for the `build_dict()` method below. Note that even though the vocab_size is set to `5000`, we only want to construct a mapping for the most frequently appearing `4998` words. This is because we want to reserve the special labels `0` for 'no word' and `1` for 'infrequent word'."
   ]
  },
  {
   "cell_type": "code",
   "execution_count": 12,
   "metadata": {},
   "outputs": [],
   "source": [
    "import numpy as np\n",
    "\n",
    "def build_dict(data, vocab_size = 5000):\n",
    "    \"\"\"Construct and return a dictionary mapping each of the most frequently appearing words to a unique integer.\"\"\"\n",
    "    \n",
    "    # TODO: Determine how often each word appears in `data`. Note that `data` is a list of sentences and that a\n",
    "    #       sentence is a list of words.\n",
    "    \n",
    "    word_count = {} # A dict storing the words that appear in the reviews along with how often they occur\n",
    "    for sentence in data:\n",
    "        for word in sentence:\n",
    "            if word in word_count:\n",
    "                word_count[word] += 1\n",
    "            else:\n",
    "                word_count[word] = 1\n",
    "                \n",
    "    # TODO: Sort the words found in `data` so that sorted_words[0] is the most frequently appearing word and\n",
    "    #       sorted_words[-1] is the least frequently appearing word.\n",
    "    \n",
    "    sorted_words = sorted(word_count, key=word_count.get, reverse=True)\n",
    "    \n",
    "    word_dict = {} # This is what we are building, a dictionary that translates words into integers\n",
    "    for idx, word in enumerate(sorted_words[:vocab_size - 2]): # The -2 is so that we save room for the 'no word'\n",
    "        word_dict[word] = idx + 2                              # 'infrequent' labels\n",
    "        \n",
    "    return word_dict\n"
   ]
  },
  {
   "cell_type": "code",
   "execution_count": 13,
   "metadata": {},
   "outputs": [],
   "source": [
    "word_dict = build_dict(train_X)"
   ]
  },
  {
   "cell_type": "markdown",
   "metadata": {},
   "source": [
    "**Question:** What are the five most frequently appearing (tokenized) words in the training set? Does it makes sense that these words appear frequently in the training set?"
   ]
  },
  {
   "cell_type": "markdown",
   "metadata": {},
   "source": [
    "**Answer:**\n",
    "\n",
    "As we can see above, the 5 more commom words are:\n",
    "1. movi\n",
    "2. film\n",
    "3. one\n",
    "4. like\n",
    "5. time\n",
    "\n",
    "Talking about their frequency, it seams to be just fine to appear a lot in the training set"
   ]
  },
  {
   "cell_type": "code",
   "execution_count": 14,
   "metadata": {},
   "outputs": [
    {
     "data": {
      "text/plain": [
       "['movi', 'film', 'one', 'like', 'time']"
      ]
     },
     "execution_count": 14,
     "metadata": {},
     "output_type": "execute_result"
    }
   ],
   "source": [
    "# TODO: Use this space to determine the five most frequently appearing words in the training set.\n",
    "list(word_dict.keys())[:5]"
   ]
  },
  {
   "cell_type": "code",
   "execution_count": 47,
   "metadata": {
    "collapsed": true
   },
   "outputs": [
    {
     "name": "stdout",
     "output_type": "stream",
     "text": [
      "{'movi': 2, 'film': 3, 'one': 4, 'like': 5, 'time': 6, 'good': 7, 'make': 8, 'charact': 9, 'get': 10, 'see': 11, 'watch': 12, 'stori': 13, 'even': 14, 'would': 15, 'realli': 16, 'well': 17, 'scene': 18, 'look': 19, 'show': 20, 'much': 21, 'end': 22, 'peopl': 23, 'bad': 24, 'go': 25, 'great': 26, 'also': 27, 'first': 28, 'love': 29, 'think': 30, 'way': 31, 'act': 32, 'play': 33, 'made': 34, 'thing': 35, 'could': 36, 'know': 37, 'say': 38, 'seem': 39, 'work': 40, 'plot': 41, 'two': 42, 'actor': 43, 'year': 44, 'come': 45, 'mani': 46, 'seen': 47, 'take': 48, 'want': 49, 'life': 50, 'never': 51, 'littl': 52, 'best': 53, 'tri': 54, 'man': 55, 'ever': 56, 'give': 57, 'better': 58, 'still': 59, 'perform': 60, 'find': 61, 'feel': 62, 'part': 63, 'back': 64, 'use': 65, 'someth': 66, 'director': 67, 'actual': 68, 'interest': 69, 'lot': 70, 'real': 71, 'old': 72, 'cast': 73, 'though': 74, 'live': 75, 'star': 76, 'enjoy': 77, 'guy': 78, 'anoth': 79, 'new': 80, 'role': 81, 'noth': 82, '10': 83, 'funni': 84, 'music': 85, 'point': 86, 'start': 87, 'set': 88, 'girl': 89, 'origin': 90, 'day': 91, 'world': 92, 'everi': 93, 'believ': 94, 'turn': 95, 'quit': 96, 'us': 97, 'direct': 98, 'thought': 99, 'fact': 100, 'minut': 101, 'horror': 102, 'kill': 103, 'action': 104, 'comedi': 105, 'pretti': 106, 'young': 107, 'wonder': 108, 'happen': 109, 'around': 110, 'got': 111, 'effect': 112, 'right': 113, 'long': 114, 'howev': 115, 'big': 116, 'line': 117, 'famili': 118, 'enough': 119, 'seri': 120, 'may': 121, 'need': 122, 'fan': 123, 'bit': 124, 'script': 125, 'beauti': 126, 'person': 127, 'becom': 128, 'without': 129, 'must': 130, 'alway': 131, 'friend': 132, 'tell': 133, 'reason': 134, 'saw': 135, 'last': 136, 'final': 137, 'kid': 138, 'almost': 139, 'put': 140, 'least': 141, 'sure': 142, 'done': 143, 'whole': 144, 'place': 145, 'complet': 146, 'kind': 147, 'differ': 148, 'expect': 149, 'shot': 150, 'far': 151, 'mean': 152, 'anyth': 153, 'book': 154, 'laugh': 155, 'might': 156, 'name': 157, 'sinc': 158, 'begin': 159, '2': 160, 'probabl': 161, 'woman': 162, 'help': 163, 'entertain': 164, 'let': 165, 'screen': 166, 'call': 167, 'tv': 168, 'moment': 169, 'away': 170, 'read': 171, 'yet': 172, 'rather': 173, 'worst': 174, 'run': 175, 'fun': 176, 'lead': 177, 'hard': 178, 'audienc': 179, 'idea': 180, 'anyon': 181, 'episod': 182, 'american': 183, 'found': 184, 'appear': 185, 'bore': 186, 'especi': 187, 'although': 188, 'hope': 189, 'keep': 190, 'cours': 191, 'anim': 192, 'job': 193, 'goe': 194, 'move': 195, 'sens': 196, 'dvd': 197, 'version': 198, 'war': 199, 'money': 200, 'someon': 201, 'mind': 202, 'mayb': 203, 'problem': 204, 'true': 205, 'hous': 206, 'everyth': 207, 'nice': 208, 'second': 209, 'rate': 210, 'three': 211, 'night': 212, 'follow': 213, 'face': 214, 'recommend': 215, 'product': 216, 'main': 217, 'worth': 218, 'leav': 219, 'human': 220, 'special': 221, 'excel': 222, 'togeth': 223, 'wast': 224, 'sound': 225, 'everyon': 226, 'john': 227, 'hand': 228, '1': 229, 'father': 230, 'later': 231, 'eye': 232, 'said': 233, 'view': 234, 'instead': 235, 'review': 236, 'boy': 237, 'high': 238, 'hour': 239, 'miss': 240, 'talk': 241, 'classic': 242, 'wife': 243, 'understand': 244, 'left': 245, 'care': 246, 'black': 247, 'death': 248, 'open': 249, 'murder': 250, 'write': 251, 'half': 252, 'head': 253, 'rememb': 254, 'chang': 255, 'viewer': 256, 'fight': 257, 'gener': 258, 'surpris': 259, 'includ': 260, 'short': 261, 'die': 262, 'fall': 263, 'less': 264, 'els': 265, 'entir': 266, 'piec': 267, 'involv': 268, 'pictur': 269, 'simpli': 270, 'power': 271, 'home': 272, 'top': 273, 'total': 274, 'usual': 275, 'budget': 276, 'attempt': 277, 'suppos': 278, 'releas': 279, 'hollywood': 280, 'terribl': 281, 'song': 282, 'men': 283, 'possibl': 284, 'featur': 285, 'portray': 286, 'disappoint': 287, 'poor': 288, '3': 289, 'coupl': 290, 'stupid': 291, 'camera': 292, 'dead': 293, 'wrong': 294, 'low': 295, 'produc': 296, 'either': 297, 'video': 298, 'aw': 299, 'definit': 300, 'except': 301, 'rest': 302, 'given': 303, 'absolut': 304, 'women': 305, 'lack': 306, 'word': 307, 'writer': 308, 'titl': 309, 'talent': 310, 'decid': 311, 'full': 312, 'perfect': 313, 'along': 314, 'style': 315, 'close': 316, 'truli': 317, 'school': 318, 'emot': 319, 'save': 320, 'sex': 321, 'age': 322, 'next': 323, 'bring': 324, 'mr': 325, 'case': 326, 'killer': 327, 'heart': 328, 'comment': 329, 'sort': 330, 'creat': 331, 'perhap': 332, 'came': 333, 'brother': 334, 'sever': 335, 'joke': 336, 'art': 337, 'dialogu': 338, 'game': 339, 'small': 340, 'base': 341, 'flick': 342, 'written': 343, 'sequenc': 344, 'meet': 345, 'earli': 346, 'often': 347, 'other': 348, 'mother': 349, 'develop': 350, 'humor': 351, 'actress': 352, 'consid': 353, 'dark': 354, 'guess': 355, 'amaz': 356, 'unfortun': 357, 'light': 358, 'lost': 359, 'exampl': 360, 'cinema': 361, 'drama': 362, 'white': 363, 'ye': 364, 'experi': 365, 'imagin': 366, 'mention': 367, 'stop': 368, 'natur': 369, 'forc': 370, 'manag': 371, 'felt': 372, 'cut': 373, 'present': 374, 'children': 375, 'fail': 376, 'son': 377, 'qualiti': 378, 'support': 379, 'car': 380, 'ask': 381, 'hit': 382, 'side': 383, 'voic': 384, 'extrem': 385, 'impress': 386, 'evil': 387, 'wors': 388, 'went': 389, 'stand': 390, 'certainli': 391, 'basic': 392, 'oh': 393, 'overal': 394, 'favorit': 395, 'horribl': 396, 'mysteri': 397, 'number': 398, 'type': 399, 'danc': 400, 'wait': 401, 'hero': 402, '5': 403, 'alreadi': 404, 'learn': 405, 'matter': 406, '4': 407, 'michael': 408, 'genr': 409, 'fine': 410, 'despit': 411, 'throughout': 412, 'walk': 413, 'success': 414, 'histori': 415, 'question': 416, 'zombi': 417, 'town': 418, 'relationship': 419, 'realiz': 420, 'past': 421, 'child': 422, 'daughter': 423, 'late': 424, 'b': 425, 'wish': 426, 'hate': 427, 'credit': 428, 'event': 429, 'theme': 430, 'touch': 431, 'citi': 432, 'today': 433, 'sometim': 434, 'behind': 435, 'god': 436, 'twist': 437, 'sit': 438, 'annoy': 439, 'deal': 440, 'stay': 441, 'abl': 442, 'rent': 443, 'pleas': 444, 'edit': 445, 'blood': 446, 'deserv': 447, 'anyway': 448, 'comic': 449, 'appar': 450, 'soon': 451, 'gave': 452, 'etc': 453, 'level': 454, 'slow': 455, 'chanc': 456, 'score': 457, 'bodi': 458, 'brilliant': 459, 'incred': 460, 'figur': 461, 'situat': 462, 'self': 463, 'major': 464, 'stuff': 465, 'decent': 466, 'element': 467, 'dream': 468, 'return': 469, 'obvious': 470, 'order': 471, 'continu': 472, 'pace': 473, 'ridicul': 474, 'happi': 475, 'add': 476, 'group': 477, 'highli': 478, 'thank': 479, 'ladi': 480, 'novel': 481, 'speak': 482, 'pain': 483, 'career': 484, 'shoot': 485, 'strang': 486, 'heard': 487, 'sad': 488, 'polic': 489, 'husband': 490, 'import': 491, 'break': 492, 'took': 493, 'cannot': 494, 'strong': 495, 'predict': 496, 'robert': 497, 'violenc': 498, 'hilari': 499, 'recent': 500, 'countri': 501, 'known': 502, 'particularli': 503, 'pick': 504, 'documentari': 505, 'season': 506, 'critic': 507, 'jame': 508, 'compar': 509, 'obviou': 510, 'alon': 511, 'told': 512, 'state': 513, 'rock': 514, 'visual': 515, 'exist': 516, 'offer': 517, 'theater': 518, 'opinion': 519, 'gore': 520, 'crap': 521, 'hold': 522, 'result': 523, 'room': 524, 'hear': 525, 'realiti': 526, 'effort': 527, 'clich': 528, 'thriller': 529, 'caus': 530, 'serious': 531, 'sequel': 532, 'explain': 533, 'king': 534, 'local': 535, 'ago': 536, 'hell': 537, 'none': 538, 'note': 539, 'allow': 540, 'david': 541, 'sister': 542, 'simpl': 543, 'femal': 544, 'deliv': 545, 'ok': 546, 'convinc': 547, 'class': 548, 'check': 549, 'suspens': 550, 'win': 551, 'oscar': 552, 'buy': 553, 'huge': 554, 'valu': 555, 'sexual': 556, 'cool': 557, 'scari': 558, 'excit': 559, 'similar': 560, 'exactli': 561, 'apart': 562, 'provid': 563, 'shown': 564, 'avoid': 565, 'seriou': 566, 'english': 567, 'taken': 568, 'whose': 569, 'cinematographi': 570, 'shock': 571, 'polit': 572, 'spoiler': 573, 'offic': 574, 'across': 575, 'middl': 576, 'street': 577, 'pass': 578, 'messag': 579, 'somewhat': 580, 'silli': 581, 'charm': 582, 'modern': 583, 'confus': 584, 'filmmak': 585, 'form': 586, 'tale': 587, 'singl': 588, 'jack': 589, 'mostli': 590, 'carri': 591, 'william': 592, 'attent': 593, 'sing': 594, 'subject': 595, 'five': 596, 'richard': 597, 'prove': 598, 'team': 599, 'stage': 600, 'unlik': 601, 'cop': 602, 'georg': 603, 'monster': 604, 'televis': 605, 'earth': 606, 'villain': 607, 'cover': 608, 'pay': 609, 'marri': 610, 'toward': 611, 'build': 612, 'parent': 613, 'pull': 614, 'due': 615, 'fill': 616, 'respect': 617, 'four': 618, 'dialog': 619, 'remind': 620, 'futur': 621, 'typic': 622, 'weak': 623, '7': 624, 'cheap': 625, 'intellig': 626, 'atmospher': 627, 'british': 628, '80': 629, 'clearli': 630, 'paul': 631, 'non': 632, 'dog': 633, 'knew': 634, 'fast': 635, '8': 636, 'artist': 637, 'crime': 638, 'easili': 639, 'escap': 640, 'doubt': 641, 'adult': 642, 'detail': 643, 'date': 644, 'romant': 645, 'member': 646, 'fire': 647, 'drive': 648, 'gun': 649, 'straight': 650, 'fit': 651, 'beyond': 652, 'attack': 653, 'imag': 654, 'upon': 655, 'posit': 656, 'whether': 657, 'fantast': 658, 'peter': 659, 'appreci': 660, 'aspect': 661, 'captur': 662, 'ten': 663, 'plan': 664, 'discov': 665, 'remain': 666, 'period': 667, 'near': 668, 'realist': 669, 'air': 670, 'mark': 671, 'red': 672, 'dull': 673, 'adapt': 674, 'within': 675, 'lose': 676, 'spend': 677, 'materi': 678, 'color': 679, 'chase': 680, 'mari': 681, 'storylin': 682, 'forget': 683, 'bunch': 684, 'clear': 685, 'lee': 686, 'victim': 687, 'nearli': 688, 'box': 689, 'york': 690, 'inspir': 691, 'match': 692, 'mess': 693, 'finish': 694, 'standard': 695, 'easi': 696, 'truth': 697, 'busi': 698, 'suffer': 699, 'dramat': 700, 'space': 701, 'bill': 702, 'western': 703, 'e': 704, 'list': 705, 'battl': 706, 'notic': 707, 'de': 708, 'french': 709, 'ad': 710, '9': 711, 'tom': 712, 'larg': 713, 'among': 714, 'eventu': 715, 'accept': 716, 'train': 717, 'agre': 718, 'spirit': 719, 'soundtrack': 720, 'third': 721, 'teenag': 722, 'adventur': 723, 'soldier': 724, 'sorri': 725, 'suggest': 726, 'famou': 727, 'drug': 728, 'babi': 729, 'normal': 730, 'cri': 731, 'ultim': 732, 'troubl': 733, 'contain': 734, 'certain': 735, 'cultur': 736, 'romanc': 737, 'rare': 738, 'lame': 739, 'somehow': 740, 'mix': 741, 'disney': 742, 'gone': 743, 'cartoon': 744, 'student': 745, 'reveal': 746, 'fear': 747, 'kept': 748, 'suck': 749, 'attract': 750, 'appeal': 751, 'premis': 752, 'greatest': 753, 'design': 754, 'secret': 755, 'shame': 756, 'throw': 757, 'copi': 758, 'scare': 759, 'wit': 760, 'america': 761, 'admit': 762, 'particular': 763, 'brought': 764, 'relat': 765, 'screenplay': 766, 'whatev': 767, 'pure': 768, '70': 769, 'averag': 770, 'harri': 771, 'master': 772, 'describ': 773, 'male': 774, 'treat': 775, '20': 776, 'fantasi': 777, 'issu': 778, 'warn': 779, 'inde': 780, 'background': 781, 'forward': 782, 'free': 783, 'project': 784, 'memor': 785, 'japanes': 786, 'poorli': 787, 'award': 788, 'locat': 789, 'potenti': 790, 'amus': 791, 'struggl': 792, 'magic': 793, 'weird': 794, 'societi': 795, 'okay': 796, 'accent': 797, 'imdb': 798, 'doctor': 799, 'hot': 800, 'water': 801, 'alien': 802, 'dr': 803, '30': 804, 'express': 805, 'odd': 806, 'crazi': 807, 'choic': 808, 'studio': 809, 'fiction': 810, 'control': 811, 'becam': 812, 'masterpiec': 813, 'fli': 814, 'difficult': 815, 'joe': 816, 'scream': 817, 'costum': 818, 'lover': 819, 'refer': 820, 'uniqu': 821, 'remak': 822, 'girlfriend': 823, 'vampir': 824, 'prison': 825, 'execut': 826, 'wear': 827, 'jump': 828, 'unless': 829, 'wood': 830, 'creepi': 831, 'cheesi': 832, 'superb': 833, 'otherwis': 834, 'parti': 835, 'roll': 836, 'ghost': 837, 'mad': 838, 'public': 839, 'depict': 840, 'moral': 841, 'earlier': 842, 'jane': 843, 'badli': 844, 'week': 845, 'dumb': 846, 'fi': 847, 'flaw': 848, 'grow': 849, 'sci': 850, 'deep': 851, 'maker': 852, 'cat': 853, 'footag': 854, 'connect': 855, 'older': 856, 'plenti': 857, 'bother': 858, 'outsid': 859, 'stick': 860, 'gay': 861, 'catch': 862, 'co': 863, 'plu': 864, 'popular': 865, 'equal': 866, 'social': 867, 'quickli': 868, 'disturb': 869, 'perfectli': 870, 'dress': 871, 'era': 872, '90': 873, 'mistak': 874, 'lie': 875, 'previou': 876, 'ride': 877, 'combin': 878, 'band': 879, 'concept': 880, 'answer': 881, 'rich': 882, 'surviv': 883, 'front': 884, 'sweet': 885, 'christma': 886, 'insid': 887, 'bare': 888, 'eat': 889, 'concern': 890, 'listen': 891, 'beat': 892, 'ben': 893, 'c': 894, 'serv': 895, 'term': 896, 'meant': 897, 'german': 898, 'la': 899, 'stereotyp': 900, 'hardli': 901, 'law': 902, 'innoc': 903, 'desper': 904, 'promis': 905, 'memori': 906, 'cute': 907, 'intent': 908, 'steal': 909, 'variou': 910, 'inform': 911, 'brain': 912, 'post': 913, 'tone': 914, 'island': 915, 'amount': 916, 'track': 917, 'nuditi': 918, 'compani': 919, 'claim': 920, 'store': 921, 'flat': 922, '50': 923, 'hair': 924, 'univers': 925, 'land': 926, 'kick': 927, 'scott': 928, 'fairli': 929, 'danger': 930, 'player': 931, 'crew': 932, 'plain': 933, 'step': 934, 'toni': 935, 'share': 936, 'tast': 937, 'centuri': 938, 'engag': 939, 'achiev': 940, 'cold': 941, 'travel': 942, 'rip': 943, 'suit': 944, 'record': 945, 'manner': 946, 'sadli': 947, 'wrote': 948, 'tension': 949, 'spot': 950, 'intens': 951, 'fascin': 952, 'familiar': 953, 'remark': 954, 'burn': 955, 'depth': 956, 'destroy': 957, 'histor': 958, 'sleep': 959, 'purpos': 960, 'languag': 961, 'ignor': 962, 'ruin': 963, 'delight': 964, 'unbeliev': 965, 'italian': 966, 'abil': 967, 'collect': 968, 'soul': 969, 'detect': 970, 'clever': 971, 'violent': 972, 'rape': 973, 'reach': 974, 'door': 975, 'liter': 976, 'scienc': 977, 'trash': 978, 'commun': 979, 'caught': 980, 'reveng': 981, 'creatur': 982, 'trip': 983, 'approach': 984, 'intrigu': 985, 'fashion': 986, 'introduc': 987, 'skill': 988, 'paint': 989, 'channel': 990, 'complex': 991, 'camp': 992, 'christian': 993, 'extra': 994, 'hole': 995, 'limit': 996, 'ann': 997, 'immedi': 998, 'mental': 999, 'slightli': 1000, 'million': 1001, '6': 1002, 'comput': 1003, 'mere': 1004, 'conclus': 1005, 'slasher': 1006, 'imposs': 1007, 'suddenli': 1008, 'neither': 1009, 'teen': 1010, 'crimin': 1011, 'physic': 1012, 'nation': 1013, 'spent': 1014, 'respons': 1015, 'planet': 1016, 'receiv': 1017, 'fake': 1018, 'sick': 1019, 'blue': 1020, 'bizarr': 1021, 'embarrass': 1022, 'indian': 1023, 'ring': 1024, '15': 1025, 'pop': 1026, 'drop': 1027, 'drag': 1028, 'haunt': 1029, 'suspect': 1030, 'pointless': 1031, 'search': 1032, 'edg': 1033, 'handl': 1034, 'biggest': 1035, 'common': 1036, 'arriv': 1037, 'faith': 1038, 'hurt': 1039, 'technic': 1040, 'angel': 1041, 'dad': 1042, 'genuin': 1043, 'solid': 1044, 'awesom': 1045, 'f': 1046, 'colleg': 1047, 'van': 1048, 'former': 1049, 'focu': 1050, 'count': 1051, 'tear': 1052, 'heavi': 1053, 'rais': 1054, 'wall': 1055, 'younger': 1056, 'visit': 1057, 'laughabl': 1058, 'excus': 1059, 'sign': 1060, 'fair': 1061, 'cult': 1062, 'key': 1063, 'tough': 1064, 'motion': 1065, 'super': 1066, 'desir': 1067, 'stun': 1068, 'addit': 1069, 'exploit': 1070, 'cloth': 1071, 'smith': 1072, 'tortur': 1073, 'race': 1074, 'davi': 1075, 'author': 1076, 'cross': 1077, 'jim': 1078, 'minor': 1079, 'consist': 1080, 'compel': 1081, 'focus': 1082, 'pathet': 1083, 'chemistri': 1084, 'commit': 1085, 'park': 1086, 'frank': 1087, 'tradit': 1088, 'obsess': 1089, 'grade': 1090, '60': 1091, 'asid': 1092, 'brutal': 1093, 'somewher': 1094, 'steve': 1095, 'grant': 1096, 'opportun': 1097, 'depress': 1098, 'rule': 1099, 'u': 1100, 'explor': 1101, 'besid': 1102, 'honest': 1103, 'anti': 1104, 'dub': 1105, 'trailer': 1106, 'intend': 1107, 'bar': 1108, 'regard': 1109, 'scientist': 1110, 'west': 1111, 'longer': 1112, 'decad': 1113, 'judg': 1114, 'silent': 1115, 'creativ': 1116, 'armi': 1117, 'wild': 1118, 'south': 1119, 'stewart': 1120, 'g': 1121, 'draw': 1122, 'road': 1123, 'govern': 1124, 'ex': 1125, 'boss': 1126, 'practic': 1127, 'motiv': 1128, 'surprisingli': 1129, 'gang': 1130, 'club': 1131, 'festiv': 1132, 'redeem': 1133, 'london': 1134, 'green': 1135, 'page': 1136, 'idiot': 1137, 'display': 1138, 'aliv': 1139, 'machin': 1140, 'militari': 1141, 'repeat': 1142, 'thrill': 1143, 'folk': 1144, 'yeah': 1145, '100': 1146, 'nobodi': 1147, '40': 1148, 'garbag': 1149, 'journey': 1150, 'smile': 1151, 'ground': 1152, 'tire': 1153, 'bought': 1154, 'mood': 1155, 'stone': 1156, 'sam': 1157, 'cost': 1158, 'mouth': 1159, 'noir': 1160, 'terrif': 1161, 'agent': 1162, 'utterli': 1163, 'requir': 1164, 'sexi': 1165, 'area': 1166, 'honestli': 1167, 'geniu': 1168, 'report': 1169, 'enter': 1170, 'humour': 1171, 'glad': 1172, 'investig': 1173, 'serial': 1174, 'passion': 1175, 'narr': 1176, 'occasion': 1177, 'climax': 1178, 'marriag': 1179, 'industri': 1180, 'studi': 1181, 'demon': 1182, 'nowher': 1183, 'ship': 1184, 'charli': 1185, 'center': 1186, 'loos': 1187, 'hors': 1188, 'bear': 1189, 'wow': 1190, 'hang': 1191, 'graphic': 1192, 'admir': 1193, 'giant': 1194, 'send': 1195, 'damn': 1196, 'loud': 1197, 'nake': 1198, 'profession': 1199, 'rel': 1200, 'subtl': 1201, 'blow': 1202, 'bottom': 1203, 'insult': 1204, 'batman': 1205, 'doubl': 1206, 'boyfriend': 1207, 'r': 1208, 'kelli': 1209, 'initi': 1210, 'frame': 1211, 'gem': 1212, 'opera': 1213, 'affect': 1214, 'cinemat': 1215, 'challeng': 1216, 'church': 1217, 'drawn': 1218, 'nightmar': 1219, 'fulli': 1220, 'evid': 1221, 'l': 1222, 'j': 1223, 'seek': 1224, 'arm': 1225, 'essenti': 1226, 'conflict': 1227, 'christoph': 1228, 'grace': 1229, 'wind': 1230, 'henri': 1231, 'witch': 1232, 'assum': 1233, 'narrat': 1234, 'push': 1235, 'hunt': 1236, 'wise': 1237, 'chri': 1238, 'repres': 1239, 'month': 1240, 'nomin': 1241, 'affair': 1242, 'hide': 1243, 'avail': 1244, 'sceneri': 1245, 'thu': 1246, 'smart': 1247, 'bond': 1248, 'justic': 1249, 'outstand': 1250, 'flashback': 1251, 'interview': 1252, 'presenc': 1253, 'satisfi': 1254, 'constantli': 1255, 'central': 1256, 'bed': 1257, 'iron': 1258, 'sell': 1259, 'content': 1260, 'gag': 1261, 'everybodi': 1262, 'slowli': 1263, 'hotel': 1264, 'hire': 1265, 'system': 1266, 'thrown': 1267, 'hey': 1268, 'individu': 1269, 'charl': 1270, 'adam': 1271, 'mediocr': 1272, 'allen': 1273, 'jone': 1274, 'ray': 1275, 'lesson': 1276, 'billi': 1277, 'cameo': 1278, 'photographi': 1279, 'fellow': 1280, 'pari': 1281, 'strike': 1282, 'independ': 1283, 'brief': 1284, 'rise': 1285, 'absurd': 1286, 'neg': 1287, 'phone': 1288, 'impact': 1289, 'born': 1290, 'model': 1291, 'ill': 1292, 'fresh': 1293, 'spoil': 1294, 'angl': 1295, 'likabl': 1296, 'abus': 1297, 'hill': 1298, 'discuss': 1299, 'ahead': 1300, 'sight': 1301, 'photograph': 1302, 'sent': 1303, 'logic': 1304, 'shine': 1305, 'blame': 1306, 'occur': 1307, 'bruce': 1308, 'mainli': 1309, 'forev': 1310, 'skip': 1311, 'commerci': 1312, 'surround': 1313, 'segment': 1314, 'held': 1315, 'teacher': 1316, 'blond': 1317, 'zero': 1318, 'summer': 1319, 'resembl': 1320, 'trap': 1321, 'satir': 1322, 'six': 1323, 'ball': 1324, 'queen': 1325, 'fool': 1326, 'twice': 1327, 'tragedi': 1328, 'sub': 1329, 'reaction': 1330, 'pack': 1331, 'bomb': 1332, 'protagonist': 1333, 'will': 1334, 'hospit': 1335, 'mile': 1336, 'sport': 1337, 'trust': 1338, 'vote': 1339, 'mom': 1340, 'drink': 1341, 'jerri': 1342, 'encount': 1343, 'plane': 1344, 'station': 1345, 'program': 1346, 'current': 1347, 'al': 1348, 'celebr': 1349, 'martin': 1350, 'choos': 1351, 'join': 1352, 'tragic': 1353, 'favourit': 1354, 'round': 1355, 'field': 1356, 'lord': 1357, 'jean': 1358, 'robot': 1359, 'vision': 1360, 'arthur': 1361, 'tie': 1362, 'random': 1363, 'roger': 1364, 'fortun': 1365, 'intern': 1366, 'dread': 1367, 'psycholog': 1368, 'improv': 1369, 'epic': 1370, 'nonsens': 1371, 'prefer': 1372, 'legend': 1373, 'formula': 1374, 'highlight': 1375, 'pleasur': 1376, 'tape': 1377, 'dollar': 1378, '11': 1379, 'object': 1380, 'thin': 1381, 'fox': 1382, 'porn': 1383, 'wide': 1384, 'gorgeou': 1385, 'buddi': 1386, 'ugli': 1387, 'influenc': 1388, 'prepar': 1389, 'nasti': 1390, 'ii': 1391, 'warm': 1392, 'progress': 1393, 'reflect': 1394, 'supposedli': 1395, 'worthi': 1396, 'youth': 1397, 'unusu': 1398, 'length': 1399, 'latter': 1400, 'crash': 1401, 'childhood': 1402, 'seven': 1403, 'shop': 1404, 'superior': 1405, 'theatr': 1406, 'remot': 1407, 'funniest': 1408, 'pilot': 1409, 'paid': 1410, 'disgust': 1411, 'trick': 1412, 'convers': 1413, 'fell': 1414, 'castl': 1415, 'rob': 1416, 'disast': 1417, 'establish': 1418, 'gangster': 1419, 'mine': 1420, 'heaven': 1421, 'ident': 1422, 'disappear': 1423, 'suicid': 1424, 'heroin': 1425, 'tend': 1426, 'mask': 1427, 'decis': 1428, 'singer': 1429, 'forgotten': 1430, 'partner': 1431, 'brian': 1432, 'alan': 1433, 'recogn': 1434, 'desert': 1435, 'p': 1436, 'thoroughli': 1437, 'ms': 1438, 'stuck': 1439, 'sky': 1440, 'replac': 1441, 'accur': 1442, 'market': 1443, 'seemingli': 1444, 'eddi': 1445, 'andi': 1446, 'danni': 1447, 'clue': 1448, 'commentari': 1449, 'uncl': 1450, 'jackson': 1451, 'devil': 1452, 'pair': 1453, 'that': 1454, 'refus': 1455, 'therefor': 1456, 'fault': 1457, 'river': 1458, 'accid': 1459, 'ed': 1460, 'unit': 1461, 'fate': 1462, 'afraid': 1463, 'tune': 1464, 'hidden': 1465, 'clean': 1466, 'russian': 1467, 'stephen': 1468, 'test': 1469, 'instanc': 1470, 'readi': 1471, 'quick': 1472, 'irrit': 1473, 'convey': 1474, 'captain': 1475, 'european': 1476, 'insan': 1477, 'frustrat': 1478, 'daniel': 1479, 'rescu': 1480, '1950': 1481, 'food': 1482, 'wed': 1483, 'chines': 1484, 'dirti': 1485, 'angri': 1486, 'lock': 1487, 'joy': 1488, 'steven': 1489, 'price': 1490, 'cage': 1491, 'bland': 1492, 'rang': 1493, 'anymor': 1494, 'wooden': 1495, 'n': 1496, 'rush': 1497, 'jason': 1498, 'news': 1499, 'board': 1500, 'worri': 1501, 'martial': 1502, '12': 1503, 'led': 1504, 'twenti': 1505, 'cgi': 1506, 'symbol': 1507, 'transform': 1508, 'hunter': 1509, 'johnni': 1510, 'invent': 1511, 'sentiment': 1512, 'onto': 1513, 'x': 1514, 'piti': 1515, 'attitud': 1516, 'explan': 1517, 'process': 1518, 'awar': 1519, 'owner': 1520, 'aim': 1521, 'favor': 1522, 'floor': 1523, 'energi': 1524, 'target': 1525, 'necessari': 1526, 'opposit': 1527, 'religi': 1528, 'insight': 1529, 'chick': 1530, 'window': 1531, 'blind': 1532, 'movement': 1533, 'comparison': 1534, 'possess': 1535, 'research': 1536, 'deepli': 1537, 'mountain': 1538, 'comed': 1539, 'grand': 1540, 'whatsoev': 1541, 'rain': 1542, 'mid': 1543, 'bank': 1544, 'began': 1545, 'shadow': 1546, 'parodi': 1547, 'princ': 1548, 'taylor': 1549, 'friendship': 1550, 'weapon': 1551, 'credibl': 1552, 'pre': 1553, 'dougla': 1554, 'flesh': 1555, 'teach': 1556, 'bloodi': 1557, 'protect': 1558, 'terror': 1559, 'hint': 1560, 'marvel': 1561, 'anybodi': 1562, 'drunk': 1563, 'load': 1564, 'accord': 1565, 'leader': 1566, 'watchabl': 1567, 'superman': 1568, 'brown': 1569, 'freddi': 1570, 'appropri': 1571, 'tim': 1572, 'jeff': 1573, 'seat': 1574, 'hitler': 1575, 'charg': 1576, 'unknown': 1577, 'knock': 1578, 'villag': 1579, 'keaton': 1580, 'unnecessari': 1581, 'media': 1582, 'england': 1583, 'enemi': 1584, 'empti': 1585, 'utter': 1586, 'perspect': 1587, 'dare': 1588, 'strength': 1589, 'wave': 1590, 'craft': 1591, 'buck': 1592, 'correct': 1593, 'kiss': 1594, 'contrast': 1595, 'ford': 1596, 'nativ': 1597, 'knowledg': 1598, 'magnific': 1599, 'anywher': 1600, 'distract': 1601, 'chill': 1602, 'soap': 1603, 'nazi': 1604, 'speed': 1605, 'breath': 1606, '1980': 1607, 'mission': 1608, 'ice': 1609, 'fred': 1610, 'crowd': 1611, 'moon': 1612, 'joan': 1613, 'jr': 1614, 'soft': 1615, 'kate': 1616, '000': 1617, 'frighten': 1618, 'dick': 1619, 'nick': 1620, 'dan': 1621, 'hundr': 1622, 'dozen': 1623, 'radio': 1624, 'somebodi': 1625, 'simon': 1626, 'shakespear': 1627, 'thousand': 1628, 'andrew': 1629, 'loss': 1630, 'academi': 1631, 'sum': 1632, 'quot': 1633, 'vehicl': 1634, 'account': 1635, 'root': 1636, 'leg': 1637, '1970': 1638, 'behavior': 1639, 'convent': 1640, 'gold': 1641, 'regular': 1642, 'demand': 1643, 'worker': 1644, 'pretenti': 1645, 'compet': 1646, 'candi': 1647, 'notabl': 1648, 'privat': 1649, 'stretch': 1650, 'explos': 1651, 'interpret': 1652, 'lynch': 1653, 'japan': 1654, 'constant': 1655, 'debut': 1656, 'tarzan': 1657, 'spi': 1658, 'translat': 1659, 'sea': 1660, 'prais': 1661, 'revolv': 1662, 'ass': 1663, 'technolog': 1664, 'sat': 1665, 'jesu': 1666, 'quiet': 1667, 'franc': 1668, 'threaten': 1669, 'failur': 1670, 'aid': 1671, 'kevin': 1672, 'higher': 1673, 'toy': 1674, 'punch': 1675, 'met': 1676, 'interact': 1677, 'mike': 1678, 'abandon': 1679, 'vh': 1680, 'command': 1681, 'separ': 1682, 'confront': 1683, 'bet': 1684, 'stunt': 1685, 'site': 1686, 'gotten': 1687, 'techniqu': 1688, 'recal': 1689, 'belong': 1690, 'servic': 1691, 'bug': 1692, 'cabl': 1693, 'foot': 1694, 'freak': 1695, 'fu': 1696, 'capabl': 1697, 'african': 1698, 'bright': 1699, 'jimmi': 1700, 'clark': 1701, 'boat': 1702, 'presid': 1703, 'fat': 1704, 'stock': 1705, 'succeed': 1706, 'gene': 1707, 'structur': 1708, 'spanish': 1709, 'paper': 1710, 'kidnap': 1711, 'belief': 1712, 'factor': 1713, 'whilst': 1714, 'tree': 1715, 'complic': 1716, 'realis': 1717, 'educ': 1718, 'realism': 1719, 'attend': 1720, 'bob': 1721, 'witti': 1722, 'broken': 1723, 'finest': 1724, 'assist': 1725, 'santa': 1726, 'smoke': 1727, 'up': 1728, 'observ': 1729, 'v': 1730, 'depart': 1731, 'determin': 1732, 'lewi': 1733, 'routin': 1734, 'fame': 1735, 'rubbish': 1736, 'hat': 1737, 'domin': 1738, 'oper': 1739, 'morgan': 1740, 'hook': 1741, 'lone': 1742, 'kinda': 1743, 'safe': 1744, 'advanc': 1745, 'foreign': 1746, 'numer': 1747, 'rank': 1748, 'civil': 1749, 'werewolf': 1750, 'washington': 1751, 'shallow': 1752, 'shape': 1753, 'rose': 1754, 'vs': 1755, 'gari': 1756, 'morn': 1757, 'kong': 1758, 'ordinari': 1759, 'winner': 1760, 'accomplish': 1761, 'grab': 1762, 'virtual': 1763, 'peac': 1764, 'whenev': 1765, 'h': 1766, 'offens': 1767, 'luck': 1768, 'contriv': 1769, 'welcom': 1770, 'unfunni': 1771, 'activ': 1772, 'bigger': 1773, 'patient': 1774, 'complain': 1775, 'trek': 1776, 'con': 1777, 'dimension': 1778, 'pretend': 1779, 'wake': 1780, 'dri': 1781, 'flash': 1782, 'lesbian': 1783, 'code': 1784, 'eric': 1785, 'cain': 1786, 'statu': 1787, 'corrupt': 1788, 'manipul': 1789, 'dancer': 1790, 'albert': 1791, 'guard': 1792, 'context': 1793, 'sourc': 1794, 'awkward': 1795, 'speech': 1796, 'gain': 1797, 'signific': 1798, 'sean': 1799, 'corni': 1800, 'anthoni': 1801, 'psycho': 1802, 'clip': 1803, '13': 1804, 'reli': 1805, 'advic': 1806, 'w': 1807, 'curiou': 1808, 'priest': 1809, 'theatric': 1810, 'religion': 1811, 'flow': 1812, 'addict': 1813, 'jennif': 1814, 'howard': 1815, 'specif': 1816, 'skin': 1817, 'asian': 1818, 'secur': 1819, 'organ': 1820, 'luke': 1821, 'comfort': 1822, 'promot': 1823, 'core': 1824, 'golden': 1825, 'cheat': 1826, 'cash': 1827, 'lucki': 1828, 'associ': 1829, 'lower': 1830, 'dislik': 1831, 'degre': 1832, 'balanc': 1833, 'frankli': 1834, 'devic': 1835, 'regret': 1836, 'contribut': 1837, 'frequent': 1838, 'wing': 1839, 'spell': 1840, 'sake': 1841, 'forgiv': 1842, 'print': 1843, 'lake': 1844, 'mass': 1845, 'thoma': 1846, 'betti': 1847, 'crack': 1848, 'unexpect': 1849, 'gordon': 1850, 'categori': 1851, 'depend': 1852, 'amateur': 1853, 'invit': 1854, 'grown': 1855, 'construct': 1856, 'unfold': 1857, 'honor': 1858, 'matur': 1859, 'grew': 1860, 'walter': 1861, 'intellectu': 1862, 'anna': 1863, 'condit': 1864, 'sole': 1865, 'spectacular': 1866, 'mirror': 1867, 'sudden': 1868, 'veteran': 1869, 'grip': 1870, 'liner': 1871, 'card': 1872, 'demonstr': 1873, 'meanwhil': 1874, 'freedom': 1875, 'experienc': 1876, 'robin': 1877, 'overli': 1878, 'gift': 1879, 'subtitl': 1880, 'brilliantli': 1881, 'section': 1882, 'circumst': 1883, 'crappi': 1884, 'unabl': 1885, 'oliv': 1886, 'colour': 1887, 'theori': 1888, 'drew': 1889, 'sheriff': 1890, 'laughter': 1891, 'pile': 1892, 'cook': 1893, 'path': 1894, 'matt': 1895, 'sheer': 1896, 'altern': 1897, 'parker': 1898, 'accident': 1899, 'wander': 1900, 'relief': 1901, 'hall': 1902, 'defin': 1903, 'treatment': 1904, 'lawyer': 1905, 'sinatra': 1906, 'captiv': 1907, 'dragon': 1908, 'hank': 1909, 'gratuit': 1910, 'halloween': 1911, 'moor': 1912, 'k': 1913, 'jacki': 1914, 'kung': 1915, 'cowboy': 1916, 'broadway': 1917, 'wayn': 1918, 'unintent': 1919, 'wound': 1920, 'barbara': 1921, 'surreal': 1922, 'statement': 1923, 'spoof': 1924, 'winter': 1925, 'canadian': 1926, 'cheer': 1927, 'compos': 1928, 'treasur': 1929, 'fare': 1930, 'gonna': 1931, 'fish': 1932, 'unrealist': 1933, 'emerg': 1934, 'woodi': 1935, 'sensit': 1936, 'victor': 1937, 'sympathet': 1938, 'driven': 1939, 'neighbor': 1940, 'ran': 1941, 'glass': 1942, 'menac': 1943, 'expos': 1944, 'overlook': 1945, 'topic': 1946, 'authent': 1947, 'ancient': 1948, 'chief': 1949, 'michel': 1950, 'gross': 1951, 'handsom': 1952, 'built': 1953, 'comedian': 1954, 'feet': 1955, 'russel': 1956, 'pleasant': 1957, 'stranger': 1958, 'network': 1959, 'nevertheless': 1960, 'contemporari': 1961, 'cinderella': 1962, 'letter': 1963, 'consider': 1964, 'blockbust': 1965, 'earn': 1966, 'miser': 1967, 'endless': 1968, 'underr': 1969, 'gori': 1970, 'solv': 1971, 'switch': 1972, 'brook': 1973, 'edward': 1974, 'virgin': 1975, 'bullet': 1976, 'joseph': 1977, 'convict': 1978, 'victoria': 1979, 'scale': 1980, 'cynic': 1981, 'alex': 1982, 'scenario': 1983, '0': 1984, 'chosen': 1985, 'gut': 1986, 'curs': 1987, 'sword': 1988, 'com': 1989, 'outrag': 1990, 'substanc': 1991, 'uk': 1992, 'driver': 1993, 'wrap': 1994, 'monkey': 1995, 'screenwrit': 1996, 'juli': 1997, 'proper': 1998, 'bird': 1999, 'court': 2000, 'remov': 2001, 'indic': 2002, 'par': 2003, 'naiv': 2004, 'grave': 2005, 'rental': 2006, 'loser': 2007, 'inevit': 2008, 'roy': 2009, 'nanci': 2010, 'advertis': 2011, 'consequ': 2012, 'bridg': 2013, 'germani': 2014, 'fatal': 2015, 'le': 2016, 'slap': 2017, 'invis': 2018, 'brave': 2019, 'anger': 2020, 'footbal': 2021, 'loui': 2022, 'ador': 2023, 'provok': 2024, 'chan': 2025, 'anderson': 2026, 'alcohol': 2027, 'stumbl': 2028, 'willi': 2029, 'professor': 2030, 'ryan': 2031, 'bat': 2032, 'sharp': 2033, '1930': 2034, 'patrick': 2035, 'australian': 2036, 'assassin': 2037, 'eight': 2038, 'cell': 2039, 'saturday': 2040, 'refresh': 2041, 'heck': 2042, 'trilog': 2043, 'amateurish': 2044, 'strongli': 2045, 'lousi': 2046, 'liber': 2047, 'deni': 2048, 'ape': 2049, 'sin': 2050, 'vagu': 2051, 'justifi': 2052, 'san': 2053, 'resid': 2054, 'indi': 2055, 'creator': 2056, 'reput': 2057, 'defeat': 2058, 'terrifi': 2059, 'mini': 2060, 'sympathi': 2061, 'expert': 2062, 'endur': 2063, 'task': 2064, 'tabl': 2065, 'prevent': 2066, 'tediou': 2067, 'offend': 2068, 'rival': 2069, 'employ': 2070, 'trial': 2071, 'basebal': 2072, 'imit': 2073, 'che': 2074, 'max': 2075, 'dig': 2076, 'weekend': 2077, 'fairi': 2078, 'beach': 2079, 'europ': 2080, 'pitch': 2081, 'complaint': 2082, 'risk': 2083, 'purchas': 2084, 'murphi': 2085, 'format': 2086, 'glimps': 2087, 'powel': 2088, 'titan': 2089, 'hype': 2090, 'nois': 2091, 'bite': 2092, 'tini': 2093, 'harsh': 2094, 'reminisc': 2095, '14': 2096, 'asleep': 2097, 'strip': 2098, 'till': 2099, 'fals': 2100, 'prime': 2101, 'north': 2102, 'descript': 2103, 'revel': 2104, 'texa': 2105, 'destruct': 2106, 'africa': 2107, 'surfac': 2108, 'semi': 2109, 'inner': 2110, 'uninterest': 2111, 'spin': 2112, 'sitcom': 2113, 'excess': 2114, 'arrest': 2115, 'maintain': 2116, 'controversi': 2117, 'argu': 2118, 'makeup': 2119, 'massiv': 2120, 'hitchcock': 2121, 'dinosaur': 2122, 'twin': 2123, 'melodrama': 2124, 'stare': 2125, 'ludicr': 2126, 'expens': 2127, 'ideal': 2128, 'insist': 2129, 'reject': 2130, 'kim': 2131, 'subplot': 2132, 'press': 2133, 'forest': 2134, 'nail': 2135, 'ga': 2136, 'supernatur': 2137, 'host': 2138, 'atroci': 2139, 'ala': 2140, 'erot': 2141, 'columbo': 2142, 'presum': 2143, 'notch': 2144, 'identifi': 2145, 'dude': 2146, 'cant': 2147, 'crude': 2148, 'forgett': 2149, 'plagu': 2150, 'closer': 2151, 'character': 2152, 'guest': 2153, 'method': 2154, 'princess': 2155, 'foster': 2156, 'landscap': 2157, 'beast': 2158, 'ear': 2159, 'border': 2160, 'lion': 2161, 'accus': 2162, 'bound': 2163, 'birth': 2164, 'previous': 2165, 'storytel': 2166, 'urban': 2167, 'damag': 2168, 'aunt': 2169, 'pacino': 2170, 'jungl': 2171, 'doll': 2172, 'nude': 2173, 'emma': 2174, 'thirti': 2175, 'jess': 2176, 'propaganda': 2177, 'chose': 2178, 'guid': 2179, 'mainstream': 2180, 'whoever': 2181, '25': 2182, 'warrior': 2183, 'pet': 2184, 'mate': 2185, 'deadli': 2186, 'gritti': 2187, 'merit': 2188, 'exact': 2189, 'size': 2190, 'cooper': 2191, 'friday': 2192, 'latest': 2193, 'poster': 2194, 'upset': 2195, 'citizen': 2196, 'corps': 2197, 'wilson': 2198, 'ton': 2199, 'warner': 2200, 'buff': 2201, 'popul': 2202, 'blend': 2203, 'rough': 2204, '1990': 2205, 'sun': 2206, 'settl': 2207, 'contact': 2208, 'contest': 2209, 'bu': 2210, 'environ': 2211, 'rat': 2212, 'pitt': 2213, 'mgm': 2214, 'select': 2215, 'overcom': 2216, 'metal': 2217, 'widow': 2218, 'alic': 2219, 'link': 2220, 'ted': 2221, 'guilti': 2222, 'revolut': 2223, 'lift': 2224, 'particip': 2225, 'matrix': 2226, 'moron': 2227, 'johnson': 2228, '1960': 2229, 'prostitut': 2230, 'exagger': 2231, 'corner': 2232, 'accompani': 2233, 'afternoon': 2234, 'corpor': 2235, 'leagu': 2236, 'doom': 2237, 'sincer': 2238, 'clair': 2239, 'instal': 2240, 'multipl': 2241, 'friendli': 2242, 'hood': 2243, 'holm': 2244, 'lugosi': 2245, 'irish': 2246, 'blah': 2247, 'examin': 2248, 'junk': 2249, 'advis': 2250, 'hip': 2251, 'defend': 2252, 'aka': 2253, 'grim': 2254, 'sunday': 2255, 'campi': 2256, 'string': 2257, 'tight': 2258, 'confid': 2259, 'varieti': 2260, 'icon': 2261, 'shut': 2262, 'pro': 2263, 'shake': 2264, 'rachel': 2265, 'mexican': 2266, 'jaw': 2267, 'attach': 2268, 'directli': 2269, 'goal': 2270, 'denni': 2271, 'sullivan': 2272, 'medic': 2273, 'terrorist': 2274, 'truck': 2275, 'vietnam': 2276, 'sentenc': 2277, 'dean': 2278, 'prior': 2279, 'breast': 2280, 'courag': 2281, 'sarah': 2282, 'duke': 2283, 'legendari': 2284, 'bourn': 2285, 'un': 2286, 'hong': 2287, 'entri': 2288, 'yell': 2289, 'proceed': 2290, 'nose': 2291, 'donald': 2292, 'split': 2293, 'behav': 2294, 'unconvinc': 2295, 'gather': 2296, 'stolen': 2297, 'crush': 2298, 'borrow': 2299, 'concentr': 2300, 'everywher': 2301, 'jerk': 2302, 'forth': 2303, 'lifetim': 2304, 'swim': 2305, 'buri': 2306, 'confess': 2307, 'deliveri': 2308, 'spite': 2309, 'lip': 2310, 'pan': 2311, 'california': 2312, 'julia': 2313, 'turkey': 2314, 'downright': 2315, 'freeman': 2316, 'hoffman': 2317, 'flight': 2318, 'proud': 2319, 'quest': 2320, 'reward': 2321, 'china': 2322, 'offici': 2323, 'inept': 2324, 'notori': 2325, 'lazi': 2326, 'encourag': 2327, 'jon': 2328, 'betray': 2329, 'jail': 2330, 'sink': 2331, 'worthwhil': 2332, 'fade': 2333, 'fabul': 2334, 'sir': 2335, 'cousin': 2336, 'relev': 2337, 'storm': 2338, 'lisa': 2339, 'bag': 2340, 'susan': 2341, 'branagh': 2342, 'shower': 2343, 'teeth': 2344, 'retard': 2345, 'bell': 2346, 'survivor': 2347, 'imageri': 2348, 'finger': 2349, 'shark': 2350, 'mexico': 2351, 'trade': 2352, 'hugh': 2353, 'tremend': 2354, 'bride': 2355, 'facial': 2356, 'summari': 2357, 'quirki': 2358, 'alright': 2359, 'toler': 2360, 'stab': 2361, 'pose': 2362, 'hyster': 2363, 'von': 2364, 'bitter': 2365, 'ha': 2366, 'blown': 2367, 'bone': 2368, 'address': 2369, 'cruel': 2370, 'ron': 2371, 'afterward': 2372, 'ned': 2373, 'christ': 2374, 'scheme': 2375, 'larri': 2376, 'screw': 2377, 'feed': 2378, 'traci': 2379, 'snake': 2380, 'swear': 2381, 'beg': 2382, 'distinct': 2383, 'thumb': 2384, 'tour': 2385, 'pursu': 2386, 'obscur': 2387, 'photo': 2388, 'mechan': 2389, 'chair': 2390, 'stomach': 2391, 'raw': 2392, 'occas': 2393, 'chain': 2394, 'argument': 2395, 'hardi': 2396, 'render': 2397, 'southern': 2398, 'cabin': 2399, 'holiday': 2400, 'heavili': 2401, 'gruesom': 2402, 'resist': 2403, 'necessarili': 2404, 'sidney': 2405, 'racist': 2406, 'indulg': 2407, 'india': 2408, 'philip': 2409, 'understood': 2410, 'satan': 2411, 'tongu': 2412, 'stalk': 2413, 'pregnant': 2414, 'forgot': 2415, 'integr': 2416, 'belov': 2417, 'lay': 2418, 'midnight': 2419, 'obnoxi': 2420, 'fourth': 2421, 'outfit': 2422, 'magazin': 2423, 'restor': 2424, 'slapstick': 2425, '17': 2426, 'garden': 2427, 'ticket': 2428, 'inhabit': 2429, 'carol': 2430, 'deeper': 2431, 'brad': 2432, 'incid': 2433, 'lincoln': 2434, 'devot': 2435, 'shoe': 2436, 'maria': 2437, 'guarante': 2438, 'anticip': 2439, 'benefit': 2440, 'sandler': 2441, 'divorc': 2442, 'lili': 2443, 'underground': 2444, 'disbelief': 2445, 'elizabeth': 2446, 'creation': 2447, 'greater': 2448, 'explod': 2449, 'mildli': 2450, 'bbc': 2451, 'capit': 2452, 'princip': 2453, 'amazingli': 2454, 'cring': 2455, 'slave': 2456, 'extraordinari': 2457, 'introduct': 2458, 'halfway': 2459, 'funnier': 2460, 'lesli': 2461, 'transfer': 2462, 'extent': 2463, 'enhanc': 2464, 'punish': 2465, 'tap': 2466, 'wreck': 2467, 'overwhelm': 2468, 'advantag': 2469, 'text': 2470, 'east': 2471, 'dynam': 2472, 'plant': 2473, 'jessica': 2474, 'lo': 2475, 'horrif': 2476, 'deliber': 2477, 'lane': 2478, 'error': 2479, 'preview': 2480, 'basi': 2481, 'miller': 2482, 'vincent': 2483, 'homosexu': 2484, 'miscast': 2485, 'sophist': 2486, '2000': 2487, 'ensu': 2488, 'appli': 2489, 'vacat': 2490, 'uncomfort': 2491, 'mansion': 2492, 'sleazi': 2493, 'reed': 2494, 'steel': 2495, 'bollywood': 2496, 'spoken': 2497, 'via': 2498, 'elev': 2499, 'measur': 2500, 'extend': 2501, 'goofi': 2502, 'alter': 2503, 'beer': 2504, 'blair': 2505, 'stanley': 2506, 'dentist': 2507, 'conceiv': 2508, 'fix': 2509, 'assign': 2510, 'savag': 2511, 'mous': 2512, 'breathtak': 2513, 'overact': 2514, 'hippi': 2515, 'daili': 2516, 'melt': 2517, 'cathol': 2518, 'oppos': 2519, 'sacrific': 2520, 'subsequ': 2521, 'carpent': 2522, 'succe': 2523, 'properli': 2524, 'inspector': 2525, 'nowaday': 2526, 'burt': 2527, 'everyday': 2528, 'laura': 2529, 'massacr': 2530, 'neck': 2531, 'circl': 2532, 'block': 2533, 'pool': 2534, 'portrait': 2535, 'fallen': 2536, 'lesser': 2537, 'grey': 2538, 'mob': 2539, 'concert': 2540, 'access': 2541, 'seagal': 2542, 'christi': 2543, 'fay': 2544, 'chees': 2545, 'relax': 2546, 'sinist': 2547, 'competit': 2548, 'react': 2549, 'jake': 2550, 'isol': 2551, 'usa': 2552, 'jewish': 2553, 'spiritu': 2554, 'immens': 2555, 'nonetheless': 2556, 'creep': 2557, 'chop': 2558, 'ironi': 2559, 'nine': 2560, 'appal': 2561, 'lyric': 2562, 'suitabl': 2563, 'stink': 2564, '2006': 2565, 'showcas': 2566, 'reduc': 2567, 'shirt': 2568, 'adopt': 2569, 'nut': 2570, 'luci': 2571, 'franchis': 2572, 'user': 2573, 'needless': 2574, 'sold': 2575, 'navi': 2576, 'retir': 2577, 'rage': 2578, 'spring': 2579, 'per': 2580, 'bath': 2581, 'digit': 2582, 'zone': 2583, 'uninspir': 2584, 'asham': 2585, 'bulli': 2586, 'stanwyck': 2587, 'nurs': 2588, 'jay': 2589, '1940': 2590, 'upper': 2591, 'amongst': 2592, 'illustr': 2593, 'oddli': 2594, '2001': 2595, 'broadcast': 2596, 'laid': 2597, 'sutherland': 2598, 'disguis': 2599, 'throat': 2600, 'aspir': 2601, 'fulfil': 2602, 'baker': 2603, 'stylish': 2604, 'brando': 2605, '18': 2606, 'thief': 2607, 'em': 2608, 'pound': 2609, 'endear': 2610, 'wanna': 2611, 'neighborhood': 2612, 'pride': 2613, 'impli': 2614, 'nobl': 2615, 'wwii': 2616, 'prop': 2617, 'diseas': 2618, 'shift': 2619, 'tens': 2620, 'distribut': 2621, 'shoulder': 2622, 'coher': 2623, '16': 2624, 'dawn': 2625, 'dinner': 2626, 'albeit': 2627, 'bett': 2628, 'cinematograph': 2629, 'rochest': 2630, 'bo': 2631, 'forti': 2632, 'knife': 2633, 'poignant': 2634, 'silenc': 2635, 'rebel': 2636, 'contract': 2637, 'function': 2638, 'surf': 2639, 'shout': 2640, 'matthau': 2641, 'wash': 2642, 'snow': 2643, 'height': 2644, 'silver': 2645, 'widmark': 2646, 'heat': 2647, 'cancel': 2648, 'henc': 2649, 'internet': 2650, 'proof': 2651, 'eeri': 2652, 'reunion': 2653, 'chuck': 2654, 'duti': 2655, 'mindless': 2656, 'cannib': 2657, 'horrend': 2658, 'elvira': 2659, 'derek': 2660, 'instinct': 2661, 'neat': 2662, 'incoher': 2663, 'elvi': 2664, 'premier': 2665, 'innov': 2666, 'absorb': 2667, 'musician': 2668, 'glori': 2669, 'mill': 2670, 'greatli': 2671, 'alik': 2672, 'torn': 2673, 'etern': 2674, 'spielberg': 2675, 'pie': 2676, 'repetit': 2677, 'racism': 2678, 'infam': 2679, 'precis': 2680, 'nelson': 2681, 'blank': 2682, 'trite': 2683, 'lovabl': 2684, 'bang': 2685, 'homag': 2686, 'crisi': 2687, 'horrifi': 2688, 'redempt': 2689, 'burton': 2690, 'diamond': 2691, 'britain': 2692, 'wealthi': 2693, 'announc': 2694, 'itali': 2695, 'fbi': 2696, 'ensembl': 2697, 'streisand': 2698, 'chaplin': 2699, 'resolut': 2700, 'parallel': 2701, 'flop': 2702, 'pat': 2703, 'helen': 2704, 'hammer': 2705, 'dedic': 2706, 'happili': 2707, 'wilder': 2708, 'disagre': 2709, 'st': 2710, 'conclud': 2711, 'plastic': 2712, 'triumph': 2713, 'cube': 2714, 'factori': 2715, 'broke': 2716, 'oil': 2717, 'carter': 2718, 'mar': 2719, 'own': 2720, 'fighter': 2721, 'climb': 2722, 'weight': 2723, 'bush': 2724, 'march': 2725, 'chuckl': 2726, 'rocket': 2727, 'row': 2728, 'vega': 2729, 'unforgett': 2730, 'spare': 2731, 'wherea': 2732, 'boot': 2733, 'sensibl': 2734, 'luca': 2735, 'dane': 2736, 'kurt': 2737, 'enorm': 2738, 'lust': 2739, 'mst3k': 2740, 'dump': 2741, 'meaning': 2742, 'thug': 2743, 'dear': 2744, 'adequ': 2745, 'fifti': 2746, 'threat': 2747, 'rap': 2748, 'bobbi': 2749, 'brand': 2750, 'stress': 2751, 'caricatur': 2752, 'butt': 2753, 'difficulti': 2754, 'engin': 2755, 'arnold': 2756, 'karloff': 2757, 'polish': 2758, 'ralph': 2759, 'barri': 2760, 'fest': 2761, 'journalist': 2762, 'elabor': 2763, 'secretari': 2764, 'flynn': 2765, 'arrog': 2766, 'homeless': 2767, 'swing': 2768, 'hamlet': 2769, 'ego': 2770, 'conspiraci': 2771, 'induc': 2772, 'simpson': 2773, 'grate': 2774, 'spike': 2775, 'resort': 2776, 'fanci': 2777, 'tool': 2778, 'unbear': 2779, 'float': 2780, 'arrang': 2781, 'puppet': 2782, 'tribut': 2783, 'pig': 2784, 'exercis': 2785, 'choreograph': 2786, 'basement': 2787, 'cruis': 2788, 'muppet': 2789, 'phillip': 2790, 'guilt': 2791, 'boll': 2792, 'babe': 2793, 'fianc': 2794, 'scarecrow': 2795, '24': 2796, 'ham': 2797, 'medium': 2798, 'layer': 2799, 'tower': 2800, 'slip': 2801, 'puzzl': 2802, 'toilet': 2803, 'stan': 2804, 'document': 2805, 'ward': 2806, 'file': 2807, 'korean': 2808, 'item': 2809, 'editor': 2810, 'persona': 2811, 'librari': 2812, 'superfici': 2813, 'spark': 2814, 'inexplic': 2815, 'transit': 2816, 'territori': 2817, 'catherin': 2818, 'larger': 2819, 'denzel': 2820, 'slaughter': 2821, 'philosoph': 2822, 'minim': 2823, 'glover': 2824, 'orient': 2825, 'portion': 2826, 'assur': 2827, 'doc': 2828, 'walken': 2829, 'pg': 2830, 'financi': 2831, 'shi': 2832, 'jeremi': 2833, 'sneak': 2834, 'boredom': 2835, 'dorothi': 2836, 'jet': 2837, 'wolf': 2838, 'ban': 2839, 'curti': 2840, 'owe': 2841, 'metaphor': 2842, 'backdrop': 2843, 'cusack': 2844, 'hudson': 2845, 'eleph': 2846, 'profound': 2847, 'multi': 2848, 'ambigu': 2849, 'whale': 2850, 'hack': 2851, 'stiff': 2852, '2005': 2853, 'ultra': 2854, 'implaus': 2855, 'elsewher': 2856, 'rave': 2857, 'union': 2858, 'birthday': 2859, 'viru': 2860, 'gadget': 2861, 'notion': 2862, 'bibl': 2863, 'reader': 2864, 'pad': 2865, 'slight': 2866, 'deriv': 2867, 'urg': 2868, '1st': 2869, 'squar': 2870, 'distanc': 2871, 'eva': 2872, 'poison': 2873, 'disc': 2874, 'eastwood': 2875, 'afford': 2876, 'lloyd': 2877, 'newspap': 2878, 'hawk': 2879, 'canada': 2880, 'superhero': 2881, 'drown': 2882, 'button': 2883, 'montag': 2884, 'cure': 2885, 'health': 2886, 'spread': 2887, 'huh': 2888, 'restaur': 2889, 'essenc': 2890, 'skit': 2891, 'heston': 2892, 'sadist': 2893, 'charisma': 2894, 'maniac': 2895, 'estat': 2896, 'companion': 2897, 'godfath': 2898, 'gradual': 2899, 'dealt': 2900, 'peak': 2901, 'fetch': 2902, 'invest': 2903, 'lab': 2904, 'muslim': 2905, 'scoobi': 2906, 'kane': 2907, 'subtleti': 2908, 'countless': 2909, 'alli': 2910, 'servant': 2911, 'miik': 2912, 'ritter': 2913, 'gothic': 2914, 'tea': 2915, 'cup': 2916, 'electr': 2917, 'heroic': 2918, 'charismat': 2919, 'salli': 2920, 'briefli': 2921, 'iii': 2922, 'elect': 2923, 'bud': 2924, 'reel': 2925, 'ingredi': 2926, 'grandmoth': 2927, 'nuanc': 2928, 'admittedli': 2929, 'toss': 2930, 'resourc': 2931, 'tender': 2932, 'neil': 2933, 'cole': 2934, 'wannab': 2935, 'carrey': 2936, 'mild': 2937, 'kubrick': 2938, 'mafia': 2939, 'stood': 2940, 'label': 2941, 'dawson': 2942, 'stronger': 2943, 'punk': 2944, 'pauli': 2945, 'reev': 2946, 'pit': 2947, 'gate': 2948, 'poverti': 2949, 'shall': 2950, 'smash': 2951, 'smooth': 2952, 'easier': 2953, 'useless': 2954, 'terri': 2955, 'bakshi': 2956, 'outcom': 2957, 'updat': 2958, 'fond': 2959, 'ian': 2960, 'assault': 2961, 'cox': 2962, 'burst': 2963, 'tag': 2964, 'astair': 2965, 'cardboard': 2966, 'increasingli': 2967, 'rex': 2968, 'vari': 2969, 'fist': 2970, 'melodramat': 2971, 'coincid': 2972, 'vulner': 2973, 'resolv': 2974, 'samurai': 2975, 'sketch': 2976, 'qualifi': 2977, '2002': 2978, 'exchang': 2979, 'divers': 2980, 'tame': 2981, 'templ': 2982, 'insert': 2983, 'luckili': 2984, 'blast': 2985, 'brillianc': 2986, 'scratch': 2987, 'suspend': 2988, 'be': 2989, 'conveni': 2990, 'reynold': 2991, 'seventi': 2992, 'farm': 2993, 'coach': 2994, 'jami': 2995, 'ambiti': 2996, 'pin': 2997, 'meat': 2998, 'nuclear': 2999, 'strictli': 3000, 'fisher': 3001, 'soprano': 3002, 'walker': 3003, 'matthew': 3004, 'hamilton': 3005, 'gotta': 3006, 'revers': 3007, 'spooki': 3008, 'recreat': 3009, 'eccentr': 3010, 'kudo': 3011, 'grasp': 3012, 'instantli': 3013, 'discoveri': 3014, 'joey': 3015, 'timeless': 3016, 'worthless': 3017, 'closet': 3018, 'struck': 3019, 'empir': 3020, 'cave': 3021, 'clock': 3022, 'convolut': 3023, 'brosnan': 3024, 'monk': 3025, 'butcher': 3026, 'ninja': 3027, 'norman': 3028, 'communist': 3029, 'importantli': 3030, 'fifteen': 3031, 'miracl': 3032, 'eighti': 3033, 'wipe': 3034, 'declar': 3035, 'pal': 3036, 'gray': 3037, 'mitchel': 3038, 'seller': 3039, 'sloppi': 3040, 'evok': 3041, 'selfish': 3042, 'clown': 3043, 'inconsist': 3044, 'sidekick': 3045, 'partli': 3046, 'bleak': 3047, 'cliff': 3048, 'superbl': 3049, 'cheek': 3050, 'aforement': 3051, 'australia': 3052, 'websit': 3053, 'psychiatrist': 3054, 'flawless': 3055, 'destin': 3056, '45': 3057, 'lifestyl': 3058, 'piano': 3059, 'enthusiast': 3060, 'farc': 3061, 'chew': 3062, 'ho': 3063, 'debat': 3064, 'seed': 3065, 'stoog': 3066, 'dash': 3067, 'soviet': 3068, 'pressur': 3069, 'directori': 3070, 'incompet': 3071, 'splatter': 3072, 'anni': 3073, 'wick': 3074, 'regardless': 3075, 'dire': 3076, 'drivel': 3077, 'akshay': 3078, 'wrestl': 3079, 'abc': 3080, 'kitchen': 3081, 'slice': 3082, 'bash': 3083, 'emili': 3084, 'jar': 3085, 'helicopt': 3086, 'judi': 3087, 'increas': 3088, 'dave': 3089, 'cagney': 3090, 'cameron': 3091, 'duo': 3092, 'glow': 3093, 'recov': 3094, 'beaten': 3095, 'curios': 3096, 'seduc': 3097, 'ken': 3098, 'boil': 3099, 'suppli': 3100, 'lou': 3101, 'chapter': 3102, 'pleasantli': 3103, 'prize': 3104, 'mann': 3105, 'blob': 3106, 'artifici': 3107, 'distant': 3108, 'flower': 3109, 'cia': 3110, 'doo': 3111, 'psychot': 3112, 'glenn': 3113, 'craven': 3114, 'drunken': 3115, 'panic': 3116, 'francisco': 3117, 'craig': 3118, 'combat': 3119, 'hop': 3120, 'eleg': 3121, 'ranger': 3122, 'goldberg': 3123, 'laurel': 3124, 'favour': 3125, 'turner': 3126, 'perri': 3127, 'web': 3128, 'ellen': 3129, 'splendid': 3130, 'wizard': 3131, 'gentl': 3132, 'shortli': 3133, 'alexand': 3134, 'graduat': 3135, 'slightest': 3136, 'fx': 3137, 'ruth': 3138, 'plausibl': 3139, '20th': 3140, 'falk': 3141, 'rid': 3142, 'greek': 3143, 'hatr': 3144, 'min': 3145, 'gandhi': 3146, 'flip': 3147, 'philosophi': 3148, 'modesti': 3149, 'we': 3150, 'jealou': 3151, 'harm': 3152, 'legal': 3153, 'preciou': 3154, 'tall': 3155, 'knight': 3156, 'ocean': 3157, 'lend': 3158, 'unpleas': 3159, 'futurist': 3160, 'dracula': 3161, 'fund': 3162, 'felix': 3163, 'manhattan': 3164, 'holi': 3165, 'reviv': 3166, 'overdon': 3167, 'childish': 3168, 'explicit': 3169, 'thread': 3170, 'scientif': 3171, 'forbidden': 3172, 'mock': 3173, 'digniti': 3174, 'tank': 3175, 'ami': 3176, 'bless': 3177, 'giallo': 3178, 'nod': 3179, 'repeatedli': 3180, 'fever': 3181, 'thick': 3182, 'elderli': 3183, 'torment': 3184, '99': 3185, 'broad': 3186, 'awe': 3187, 'mel': 3188, 'awaken': 3189, 'eve': 3190, 'margaret': 3191, 'unwatch': 3192, 'nerv': 3193, '2004': 3194, 'verhoeven': 3195, 'yesterday': 3196, 'pirat': 3197, 'lean': 3198, 'bin': 3199, 'uniform': 3200, 'custom': 3201, 'ah': 3202, 'griffith': 3203, 'roman': 3204, 'ambit': 3205, 'automat': 3206, 'eas': 3207, 'romero': 3208, 'absenc': 3209, 'timothi': 3210, 'publish': 3211, 'kay': 3212, 'politician': 3213, 'launch': 3214, 'rivet': 3215, 'acclaim': 3216, 'royal': 3217, 'stiller': 3218, 'antic': 3219, 'darker': 3220, 'homicid': 3221, 'phrase': 3222, 'transport': 3223, 'warren': 3224, 'pierc': 3225, 'termin': 3226, 'stinker': 3227, 'pulp': 3228, 'wallac': 3229, 'bathroom': 3230, 'purpl': 3231, 'sunshin': 3232, 'tomato': 3233, 'foul': 3234, 'gabriel': 3235, 'crook': 3236, 'evolv': 3237, '2003': 3238, 'q': 3239, 'awak': 3240, 'album': 3241, 'choreographi': 3242, 'juvenil': 3243, 'pray': 3244, 'revolutionari': 3245, 'viciou': 3246, 'kenneth': 3247, 'saint': 3248, 'hollow': 3249, 'li': 3250, 'packag': 3251, 'karen': 3252, 'marin': 3253, 'eyr': 3254, 'sixti': 3255, 'contrari': 3256, 'horrid': 3257, 'ought': 3258, 'brazil': 3259, 'coloni': 3260, 'donna': 3261, 'rambo': 3262, 'prom': 3263, 'twelv': 3264, 'dose': 3265, 'defi': 3266, 'blade': 3267, 'overr': 3268, 'kapoor': 3269, 'nerd': 3270, 'option': 3271, 'boast': 3272, 'conserv': 3273, 'beatti': 3274, 'ireland': 3275, 'candid': 3276, 'stole': 3277, 'mummi': 3278, 'ramon': 3279, 'mildr': 3280, 'global': 3281, 'protest': 3282, 'collabor': 3283, 'detract': 3284, 'astonish': 3285, 'jazz': 3286, 'funer': 3287, 'confirm': 3288, 'fulci': 3289, 'flame': 3290, 'natali': 3291, 'trio': 3292, 'kirk': 3293, 'altman': 3294, 'whip': 3295, 'leap': 3296, 'bottl': 3297, 'delici': 3298, 'bull': 3299, 'tommi': 3300, 'shade': 3301, 'destini': 3302, 'enterpris': 3303, 'audio': 3304, 'spit': 3305, 'yellow': 3306, 'nicholson': 3307, 'blake': 3308, 'racial': 3309, 'mystic': 3310, 'inherit': 3311, 'swedish': 3312, 'staff': 3313, 'merci': 3314, 'adolesc': 3315, 'reunit': 3316, 'pseudo': 3317, 'fonda': 3318, 'enchant': 3319, 'bedroom': 3320, 'harder': 3321, 'meaningless': 3322, 'todd': 3323, 'visibl': 3324, 'neo': 3325, 'vivid': 3326, 'popcorn': 3327, 'threw': 3328, 'altogeth': 3329, 'uneven': 3330, 'wire': 3331, 'lawrenc': 3332, 'synopsi': 3333, 'roommat': 3334, 'voight': 3335, 'moodi': 3336, 'bust': 3337, 'edi': 3338, 'ruthless': 3339, 'crocodil': 3340, 'leonard': 3341, 'madonna': 3342, 'lemmon': 3343, 'respond': 3344, 'exhibit': 3345, 'kennedi': 3346, 'befriend': 3347, 'await': 3348, 'reserv': 3349, 'suspici': 3350, 'decor': 3351, 'tip': 3352, 'atlanti': 3353, 'jew': 3354, 'fanat': 3355, 'dimens': 3356, 'chao': 3357, 'rural': 3358, 'clumsi': 3359, 'unsettl': 3360, 'bargain': 3361, 'carl': 3362, 'centr': 3363, 'garner': 3364, 'bradi': 3365, 'abysm': 3366, '2007': 3367, 'ventur': 3368, 'clint': 3369, 'incident': 3370, 'holli': 3371, 'bold': 3372, 'voyag': 3373, 'audit': 3374, 'palma': 3375, 'versu': 3376, 'mall': 3377, 'immigr': 3378, 'echo': 3379, 'daddi': 3380, 'hart': 3381, 'tiger': 3382, 'trail': 3383, 'acknowledg': 3384, '2nd': 3385, 'humili': 3386, 'cd': 3387, 'elimin': 3388, 'nearbi': 3389, 'wealth': 3390, 'lit': 3391, 'neglect': 3392, 'poetic': 3393, 'imperson': 3394, 'characterist': 3395, 'cari': 3396, 'troop': 3397, 'timon': 3398, 'ant': 3399, 'cuba': 3400, 'celluloid': 3401, 'infect': 3402, 'mickey': 3403, 'collaps': 3404, 'solo': 3405, 'domest': 3406, 'repuls': 3407, 'homer': 3408, 'prejudic': 3409, 'pun': 3410, 'mistaken': 3411, 'paus': 3412, 'jeffrey': 3413, 'marshal': 3414, 'saga': 3415, 'gear': 3416, 'apolog': 3417, 'chest': 3418, 'olivi': 3419, 'inan': 3420, '1996': 3421, 'undoubtedli': 3422, 'coffe': 3423, 'milk': 3424, 'cake': 3425, 'pant': 3426, 'equip': 3427, 'promin': 3428, 'interrupt': 3429, 'inappropri': 3430, 'tribe': 3431, 'harvey': 3432, 'ginger': 3433, 'hbo': 3434, 'assembl': 3435, 'leon': 3436, 'coat': 3437, 'sore': 3438, 'pot': 3439, 'instant': 3440, 'furthermor': 3441, 'airplan': 3442, 'primari': 3443, 'institut': 3444, 'trace': 3445, 'embrac': 3446, 'solut': 3447, 'florida': 3448, 'vulgar': 3449, 'retain': 3450, 'aveng': 3451, 'humbl': 3452, 'pen': 3453, 'jenni': 3454, 'maggi': 3455, 'brooklyn': 3456, 'colleagu': 3457, 'exot': 3458, 'highest': 3459, 'colonel': 3460, 'polanski': 3461, 'consum': 3462, 'devast': 3463, 'outer': 3464, 'smaller': 3465, 'illog': 3466, 'rick': 3467, 'seduct': 3468, '1999': 3469, 'linda': 3470, 'poke': 3471, 'dian': 3472, 'sale': 3473, 'disabl': 3474, 'descend': 3475, 'principl': 3476, 'strain': 3477, 'gender': 3478, 'wive': 3479, '3rd': 3480, 'ya': 3481, 'dutch': 3482, 'bowl': 3483, 'godzilla': 3484, 'cope': 3485, 'lol': 3486, 'secondli': 3487, 'bubbl': 3488, 'cue': 3489, 'inferior': 3490, 'rabbit': 3491, 'blatant': 3492, 'dud': 3493, 'mixtur': 3494, 'beneath': 3495, 'yard': 3496, 'scope': 3497, 'vast': 3498, 'primarili': 3499, 'hal': 3500, 'predecessor': 3501, 'dive': 3502, 'glamor': 3503, 'gloriou': 3504, 'devoid': 3505, 'gundam': 3506, 'et': 3507, 'april': 3508, 'arab': 3509, 'museum': 3510, 'myer': 3511, 'shirley': 3512, 'senseless': 3513, 'casual': 3514, 'alfr': 3515, 'trademark': 3516, 'simplist': 3517, 'talki': 3518, 'shelf': 3519, 'grinch': 3520, 'z': 3521, 'breed': 3522, 'domino': 3523, 'alert': 3524, 'aggress': 3525, 'invas': 3526, 'countrysid': 3527, 'streep': 3528, 'hideou': 3529, 'disjoint': 3530, 'pearl': 3531, 'garbo': 3532, 'loyal': 3533, 'acid': 3534, 'rendit': 3535, 'applaud': 3536, 'illeg': 3537, 'maci': 3538, 'oz': 3539, 'stellar': 3540, 'defens': 3541, 'obtain': 3542, 'hopeless': 3543, 'mayor': 3544, 'sh': 3545, 'mail': 3546, 'vanish': 3547, 'unhappi': 3548, 'hardcor': 3549, 'experiment': 3550, 'slide': 3551, 'robinson': 3552, 'disgrac': 3553, 'boom': 3554, 'stack': 3555, 'stir': 3556, 'robberi': 3557, 'khan': 3558, 'uwe': 3559, 'amanda': 3560, 'declin': 3561, 'topless': 3562, 'spider': 3563, 'span': 3564, 'tempt': 3565, 'diana': 3566, 'recruit': 3567, 'dicken': 3568, 'wont': 3569, 'blew': 3570, 'rifl': 3571, 'emphasi': 3572, 'psychic': 3573, 'incomprehens': 3574, 'dismiss': 3575, 'counter': 3576, 'hartley': 3577, 'soccer': 3578, 'fri': 3579, 'scroog': 3580, 'berlin': 3581, 'craze': 3582, 'tenant': 3583, 'grandfath': 3584, 'woo': 3585, 'bitch': 3586, 'shed': 3587, 'intim': 3588, 'ration': 3589, 'justin': 3590, 'parad': 3591, 'niro': 3592, 'goer': 3593, 'resurrect': 3594, 'sibl': 3595, 'shaw': 3596, 'trashi': 3597, 'faster': 3598, 'sympath': 3599, 'porno': 3600, 'riot': 3601, 'ethnic': 3602, 'revolt': 3603, 'lumet': 3604, 'wet': 3605, 'choru': 3606, 'partial': 3607, 'commend': 3608, 'steam': 3609, 'nephew': 3610, 'hopper': 3611, 'lena': 3612, 'hesit': 3613, 'immort': 3614, 'region': 3615, 'ballet': 3616, 'patriot': 3617, 'honesti': 3618, '00': 3619, 'farmer': 3620, 'dealer': 3621, 'weakest': 3622, 'gap': 3623, 'unreal': 3624, 'wheel': 3625, 'worm': 3626, 'eager': 3627, 'slick': 3628, 'rider': 3629, 'ensur': 3630, 'biographi': 3631, 'feminist': 3632, 'wendi': 3633, 'jonathan': 3634, 'enlighten': 3635, 'andr': 3636, 'mario': 3637, 'skull': 3638, 'confin': 3639, 'vice': 3640, 'wore': 3641, 'repress': 3642, 'snap': 3643, 'kingdom': 3644, 'charlott': 3645, 'psychopath': 3646, 'util': 3647, 'blunt': 3648, 'sandra': 3649, 'owen': 3650, 'sappi': 3651, 'victori': 3652, 'composit': 3653, 'properti': 3654, 'leo': 3655, 'nostalg': 3656, 'similarli': 3657, 'morri': 3658, 'safeti': 3659, 'prequel': 3660, 'hung': 3661, 'mutant': 3662, 'macarthur': 3663, 'franco': 3664, 'rambl': 3665, 'campbel': 3666, 'bonu': 3667, 'recycl': 3668, 'tad': 3669, 'thru': 3670, 'strand': 3671, 'pattern': 3672, 'drain': 3673, 'valuabl': 3674, 'heartbreak': 3675, 'compass': 3676, 'bow': 3677, 'bumbl': 3678, 'bergman': 3679, 'hyde': 3680, 'rocki': 3681, 'miseri': 3682, 'kyle': 3683, 'latin': 3684, '1972': 3685, 'dust': 3686, 'deed': 3687, 'whoopi': 3688, 'drum': 3689, 'acquir': 3690, 'cg': 3691, 'emperor': 3692, 'del': 3693, 'farrel': 3694, 'nervou': 3695, 'compens': 3696, 'snl': 3697, 'exit': 3698, 'repli': 3699, 'montana': 3700, 'rope': 3701, 'dalton': 3702, 'tail': 3703, 'despair': 3704, 'speci': 3705, 'rapist': 3706, 'gimmick': 3707, 'orson': 3708, 'oppress': 3709, 'romp': 3710, 'martian': 3711, 'bleed': 3712, 'slug': 3713, 'da': 3714, 'contempl': 3715, 'wacki': 3716, 'gal': 3717, 'percept': 3718, 'carradin': 3719, '35': 3720, 'tonight': 3721, 'roth': 3722, 'rotten': 3723, 'radic': 3724, 'pour': 3725, 'mistress': 3726, 'downhil': 3727, 'airport': 3728, 'chess': 3729, 'olli': 3730, 'belt': 3731, 'shelley': 3732, 'arguabl': 3733, 'melodi': 3734, '1983': 3735, 'programm': 3736, 'banal': 3737, 'slash': 3738, 'pursuit': 3739, 'stilt': 3740, 'preach': 3741, 'mislead': 3742, 'unpredict': 3743, 'pervert': 3744, 'pervers': 3745, 'arc': 3746, 'paltrow': 3747, 'taught': 3748, 'champion': 3749, 'tackl': 3750, 'heal': 3751, 'edgar': 3752, 'tooth': 3753, 'attorney': 3754, 'dazzl': 3755, 'bela': 3756, 'sensat': 3757, 'vengeanc': 3758, 'raymond': 3759, 'virginia': 3760, 'rubi': 3761, 'conneri': 3762, 'uplift': 3763, 'vocal': 3764, 'poem': 3765, 'chicken': 3766, 'tiresom': 3767, 'orang': 3768, 'maid': 3769, 'duval': 3770, 'marti': 3771, 'plight': 3772, 'passeng': 3773, 'franki': 3774, 'mesmer': 3775, 'employe': 3776, 'dixon': 3777, 'closest': 3778, 'cleverli': 3779, 'gambl': 3780, 'graham': 3781, 'extens': 3782, 'inject': 3783, 'tube': 3784, 'yawn': 3785, 'profan': 3786, 'calm': 3787, 'habit': 3788, 'abraham': 3789, 'sirk': 3790, 'clone': 3791, 'swallow': 3792, 'paranoia': 3793, 'giggl': 3794, 'crystal': 3795, 'outing': 3796, 'convincingli': 3797, 'whine': 3798, 'engross': 3799, 'volum': 3800, 'pokemon': 3801, 'climact': 3802, 'amitabh': 3803, 'monologu': 3804, '1968': 3805, 'mute': 3806, 'numb': 3807, 'bay': 3808, 'scottish': 3809, 'iran': 3810, 'suffic': 3811, 'gerard': 3812, 'secretli': 3813, 'quarter': 3814, 'lundgren': 3815, 'meander': 3816, 'chicago': 3817, 'austen': 3818, 'nichola': 3819, 'taxi': 3820, 'surpass': 3821, 'dispos': 3822, 'fed': 3823, 'underst': 3824, 'grotesqu': 3825, 'im': 3826, 'expand': 3827, 'abort': 3828, 'trend': 3829, 'frankenstein': 3830, 'plod': 3831, 'earl': 3832, 'lowest': 3833, 'spock': 3834, 'linger': 3835, 'franci': 3836, 'bend': 3837, 'profess': 3838, 'poetri': 3839, 'septemb': 3840, 'backward': 3841, 'ethan': 3842, 'junior': 3843, 'richardson': 3844, 'rant': 3845, 'rubber': 3846, 'mundan': 3847, 'household': 3848, 'catchi': 3849, 'tourist': 3850, 'cannon': 3851, 'compliment': 3852, 'instrument': 3853, 'muddl': 3854, 'dysfunct': 3855, 'greedi': 3856, 'sue': 3857, 'waitress': 3858, 'simplic': 3859, 'nostalgia': 3860, 'spoke': 3861, 'literatur': 3862, 'econom': 3863, 'hum': 3864, 'descent': 3865, 'der': 3866, 'eugen': 3867, 'lure': 3868, 'myth': 3869, 'stallon': 3870, 'equival': 3871, 'phoni': 3872, 'lang': 3873, 'flee': 3874, 'june': 3875, 'dictat': 3876, 'cent': 3877, 'map': 3878, 'molli': 3879, 'irrelev': 3880, 'recognit': 3881, 'mortal': 3882, 'randi': 3883, 'occupi': 3884, 'damon': 3885, 'bacal': 3886, 'omen': 3887, 'phantom': 3888, 'duck': 3889, 'louis': 3890, 'furi': 3891, 'crucial': 3892, 'sissi': 3893, 'alongsid': 3894, 'eaten': 3895, 'firstli': 3896, 'carel': 3897, 'deaf': 3898, 'dement': 3899, 'hello': 3900, 'insur': 3901, 'mankind': 3902, 'stale': 3903, 'recognis': 3904, 'coast': 3905, 'onlin': 3906, 'likewis': 3907, 'rooney': 3908, 'rude': 3909, 'reign': 3910, 'distinguish': 3911, 'dreari': 3912, 'newli': 3913, 'wisdom': 3914, 'twilight': 3915, 'biko': 3916, 'blackmail': 3917, 'antwon': 3918, 'ashley': 3919, 'loyalti': 3920, 'daisi': 3921, 'bike': 3922, 'freez': 3923, 'drake': 3924, 'heel': 3925, 'labor': 3926, '1973': 3927, 'cyborg': 3928, 'bump': 3929, 'grayson': 3930, 'buffalo': 3931, 'damm': 3932, 'lengthi': 3933, 'keith': 3934, 'boxer': 3935, 'worn': 3936, 'emphas': 3937, 'prey': 3938, 'inher': 3939, 'pink': 3940, 'unorigin': 3941, 'vein': 3942, 'incorpor': 3943, 'sailor': 3944, 'interior': 3945, 'proce': 3946, 'basketbal': 3947, 'exposur': 3948, 'attribut': 3949, 'nineti': 3950, 'baddi': 3951, 'provoc': 3952, 'startl': 3953, 'ridden': 3954, 'barrymor': 3955, 'approv': 3956, 'chronicl': 3957, 'tunnel': 3958, 'butler': 3959, 'analysi': 3960, 'elm': 3961, 'indiffer': 3962, 'degrad': 3963, 'julian': 3964, 'drift': 3965, 'mighti': 3966, 'hypnot': 3967, 'undeni': 3968, 'predat': 3969, 'nicol': 3970, 'fleet': 3971, 'meg': 3972, 'underli': 3973, 'meyer': 3974, 'robbin': 3975, 'belushi': 3976, 'er': 3977, 'walsh': 3978, 'millionair': 3979, 'simmon': 3980, 'barrel': 3981, 'stalker': 3982, 'unrel': 3983, 'condemn': 3984, 'carla': 3985, 'improvis': 3986, 'bunni': 3987, 'substitut': 3988, 'othello': 3989, 'mormon': 3990, 'warmth': 3991, 'hay': 3992, 'priceless': 3993, 'vital': 3994, 'lampoon': 3995, 'shove': 3996, 'reid': 3997, 'alarm': 3998, 'mtv': 3999, 'firm': 4000, 'exquisit': 4001, 'greed': 4002, 'roof': 4003, 'agenda': 4004, 'palac': 4005, 'dolph': 4006, 'unawar': 4007, 'marion': 4008, 'disord': 4009, 'novak': 4010, 'errol': 4011, 'watson': 4012, 'edgi': 4013, 'nyc': 4014, 'alison': 4015, '3d': 4016, 'enthusiasm': 4017, 'rukh': 4018, 'gestur': 4019, 'distort': 4020, 'testament': 4021, 'orlean': 4022, 'what': 4023, '1933': 4024, 'cassidi': 4025, 'peck': 4026, '13th': 4027, 'pamela': 4028, 'minimum': 4029, 'randomli': 4030, 'unleash': 4031, 'showdown': 4032, 'session': 4033, 'simultan': 4034, 'beatl': 4035, 'israel': 4036, 'preserv': 4037, 'iraq': 4038, 'sergeant': 4039, 'glanc': 4040, 'championship': 4041, 'profit': 4042, 'crown': 4043, 'peril': 4044, 'drip': 4045, 'angela': 4046, 'coup': 4047, 'spain': 4048, 'petti': 4049, 'valentin': 4050, 'nun': 4051, 'eastern': 4052, 'thompson': 4053, 'ponder': 4054, 'campaign': 4055, 'zizek': 4056, 'kurosawa': 4057, 'perpetu': 4058, 'exposit': 4059, 'reson': 4060, 'crawl': 4061, 'rout': 4062, 'crow': 4063, 'quinn': 4064, 'realm': 4065, 'calib': 4066, 'shootout': 4067, 'mon': 4068, 'han': 4069, 'unimagin': 4070, 'stroke': 4071, 'bro': 4072, 'restrain': 4073, 'valley': 4074, 'cream': 4075, 'scotland': 4076, 'brenda': 4077, 'buster': 4078, 'miyazaki': 4079, 'stake': 4080, 'gentleman': 4081, 'wig': 4082, '1984': 4083, 'din': 4084, 'jan': 4085, 'regist': 4086, 'represent': 4087, 'sabrina': 4088, 'climat': 4089, 'fido': 4090, 'contradict': 4091, 'empathi': 4092, 'cooki': 4093, 'travesti': 4094, 'geek': 4095, 'passabl': 4096, 'shaki': 4097, 'fuller': 4098, '1987': 4099, 'dana': 4100, 'tacki': 4101, 'shoddi': 4102, 'sucker': 4103, 'femm': 4104, 'painter': 4105, 'demis': 4106, 'delic': 4107, 'businessman': 4108, 'warrant': 4109, 'unsatisfi': 4110, 'abomin': 4111, 'censor': 4112, 'unseen': 4113, 'compromis': 4114, 'crawford': 4115, '1997': 4116, 'darren': 4117, 'derang': 4118, 'traumat': 4119, 'absent': 4120, 'distress': 4121, 'josh': 4122, 'wax': 4123, 'meryl': 4124, 'sammi': 4125, 'soderbergh': 4126, 'baldwin': 4127, 'ross': 4128, 'pole': 4129, 'cloud': 4130, 'perceiv': 4131, 'greg': 4132, 'monoton': 4133, 'spacey': 4134, 'pretens': 4135, 'mclaglen': 4136, 'ustinov': 4137, 'stargat': 4138, '1993': 4139, 'furiou': 4140, 'tech': 4141, 'judgment': 4142, 'austin': 4143, 'uncov': 4144, 'exclus': 4145, 'click': 4146, 'wholli': 4147, 'anchor': 4148, 'deniro': 4149, 'unravel': 4150, 'dee': 4151, 'clash': 4152, 'expedit': 4153, 'verbal': 4154, 'correctli': 4155, 'primit': 4156, 'fog': 4157, 'valid': 4158, 'seal': 4159, 'accuraci': 4160, 'deceas': 4161, 'kumar': 4162, 'fenc': 4163, 'nathan': 4164, 'tarantino': 4165, 'polici': 4166, 'sid': 4167, 'jewel': 4168, 'reluct': 4169, 'norm': 4170, 'antonioni': 4171, 'slam': 4172, 'debt': 4173, 'patienc': 4174, 'behold': 4175, 'unfair': 4176, 'crippl': 4177, 'fought': 4178, 'roller': 4179, 'darn': 4180, 'fabric': 4181, 'sand': 4182, 'malon': 4183, 'sunni': 4184, 'conduct': 4185, 'ritual': 4186, '1995': 4187, 'wretch': 4188, 'temper': 4189, 'enforc': 4190, '1971': 4191, 'hallucin': 4192, 'shanghai': 4193, '3000': 4194, 'murray': 4195, 'seldom': 4196, 'bake': 4197, 'pocket': 4198, 'trait': 4199, 'logan': 4200, 'alec': 4201, 'dreck': 4202, '2008': 4203, 'clerk': 4204, 'tax': 4205, 'joel': 4206, 'mode': 4207, 'wang': 4208, 'fart': 4209, 'nicola': 4210, 'vanc': 4211, 'sheet': 4212, 'sustain': 4213, 'divid': 4214, 'scriptwrit': 4215, 'robber': 4216, 'schedul': 4217, 'runner': 4218, 'shell': 4219, 'helpless': 4220, 'grief': 4221, 'preposter': 4222, 'squad': 4223, 'critiqu': 4224, 'conscious': 4225, 'rita': 4226, 'tactic': 4227, 'sweep': 4228, 'preston': 4229, 'canyon': 4230, 'legaci': 4231, 'clau': 4232, 'soup': 4233, 'stark': 4234, 'bridget': 4235, 'exhaust': 4236, 'phil': 4237, 'despis': 4238, 'fundament': 4239, 'outlin': 4240, 'stuart': 4241, 'technicolor': 4242, 'isabel': 4243, 'bias': 4244, 'guitar': 4245, 'penni': 4246, 'pete': 4247, 'lacklust': 4248, 'implic': 4249, 'palanc': 4250, 'passag': 4251, 'rear': 4252, 'sugar': 4253, 'liberti': 4254, 'flair': 4255, 'gregori': 4256, 'restrict': 4257, 'consciou': 4258, 'inabl': 4259, 'alley': 4260, 'marc': 4261, 'jodi': 4262, 'cigarett': 4263, 'delv': 4264, 'bloom': 4265, 'vomit': 4266, 'boyl': 4267, 'invad': 4268, 'culmin': 4269, 'drove': 4270, 'alicia': 4271, 'downey': 4272, 'unexpectedli': 4273, 'jacket': 4274, 'newman': 4275, 'sentinel': 4276, 'agenc': 4277, 'kansa': 4278, 'connor': 4279, 'propos': 4280, 'sniper': 4281, 'rehash': 4282, 'russia': 4283, 'cap': 4284, 'pale': 4285, 'lush': 4286, 'karl': 4287, 'vet': 4288, 'wrench': 4289, 'improb': 4290, 'chainsaw': 4291, 'foxx': 4292, 'asylum': 4293, 'awhil': 4294, 'tendenc': 4295, 'rod': 4296, '22': 4297, 'mccoy': 4298, 'horn': 4299, 'rehears': 4300, 'tripe': 4301, 'behaviour': 4302, 'bacon': 4303, 'aesthet': 4304, 'delet': 4305, 'rampag': 4306, 'sharon': 4307, 'arrow': 4308, 'ladder': 4309, 'feat': 4310, '1936': 4311, 'yeti': 4312, 'kolchak': 4313, 'tasteless': 4314, 'prank': 4315, 'spice': 4316, 'elit': 4317, 'visitor': 4318, 'paramount': 4319, 'wildli': 4320, 'amazon': 4321, 'el': 4322, 'coaster': 4323, 'minu': 4324, 'underneath': 4325, 'fright': 4326, '1988': 4327, 'sung': 4328, 'rumor': 4329, 'suffici': 4330, 'thunderbird': 4331, 'weav': 4332, 'hungri': 4333, 'paradis': 4334, 'globe': 4335, 'loneli': 4336, '1978': 4337, '1920': 4338, 'lurk': 4339, 'basing': 4340, 'conscienc': 4341, 'shortcom': 4342, 'wagner': 4343, 'newcom': 4344, 'stream': 4345, 'suspicion': 4346, 'hackney': 4347, 'aristocrat': 4348, 'rhythm': 4349, 'financ': 4350, 'hulk': 4351, 'tomorrow': 4352, '19th': 4353, 'scoop': 4354, 'filler': 4355, 'worship': 4356, 'beverli': 4357, 'brit': 4358, 'standout': 4359, 'choppi': 4360, 'leigh': 4361, 'cancer': 4362, 'entranc': 4363, 'tierney': 4364, 'smell': 4365, 'penn': 4366, 'counterpart': 4367, 'literari': 4368, 'heist': 4369, '1989': 4370, 'quietli': 4371, '75': 4372, 'couch': 4373, 'inmat': 4374, 'hopkin': 4375, 'dirt': 4376, 'ingeni': 4377, 'chamberlain': 4378, 'en': 4379, 'minist': 4380, 'bread': 4381, 'naughti': 4382, 'secondari': 4383, 'paxton': 4384, 'rub': 4385, 'immers': 4386, 'iv': 4387, 'curli': 4388, 'straightforward': 4389, 'posey': 4390, '1939': 4391, 'wwe': 4392, 'teas': 4393, 'impos': 4394, 'abrupt': 4395, 'recogniz': 4396, 'atroc': 4397, 'grudg': 4398, 'lectur': 4399, 'ram': 4400, 'chavez': 4401, 'springer': 4402, 'esther': 4403, '1986': 4404, 'geni': 4405, 'laurenc': 4406, 'missil': 4407, 'moreov': 4408, 'nemesi': 4409, 'duel': 4410, 'ace': 4411, 'entitl': 4412, 'watcher': 4413, 'policeman': 4414, 'yearn': 4415, 'bernard': 4416, 'skeptic': 4417, 'convert': 4418, 'clan': 4419, 'cattl': 4420, 'misguid': 4421, 'sassi': 4422, 'attenborough': 4423, 'enthral': 4424, 'morbid': 4425, 'injuri': 4426, 'lindsay': 4427, 'sublim': 4428, 'transcend': 4429, 'net': 4430, 'heartfelt': 4431, 'quaid': 4432, 'ratso': 4433, 'nolan': 4434, 'variat': 4435, 'mytholog': 4436, 'bean': 4437, 'artsi': 4438, 'egg': 4439, 'tyler': 4440, 'unexplain': 4441, 'setup': 4442, 'diari': 4443, 'steadi': 4444, 'puppi': 4445, 'obstacl': 4446, 'enabl': 4447, 'vader': 4448, 'out': 4449, 'moder': 4450, 'graini': 4451, 'buzz': 4452, 'poe': 4453, 'cruelti': 4454, 'kidman': 4455, 'brood': 4456, 'facil': 4457, 'characteris': 4458, '1979': 4459, 'uncut': 4460, 'spiral': 4461, 'reliabl': 4462, 'hopelessli': 4463, 'youngest': 4464, 'hk': 4465, 'rosemari': 4466, 'bye': 4467, 'kitti': 4468, 'grin': 4469, 'dont': 4470, 'carlito': 4471, 'sweat': 4472, 'underworld': 4473, 'heap': 4474, 'despic': 4475, 'niec': 4476, 'narrow': 4477, 'hammi': 4478, 'fuel': 4479, 'effici': 4480, 'exterior': 4481, 'weather': 4482, 'hain': 4483, 'acquaint': 4484, '1969': 4485, 'martha': 4486, 'bronson': 4487, 'patricia': 4488, 'athlet': 4489, 'spontan': 4490, 'baffl': 4491, 'christin': 4492, 'bounc': 4493, 'gillian': 4494, 'decept': 4495, 'bewar': 4496, 'gina': 4497, 'kline': 4498, 'clueless': 4499, 'disastr': 4500, 'oblig': 4501, 'preming': 4502, 'brendan': 4503, 'candl': 4504, 'injur': 4505, 'lester': 4506, 'virtu': 4507, 'viewpoint': 4508, 'angst': 4509, 'biker': 4510, 'trigger': 4511, 'taboo': 4512, 'loath': 4513, 'sooner': 4514, 'shatter': 4515, '19': 4516, 'sleepwalk': 4517, 'dilemma': 4518, 'housewif': 4519, 'uh': 4520, 'enlist': 4521, 'scar': 4522, 'analyz': 4523, 'headach': 4524, 'goof': 4525, 'harmless': 4526, 'tick': 4527, 'outlaw': 4528, '73': 4529, 'loi': 4530, 'astound': 4531, 'suprem': 4532, 'mermaid': 4533, 'renaiss': 4534, 'preachi': 4535, 'dandi': 4536, 'fontain': 4537, 'circu': 4538, 'rome': 4539, 'hepburn': 4540, 'mayhem': 4541, 'insipid': 4542, 'hokey': 4543, 'redund': 4544, 'idol': 4545, 'claustrophob': 4546, 'whore': 4547, 'amor': 4548, 'scorses': 4549, 'contempt': 4550, 'macho': 4551, 'stimul': 4552, 'dismal': 4553, 'tripl': 4554, 'stair': 4555, 'bent': 4556, 'slimi': 4557, 'overlong': 4558, 'oldest': 4559, 'immatur': 4560, 'boston': 4561, 'hooker': 4562, 'salt': 4563, 'spade': 4564, 'intric': 4565, 'ebert': 4566, 'gere': 4567, 'fluff': 4568, 'steer': 4569, 'filth': 4570, 'guin': 4571, 'sox': 4572, 'hostag': 4573, 'corbett': 4574, 'glorifi': 4575, 'phenomenon': 4576, 'camcord': 4577, 'ariel': 4578, 'foolish': 4579, 'zoom': 4580, 'surgeri': 4581, 'dish': 4582, 'cassavet': 4583, 'messi': 4584, 'antagonist': 4585, 'frantic': 4586, 'mutual': 4587, 'cohen': 4588, 'radiat': 4589, 'shield': 4590, 'astronaut': 4591, 'muscl': 4592, 'spree': 4593, 'assert': 4594, 'zane': 4595, 'perman': 4596, 'flashi': 4597, 'spinal': 4598, 'trivia': 4599, 'nolt': 4600, 'flag': 4601, 'dwarf': 4602, 'alvin': 4603, 'schlock': 4604, 'widescreen': 4605, 'flirt': 4606, 'down': 4607, 'gabl': 4608, '1981': 4609, 'conquer': 4610, 'keen': 4611, 'beard': 4612, 'rhyme': 4613, 'strongest': 4614, 'gasp': 4615, 'corman': 4616, 'cow': 4617, 'proport': 4618, 'shred': 4619, 'obligatori': 4620, 'cush': 4621, '1976': 4622, 'remad': 4623, 'preced': 4624, 'naschi': 4625, 'fascist': 4626, 'faint': 4627, 'harold': 4628, 'mount': 4629, 'margin': 4630, 'joker': 4631, 'transplant': 4632, 'barn': 4633, 'fishburn': 4634, 'www': 4635, 'brush': 4636, 'wield': 4637, 'strive': 4638, 'flock': 4639, 'persuad': 4640, 'neurot': 4641, 'triangl': 4642, 'inflict': 4643, 'sensual': 4644, 'carey': 4645, 'aborigin': 4646, 'info': 4647, 'interestingli': 4648, '28': 4649, 'vaniti': 4650, '1945': 4651, 'someday': 4652, 'resum': 4653, 'bachelor': 4654, 'mol': 4655, 'deer': 4656, 'danish': 4657, 'archiv': 4658, 'bitten': 4659, '95': 4660, 'repris': 4661, 'scandal': 4662, 'boob': 4663, 'claud': 4664, 'off': 4665, 'discern': 4666, 'ritchi': 4667, 'instruct': 4668, 'mobil': 4669, 'departur': 4670, 'divin': 4671, 'raj': 4672, 'hara': 4673, 'banter': 4674, 'parson': 4675, 'biblic': 4676, 'cycl': 4677, 'miracul': 4678, 'pickford': 4679, 'hapless': 4680, 'cb': 4681, 'traffic': 4682, 'europa': 4683, 'recit': 4684, 'melissa': 4685, 'earnest': 4686, 'axe': 4687, 'cliffhang': 4688, 'senior': 4689, 'hug': 4690, 'dylan': 4691, 'colin': 4692, 'dame': 4693, 'bate': 4694, 'artwork': 4695, 'dim': 4696, 'pixar': 4697, 'pacif': 4698, 'neill': 4699, 'kathryn': 4700, 'harrison': 4701, 'loretta': 4702, 'luka': 4703, 'wendigo': 4704, 'hilar': 4705, 'jade': 4706, 'vibrant': 4707, 'carlo': 4708, 'casino': 4709, 'timberlak': 4710, 'prophet': 4711, 'submit': 4712, 'rot': 4713, 'proclaim': 4714, 'clad': 4715, 'mobster': 4716, 'undermin': 4717, 'ish': 4718, 'frontier': 4719, 'helm': 4720, 'fragil': 4721, 'heartwarm': 4722, 'anton': 4723, 'cher': 4724, 'orphan': 4725, 'lui': 4726, 'blatantli': 4727, 'static': 4728, 'electron': 4729, 'foil': 4730, 'rooki': 4731, 'isra': 4732, 'nope': 4733, 'winchest': 4734, 'marlon': 4735, 'token': 4736, 'estrang': 4737, 'pc': 4738, 'choke': 4739, 'redneck': 4740, 'eli': 4741, 'sicken': 4742, 'seedi': 4743, 'razor': 4744, 'aris': 4745, 'breakfast': 4746, 'bikini': 4747, 'wardrob': 4748, 'cerebr': 4749, 'articl': 4750, 'flavor': 4751, 'akin': 4752, 'shepherd': 4753, 'venom': 4754, 'misfortun': 4755, 'vanessa': 4756, 'vile': 4757, 'antholog': 4758, 'illus': 4759, 'feast': 4760, 'jordan': 4761, 'trier': 4762, 'bondag': 4763, 'lucil': 4764, 'http': 4765, 'holocaust': 4766, 'toronto': 4767, 'alexandr': 4768, 'mason': 4769, 'legitim': 4770, 'jo': 4771, 'milo': 4772, 'northern': 4773, 'mathieu': 4774, 'uma': 4775, 'cartoonish': 4776, 'magician': 4777, 'knightley': 4778, 'glare': 4779, 'shorter': 4780, 'swept': 4781, 'ideolog': 4782, 'deem': 4783, 'disregard': 4784, 'nightclub': 4785, 'oppon': 4786, 'ceremoni': 4787, 'feminin': 4788, 'tack': 4789, 'outdat': 4790, 'fifth': 4791, 'howl': 4792, 'peer': 4793, 'turd': 4794, 'frog': 4795, 'smack': 4796, 'wrestler': 4797, 'dudley': 4798, 'highway': 4799, 'leather': 4800, 'retriev': 4801, 'linear': 4802, 'clinic': 4803, 'psych': 4804, 'affleck': 4805, 'boyer': 4806, 'abund': 4807, 'huston': 4808, 'comprehend': 4809, 'gunga': 4810, 'styliz': 4811, 'charlton': 4812, 'gilbert': 4813, 'audrey': 4814, 'snatch': 4815, 'corn': 4816, 'conrad': 4817, 'boo': 4818, 'newer': 4819, 'tara': 4820, 'spine': 4821, 'bogu': 4822, 'compris': 4823, 'summar': 4824, 'plate': 4825, 'monument': 4826, 'client': 4827, 'mitch': 4828, 'braveheart': 4829, 'chip': 4830, 'bastard': 4831, 'spawn': 4832, 'lifeless': 4833, 'deliver': 4834, '1991': 4835, 'lavish': 4836, 'greet': 4837, 'potter': 4838, 'breakdown': 4839, '4th': 4840, 'lighter': 4841, 'durat': 4842, 'toe': 4843, 'senat': 4844, 'einstein': 4845, 'energet': 4846, 'evolut': 4847, 'salman': 4848, 'moe': 4849, 'collector': 4850, 'sleaz': 4851, '1994': 4852, 'btw': 4853, 'cuban': 4854, 'phenomen': 4855, 'uniformli': 4856, 'cemeteri': 4857, 'whack': 4858, 'goldsworthi': 4859, 'firmli': 4860, 'embark': 4861, 'kazan': 4862, 'neatli': 4863, 'spectacl': 4864, 'armstrong': 4865, 'cecil': 4866, 'liu': 4867, 'gilliam': 4868, 'signal': 4869, 'pronounc': 4870, 'occup': 4871, 'inaccuraci': 4872, 'judd': 4873, 'alleg': 4874, 'jedi': 4875, 'outright': 4876, 'historian': 4877, 'fluid': 4878, '1977': 4879, '1974': 4880, 'eleven': 4881, 'healthi': 4882, 'replay': 4883, 'belli': 4884, 'clara': 4885, 'undertak': 4886, 'ol': 4887, 'constitut': 4888, 'jam': 4889, 'bulk': 4890, 'jare': 4891, 'bori': 4892, 'appl': 4893, 'undead': 4894, 'kent': 4895, 'luxuri': 4896, 'trauma': 4897, 'evelyn': 4898, 'wtf': 4899, 'mcqueen': 4900, 'nina': 4901, 'sorrow': 4902, 'capot': 4903, 'creek': 4904, 'jule': 4905, 'randolph': 4906, 'lex': 4907, 'ie': 4908, 'groan': 4909, 'pepper': 4910, 'mum': 4911, 'sidewalk': 4912, 'aussi': 4913, 'blur': 4914, 'spray': 4915, 'comprehens': 4916, 'miniseri': 4917, 'palm': 4918, 'roar': 4919, 'porter': 4920, 'walt': 4921, 'rosario': 4922, 'knee': 4923, 'lauren': 4924, 'inclus': 4925, 'ash': 4926, 'propheci': 4927, 'genet': 4928, '1985': 4929, 'relentless': 4930, 'bait': 4931, 'sacrif': 4932, 'tokyo': 4933, 'kiddi': 4934, 'cape': 4935, 'comb': 4936, 'id': 4937, 'meal': 4938, 'abound': 4939, 'unattract': 4940, 'inaccur': 4941, 'fruit': 4942, 'lanc': 4943, 'antonio': 4944, 'carmen': 4945, 'paula': 4946, 'vignett': 4947, 'subtli': 4948, 'miami': 4949, 'unsuspect': 4950, 'poker': 4951, 'pioneer': 4952, 'curtain': 4953, 'goldblum': 4954, 'conan': 4955, 'bsg': 4956, 'galaxi': 4957, 'truman': 4958, 'vain': 4959, 'basket': 4960, 'congratul': 4961, 'forgiven': 4962, 'decapit': 4963, 'modest': 4964, 'sparkl': 4965, 'incorrect': 4966, 'motorcycl': 4967, 'frontal': 4968, 'growth': 4969, 'cypher': 4970, 'rapidli': 4971, 'dubiou': 4972, 'reincarn': 4973, 'playboy': 4974, 'scariest': 4975, 'weari': 4976, 'hackman': 4977, 'epitom': 4978, 'bravo': 4979, 'casper': 4980, 'substanti': 4981, 'detach': 4982, 'turtl': 4983, 'profil': 4984, 'mice': 4985, 'bach': 4986, 'macabr': 4987, 'orchestr': 4988, '21st': 4989, 'hostil': 4990, 'vastli': 4991, 'weaker': 4992, 'assort': 4993, 'handicap': 4994, 'monti': 4995, 'verg': 4996, 'ghetto': 4997, 'optimist': 4998, 'drone': 4999}\n"
     ]
    }
   ],
   "source": [
    "print(word_dict)"
   ]
  },
  {
   "cell_type": "markdown",
   "metadata": {},
   "source": [
    "### Save `word_dict`\n",
    "\n",
    "Later on when we construct an endpoint which processes a submitted review we will need to make use of the `word_dict` which we have created. As such, we will save it to a file now for future use."
   ]
  },
  {
   "cell_type": "code",
   "execution_count": 15,
   "metadata": {},
   "outputs": [],
   "source": [
    "data_dir = '../data/pytorch' # The folder we will use for storing data\n",
    "if not os.path.exists(data_dir): # Make sure that the folder exists\n",
    "    os.makedirs(data_dir)"
   ]
  },
  {
   "cell_type": "code",
   "execution_count": 16,
   "metadata": {},
   "outputs": [],
   "source": [
    "with open(os.path.join(data_dir, 'word_dict.pkl'), \"wb\") as f:\n",
    "    pickle.dump(word_dict, f)"
   ]
  },
  {
   "cell_type": "markdown",
   "metadata": {},
   "source": [
    "### Transform the reviews\n",
    "\n",
    "Now that we have our word dictionary which allows us to transform the words appearing in the reviews into integers, it is time to make use of it and convert our reviews to their integer sequence representation, making sure to pad or truncate to a fixed length, which in our case is `500`."
   ]
  },
  {
   "cell_type": "code",
   "execution_count": 17,
   "metadata": {},
   "outputs": [],
   "source": [
    "def convert_and_pad(word_dict, sentence, pad=500):\n",
    "    NOWORD = 0 # We will use 0 to represent the 'no word' category\n",
    "    INFREQ = 1 # and we use 1 to represent the infrequent words, i.e., words not appearing in word_dict\n",
    "    \n",
    "    working_sentence = [NOWORD] * pad\n",
    "    \n",
    "    for word_index, word in enumerate(sentence[:pad]):\n",
    "        if word in word_dict:\n",
    "            working_sentence[word_index] = word_dict[word]\n",
    "        else:\n",
    "            working_sentence[word_index] = INFREQ\n",
    "            \n",
    "    return working_sentence, min(len(sentence), pad)\n",
    "\n",
    "def convert_and_pad_data(word_dict, data, pad=500):\n",
    "    result = []\n",
    "    lengths = []\n",
    "    \n",
    "    for sentence in data:\n",
    "        converted, leng = convert_and_pad(word_dict, sentence, pad)\n",
    "        result.append(converted)\n",
    "        lengths.append(leng)\n",
    "        \n",
    "    return np.array(result), np.array(lengths)"
   ]
  },
  {
   "cell_type": "code",
   "execution_count": 18,
   "metadata": {},
   "outputs": [],
   "source": [
    "train_X, train_X_len = convert_and_pad_data(word_dict, train_X)\n",
    "test_X, test_X_len = convert_and_pad_data(word_dict, test_X)"
   ]
  },
  {
   "cell_type": "markdown",
   "metadata": {},
   "source": [
    "As a quick check to make sure that things are working as intended, check to see what one of the reviews in the training set looks like after having been processeed. Does this look reasonable? What is the length of a review in the training set?"
   ]
  },
  {
   "cell_type": "code",
   "execution_count": 19,
   "metadata": {
    "scrolled": true
   },
   "outputs": [
    {
     "name": "stdout",
     "output_type": "stream",
     "text": [
      "[2182 1617    1 1448  851 1020 1660    1    1 2038 1637 1695    1 1851\n",
      "    2 2460 1143 2380 1344  537  300  260 1200    1 1150 2221    1 3442\n",
      " 1405 2380  155 1143  488  697   14  316  349 1919  908   84 2380    2\n",
      "    1 1102   51   47   73    1 2714 2198    1    1  342 2328 3335  614\n",
      "    6 1215 4369  137   18  511 1239  207 1603   54  376 2126  176    2\n",
      "   22 2380 1344  300 2651  809    1    1    8  174 3283  284   93  116\n",
      "   18 1299    1   21  136   44  245  791  249  212  916    1 2702 4472\n",
      "    1  518  487  370  155  809 1377 1565 1078    0    0    0    0    0\n",
      "    0    0    0    0    0    0    0    0    0    0    0    0    0    0\n",
      "    0    0    0    0    0    0    0    0    0    0    0    0    0    0\n",
      "    0    0    0    0    0    0    0    0    0    0    0    0    0    0\n",
      "    0    0    0    0    0    0    0    0    0    0    0    0    0    0\n",
      "    0    0    0    0    0    0    0    0    0    0    0    0    0    0\n",
      "    0    0    0    0    0    0    0    0    0    0    0    0    0    0\n",
      "    0    0    0    0    0    0    0    0    0    0    0    0    0    0\n",
      "    0    0    0    0    0    0    0    0    0    0    0    0    0    0\n",
      "    0    0    0    0    0    0    0    0    0    0    0    0    0    0\n",
      "    0    0    0    0    0    0    0    0    0    0    0    0    0    0\n",
      "    0    0    0    0    0    0    0    0    0    0    0    0    0    0\n",
      "    0    0    0    0    0    0    0    0    0    0    0    0    0    0\n",
      "    0    0    0    0    0    0    0    0    0    0    0    0    0    0\n",
      "    0    0    0    0    0    0    0    0    0    0    0    0    0    0\n",
      "    0    0    0    0    0    0    0    0    0    0    0    0    0    0\n",
      "    0    0    0    0    0    0    0    0    0    0    0    0    0    0\n",
      "    0    0    0    0    0    0    0    0    0    0    0    0    0    0\n",
      "    0    0    0    0    0    0    0    0    0    0    0    0    0    0\n",
      "    0    0    0    0    0    0    0    0    0    0    0    0    0    0\n",
      "    0    0    0    0    0    0    0    0    0    0    0    0    0    0\n",
      "    0    0    0    0    0    0    0    0    0    0    0    0    0    0\n",
      "    0    0    0    0    0    0    0    0    0    0    0    0    0    0\n",
      "    0    0    0    0    0    0    0    0    0    0    0    0    0    0\n",
      "    0    0    0    0    0    0    0    0    0    0    0    0    0    0\n",
      "    0    0    0    0    0    0    0    0    0    0    0    0    0    0\n",
      "    0    0    0    0    0    0    0    0    0    0    0    0    0    0\n",
      "    0    0    0    0    0    0    0    0    0    0    0    0    0    0\n",
      "    0    0    0    0    0    0    0    0    0    0]\n",
      "500\n"
     ]
    }
   ],
   "source": [
    "# Use this cell to examine one of the processed reviews to make sure everything is working as intended.\n",
    "print(train_X[100])\n",
    "print(len(train_X[100]))"
   ]
  },
  {
   "cell_type": "markdown",
   "metadata": {},
   "source": [
    "**Question:** In the cells above we use the `preprocess_data` and `convert_and_pad_data` methods to process both the training and testing set. Why or why not might this be a problem?"
   ]
  },
  {
   "cell_type": "markdown",
   "metadata": {},
   "source": [
    "**Answer:**\n",
    "\n",
    "Most of the data, as we can see in the result above, is empty. That may be not good for the training"
   ]
  },
  {
   "cell_type": "markdown",
   "metadata": {},
   "source": [
    "## Step 3: Upload the data to S3\n",
    "\n",
    "As in the XGBoost notebook, we will need to upload the training dataset to S3 in order for our training code to access it. For now we will save it locally and we will upload to S3 later on.\n",
    "\n",
    "### Save the processed training dataset locally\n",
    "\n",
    "It is important to note the format of the data that we are saving as we will need to know it when we write the training code. In our case, each row of the dataset has the form `label`, `length`, `review[500]` where `review[500]` is a sequence of `500` integers representing the words in the review."
   ]
  },
  {
   "cell_type": "code",
   "execution_count": 20,
   "metadata": {},
   "outputs": [],
   "source": [
    "import pandas as pd\n",
    "    \n",
    "pd.concat([pd.DataFrame(train_y), pd.DataFrame(train_X_len), pd.DataFrame(train_X)], axis=1) \\\n",
    "        .to_csv(os.path.join(data_dir, 'train.csv'), header=False, index=False)"
   ]
  },
  {
   "cell_type": "markdown",
   "metadata": {},
   "source": [
    "### Uploading the training data\n",
    "\n",
    "\n",
    "Next, we need to upload the training data to the SageMaker default S3 bucket so that we can provide access to it while training our model."
   ]
  },
  {
   "cell_type": "code",
   "execution_count": 21,
   "metadata": {},
   "outputs": [],
   "source": [
    "import sagemaker\n",
    "\n",
    "sagemaker_session = sagemaker.Session()\n",
    "\n",
    "bucket = sagemaker_session.default_bucket()\n",
    "prefix = 'sagemaker/sentiment_rnn'\n",
    "\n",
    "role = sagemaker.get_execution_role()"
   ]
  },
  {
   "cell_type": "code",
   "execution_count": 22,
   "metadata": {},
   "outputs": [],
   "source": [
    "input_data = sagemaker_session.upload_data(path=data_dir, bucket=bucket, key_prefix=prefix)"
   ]
  },
  {
   "cell_type": "markdown",
   "metadata": {},
   "source": [
    "**NOTE:** The cell above uploads the entire contents of our data directory. This includes the `word_dict.pkl` file. This is fortunate as we will need this later on when we create an endpoint that accepts an arbitrary review. For now, we will just take note of the fact that it resides in the data directory (and so also in the S3 training bucket) and that we will need to make sure it gets saved in the model directory."
   ]
  },
  {
   "cell_type": "markdown",
   "metadata": {},
   "source": [
    "## Step 4: Build and Train the PyTorch Model\n",
    "\n",
    "In the XGBoost notebook we discussed what a model is in the SageMaker framework. In particular, a model comprises three objects\n",
    "\n",
    " - Model Artifacts,\n",
    " - Training Code, and\n",
    " - Inference Code,\n",
    " \n",
    "each of which interact with one another. In the XGBoost example we used training and inference code that was provided by Amazon. Here we will still be using containers provided by Amazon with the added benefit of being able to include our own custom code.\n",
    "\n",
    "We will start by implementing our own neural network in PyTorch along with a training script. For the purposes of this project we have provided the necessary model object in the `model.py` file, inside of the `train` folder. You can see the provided implementation by running the cell below."
   ]
  },
  {
   "cell_type": "code",
   "execution_count": 23,
   "metadata": {},
   "outputs": [
    {
     "name": "stdout",
     "output_type": "stream",
     "text": [
      "\u001b[34mimport\u001b[39;49;00m \u001b[04m\u001b[36mtorch\u001b[39;49;00m\u001b[04m\u001b[36m.\u001b[39;49;00m\u001b[04m\u001b[36mnn\u001b[39;49;00m \u001b[34mas\u001b[39;49;00m \u001b[04m\u001b[36mnn\u001b[39;49;00m\r\n",
      "\r\n",
      "\u001b[34mclass\u001b[39;49;00m \u001b[04m\u001b[32mLSTMClassifier\u001b[39;49;00m(nn.Module):\r\n",
      "    \u001b[33m\"\"\"\u001b[39;49;00m\r\n",
      "\u001b[33m    This is the simple RNN model we will be using to perform Sentiment Analysis.\u001b[39;49;00m\r\n",
      "\u001b[33m    \"\"\"\u001b[39;49;00m\r\n",
      "\r\n",
      "    \u001b[34mdef\u001b[39;49;00m \u001b[32m__init__\u001b[39;49;00m(\u001b[36mself\u001b[39;49;00m, embedding_dim, hidden_dim, vocab_size):\r\n",
      "        \u001b[33m\"\"\"\u001b[39;49;00m\r\n",
      "\u001b[33m        Initialize the model by settingg up the various layers.\u001b[39;49;00m\r\n",
      "\u001b[33m        \"\"\"\u001b[39;49;00m\r\n",
      "        \u001b[36msuper\u001b[39;49;00m(LSTMClassifier, \u001b[36mself\u001b[39;49;00m).\u001b[32m__init__\u001b[39;49;00m()\r\n",
      "\r\n",
      "        \u001b[36mself\u001b[39;49;00m.embedding = nn.Embedding(vocab_size, embedding_dim, padding_idx=\u001b[34m0\u001b[39;49;00m)\r\n",
      "        \u001b[36mself\u001b[39;49;00m.lstm = nn.LSTM(embedding_dim, hidden_dim)\r\n",
      "        \u001b[36mself\u001b[39;49;00m.dense = nn.Linear(in_features=hidden_dim, out_features=\u001b[34m1\u001b[39;49;00m)\r\n",
      "        \u001b[36mself\u001b[39;49;00m.sig = nn.Sigmoid()\r\n",
      "        \r\n",
      "        \u001b[36mself\u001b[39;49;00m.word_dict = \u001b[34mNone\u001b[39;49;00m\r\n",
      "\r\n",
      "    \u001b[34mdef\u001b[39;49;00m \u001b[32mforward\u001b[39;49;00m(\u001b[36mself\u001b[39;49;00m, x):\r\n",
      "        \u001b[33m\"\"\"\u001b[39;49;00m\r\n",
      "\u001b[33m        Perform a forward pass of our model on some input.\u001b[39;49;00m\r\n",
      "\u001b[33m        \"\"\"\u001b[39;49;00m\r\n",
      "        x = x.t()\r\n",
      "        lengths = x[\u001b[34m0\u001b[39;49;00m,:]\r\n",
      "        reviews = x[\u001b[34m1\u001b[39;49;00m:,:]\r\n",
      "        embeds = \u001b[36mself\u001b[39;49;00m.embedding(reviews)\r\n",
      "        lstm_out, _ = \u001b[36mself\u001b[39;49;00m.lstm(embeds)\r\n",
      "        out = \u001b[36mself\u001b[39;49;00m.dense(lstm_out)\r\n",
      "        out = out[lengths - \u001b[34m1\u001b[39;49;00m, \u001b[36mrange\u001b[39;49;00m(\u001b[36mlen\u001b[39;49;00m(lengths))]\r\n",
      "        \u001b[34mreturn\u001b[39;49;00m \u001b[36mself\u001b[39;49;00m.sig(out.squeeze())\r\n"
     ]
    }
   ],
   "source": [
    "!pygmentize train/model.py"
   ]
  },
  {
   "cell_type": "markdown",
   "metadata": {},
   "source": [
    "The important takeaway from the implementation provided is that there are three parameters that we may wish to tweak to improve the performance of our model. These are the embedding dimension, the hidden dimension and the size of the vocabulary. We will likely want to make these parameters configurable in the training script so that if we wish to modify them we do not need to modify the script itself. We will see how to do this later on. To start we will write some of the training code in the notebook so that we can more easily diagnose any issues that arise.\n",
    "\n",
    "First we will load a small portion of the training data set to use as a sample. It would be very time consuming to try and train the model completely in the notebook as we do not have access to a gpu and the compute instance that we are using is not particularly powerful. However, we can work on a small bit of the data to get a feel for how our training script is behaving."
   ]
  },
  {
   "cell_type": "code",
   "execution_count": 24,
   "metadata": {},
   "outputs": [],
   "source": [
    "import torch\n",
    "import torch.utils.data\n",
    "\n",
    "# Read in only the first 250 rows\n",
    "train_sample = pd.read_csv(os.path.join(data_dir, 'train.csv'), header=None, names=None, nrows=250)\n",
    "\n",
    "# Turn the input pandas dataframe into tensors\n",
    "train_sample_y = torch.from_numpy(train_sample[[0]].values).float().squeeze()\n",
    "train_sample_X = torch.from_numpy(train_sample.drop([0], axis=1).values).long()\n",
    "\n",
    "# Build the dataset\n",
    "train_sample_ds = torch.utils.data.TensorDataset(train_sample_X, train_sample_y)\n",
    "# Build the dataloader\n",
    "train_sample_dl = torch.utils.data.DataLoader(train_sample_ds, batch_size=50)"
   ]
  },
  {
   "cell_type": "markdown",
   "metadata": {},
   "source": [
    "### (TODO) Writing the training method\n",
    "\n",
    "Next we need to write the training code itself. This should be very similar to training methods that you have written before to train PyTorch models. We will leave any difficult aspects such as model saving / loading and parameter loading until a little later."
   ]
  },
  {
   "cell_type": "code",
   "execution_count": 25,
   "metadata": {},
   "outputs": [],
   "source": [
    "def train(model, train_loader, epochs, optimizer, loss_fn, device):\n",
    "    for epoch in range(1, epochs + 1):\n",
    "        model.train()\n",
    "        total_loss = 0\n",
    "        for batch in train_loader:         \n",
    "            batch_X, batch_y = batch\n",
    "            \n",
    "            batch_X = batch_X.to(device)\n",
    "            batch_y = batch_y.to(device)\n",
    "            \n",
    "            # TODO: Complete this train method to train the model provided.\n",
    "            optimizer.zero_grad()\n",
    "            output = model(batch_X)\n",
    "            loss = loss_fn(output, batch_y)\n",
    "            loss.backward()\n",
    "            optimizer.step()\n",
    "            \n",
    "            total_loss += loss.data.item()\n",
    "        print(\"Epoch: {}, BCELoss: {}\".format(epoch, total_loss / len(train_loader)))"
   ]
  },
  {
   "cell_type": "markdown",
   "metadata": {},
   "source": [
    "Supposing we have the training method above, we will test that it is working by writing a bit of code in the notebook that executes our training method on the small sample training set that we loaded earlier. The reason for doing this in the notebook is so that we have an opportunity to fix any errors that arise early when they are easier to diagnose."
   ]
  },
  {
   "cell_type": "code",
   "execution_count": 26,
   "metadata": {},
   "outputs": [
    {
     "name": "stdout",
     "output_type": "stream",
     "text": [
      "Epoch: 1, BCELoss: 0.6946645021438599\n",
      "Epoch: 2, BCELoss: 0.6866870164871216\n",
      "Epoch: 3, BCELoss: 0.6809787273406982\n",
      "Epoch: 4, BCELoss: 0.6748619198799133\n",
      "Epoch: 5, BCELoss: 0.6675538301467896\n"
     ]
    }
   ],
   "source": [
    "import torch.optim as optim\n",
    "from train.model import LSTMClassifier\n",
    "\n",
    "device = torch.device(\"cuda\" if torch.cuda.is_available() else \"cpu\")\n",
    "model = LSTMClassifier(32, 100, 5000).to(device)\n",
    "optimizer = optim.Adam(model.parameters())\n",
    "loss_fn = torch.nn.BCELoss()\n",
    "\n",
    "train(model, train_sample_dl, 5, optimizer, loss_fn, device)"
   ]
  },
  {
   "cell_type": "markdown",
   "metadata": {},
   "source": [
    "In order to construct a PyTorch model using SageMaker we must provide SageMaker with a training script. We may optionally include a directory which will be copied to the container and from which our training code will be run. When the training container is executed it will check the uploaded directory (if there is one) for a `requirements.txt` file and install any required Python libraries, after which the training script will be run."
   ]
  },
  {
   "cell_type": "markdown",
   "metadata": {},
   "source": [
    "### (TODO) Training the model\n",
    "\n",
    "When a PyTorch model is constructed in SageMaker, an entry point must be specified. This is the Python file which will be executed when the model is trained. Inside of the `train` directory is a file called `train.py` which has been provided and which contains most of the necessary code to train our model. The only thing that is missing is the implementation of the `train()` method which you wrote earlier in this notebook.\n",
    "\n",
    "**TODO**: Copy the `train()` method written above and paste it into the `train/train.py` file where required.\n",
    "\n",
    "The way that SageMaker passes hyperparameters to the training script is by way of arguments. These arguments can then be parsed and used in the training script. To see how this is done take a look at the provided `train/train.py` file."
   ]
  },
  {
   "cell_type": "code",
   "execution_count": 27,
   "metadata": {},
   "outputs": [],
   "source": [
    "from sagemaker.pytorch import PyTorch\n",
    "\n",
    "estimator = PyTorch(entry_point=\"train.py\",\n",
    "                    source_dir=\"train\",\n",
    "                    role=role,\n",
    "                    framework_version='0.4.0',\n",
    "                    train_instance_count=1,\n",
    "                    train_instance_type='ml.p2.xlarge',\n",
    "                    hyperparameters={\n",
    "                        'epochs': 10,\n",
    "                        'hidden_dim': 200,\n",
    "                    })"
   ]
  },
  {
   "cell_type": "code",
   "execution_count": 28,
   "metadata": {},
   "outputs": [
    {
     "name": "stderr",
     "output_type": "stream",
     "text": [
      "'create_image_uri' will be deprecated in favor of 'ImageURIProvider' class in SageMaker Python SDK v2.\n",
      "'s3_input' class will be renamed to 'TrainingInput' in SageMaker Python SDK v2.\n",
      "'create_image_uri' will be deprecated in favor of 'ImageURIProvider' class in SageMaker Python SDK v2.\n"
     ]
    },
    {
     "name": "stdout",
     "output_type": "stream",
     "text": [
      "2022-02-19 14:39:36 Starting - Starting the training job...\n",
      "2022-02-19 14:39:38 Starting - Launching requested ML instances.........\n",
      "2022-02-19 14:41:07 Starting - Preparing the instances for training......\n",
      "2022-02-19 14:42:12 Downloading - Downloading input data...\n",
      "2022-02-19 14:42:41 Training - Downloading the training image..\u001b[34mbash: cannot set terminal process group (-1): Inappropriate ioctl for device\u001b[0m\n",
      "\u001b[34mbash: no job control in this shell\u001b[0m\n",
      "\u001b[34m2022-02-19 14:43:18,938 sagemaker-containers INFO     Imported framework sagemaker_pytorch_container.training\u001b[0m\n",
      "\u001b[34m2022-02-19 14:43:18,963 sagemaker_pytorch_container.training INFO     Block until all host DNS lookups succeed.\u001b[0m\n",
      "\u001b[34m2022-02-19 14:43:22,000 sagemaker_pytorch_container.training INFO     Invoking user training script.\u001b[0m\n",
      "\u001b[34m2022-02-19 14:43:22,252 sagemaker-containers INFO     Module train does not provide a setup.py. \u001b[0m\n",
      "\u001b[34mGenerating setup.py\u001b[0m\n",
      "\u001b[34m2022-02-19 14:43:22,252 sagemaker-containers INFO     Generating setup.cfg\u001b[0m\n",
      "\u001b[34m2022-02-19 14:43:22,252 sagemaker-containers INFO     Generating MANIFEST.in\u001b[0m\n",
      "\u001b[34m2022-02-19 14:43:22,252 sagemaker-containers INFO     Installing module with the following command:\u001b[0m\n",
      "\u001b[34m/usr/bin/python -m pip install -U . -r requirements.txt\u001b[0m\n",
      "\u001b[34mProcessing /opt/ml/code\u001b[0m\n",
      "\n",
      "2022-02-19 14:43:18 Training - Training image download completed. Training in progress.\u001b[34mCollecting pandas (from -r requirements.txt (line 1))\n",
      "  Downloading https://files.pythonhosted.org/packages/74/24/0cdbf8907e1e3bc5a8da03345c23cbed7044330bb8f73bb12e711a640a00/pandas-0.24.2-cp35-cp35m-manylinux1_x86_64.whl (10.0MB)\u001b[0m\n",
      "\u001b[34mCollecting numpy (from -r requirements.txt (line 2))\u001b[0m\n",
      "\u001b[34m  Downloading https://files.pythonhosted.org/packages/b5/36/88723426b4ff576809fec7d73594fe17a35c27f8d01f93637637a29ae25b/numpy-1.18.5-cp35-cp35m-manylinux1_x86_64.whl (19.9MB)\u001b[0m\n",
      "\u001b[34mCollecting nltk (from -r requirements.txt (line 3))\n",
      "  Downloading https://files.pythonhosted.org/packages/5e/37/9532ddd4b1bbb619333d5708aaad9bf1742f051a664c3c6fa6632a105fd8/nltk-3.6.2-py3-none-any.whl (1.5MB)\u001b[0m\n",
      "\u001b[34mCollecting beautifulsoup4 (from -r requirements.txt (line 4))\n",
      "  Downloading https://files.pythonhosted.org/packages/69/bf/f0f194d3379d3f3347478bd267f754fc68c11cbf2fe302a6ab69447b1417/beautifulsoup4-4.10.0-py3-none-any.whl (97kB)\u001b[0m\n",
      "\u001b[34mCollecting html5lib (from -r requirements.txt (line 5))\n",
      "  Downloading https://files.pythonhosted.org/packages/6c/dd/a834df6482147d48e225a49515aabc28974ad5a4ca3215c18a882565b028/html5lib-1.1-py2.py3-none-any.whl (112kB)\u001b[0m\n",
      "\u001b[34mRequirement already satisfied, skipping upgrade: python-dateutil>=2.5.0 in /usr/local/lib/python3.5/dist-packages (from pandas->-r requirements.txt (line 1)) (2.7.5)\u001b[0m\n",
      "\u001b[34mCollecting pytz>=2011k (from pandas->-r requirements.txt (line 1))\n",
      "  Downloading https://files.pythonhosted.org/packages/d3/e3/d9f046b5d1c94a3aeab15f1f867aa414f8ee9d196fae6865f1d6a0ee1a0b/pytz-2021.3-py2.py3-none-any.whl (503kB)\u001b[0m\n",
      "\u001b[34mCollecting regex (from nltk->-r requirements.txt (line 3))\u001b[0m\n",
      "\u001b[34m  Downloading https://files.pythonhosted.org/packages/4c/75/b5b60055897d78882da8bc4c94609067cf531a42726df2e44ce69e8ec7a9/regex-2022.1.18.tar.gz (382kB)\u001b[0m\n",
      "\u001b[34mCollecting joblib (from nltk->-r requirements.txt (line 3))\n",
      "  Downloading https://files.pythonhosted.org/packages/28/5c/cf6a2b65a321c4a209efcdf64c2689efae2cb62661f8f6f4bb28547cf1bf/joblib-0.14.1-py2.py3-none-any.whl (294kB)\u001b[0m\n",
      "\u001b[34mRequirement already satisfied, skipping upgrade: click in /usr/local/lib/python3.5/dist-packages (from nltk->-r requirements.txt (line 3)) (7.0)\u001b[0m\n",
      "\u001b[34mCollecting tqdm (from nltk->-r requirements.txt (line 3))\u001b[0m\n",
      "\u001b[34m  Downloading https://files.pythonhosted.org/packages/63/f3/b7a1b8e40fd1bd049a34566eb353527bb9b8e9b98f8b6cf803bb64d8ce95/tqdm-4.62.3-py2.py3-none-any.whl (76kB)\u001b[0m\n",
      "\u001b[34mCollecting soupsieve>1.2 (from beautifulsoup4->-r requirements.txt (line 4))\n",
      "  Downloading https://files.pythonhosted.org/packages/02/fb/1c65691a9aeb7bd6ac2aa505b84cb8b49ac29c976411c6ab3659425e045f/soupsieve-2.1-py3-none-any.whl\u001b[0m\n",
      "\u001b[34mRequirement already satisfied, skipping upgrade: six>=1.9 in /usr/local/lib/python3.5/dist-packages (from html5lib->-r requirements.txt (line 5)) (1.11.0)\u001b[0m\n",
      "\u001b[34mCollecting webencodings (from html5lib->-r requirements.txt (line 5))\n",
      "  Downloading https://files.pythonhosted.org/packages/f4/24/2a3e3df732393fed8b3ebf2ec078f05546de641fe1b667ee316ec1dcf3b7/webencodings-0.5.1-py2.py3-none-any.whl\u001b[0m\n",
      "\u001b[34mBuilding wheels for collected packages: train, regex\n",
      "  Running setup.py bdist_wheel for train: started\n",
      "  Running setup.py bdist_wheel for train: finished with status 'done'\n",
      "  Stored in directory: /tmp/pip-ephem-wheel-cache-3ufo1h6o/wheels/35/24/16/37574d11bf9bde50616c67372a334f94fa8356bc7164af8ca3\n",
      "  Running setup.py bdist_wheel for regex: started\u001b[0m\n",
      "\u001b[34m  Running setup.py bdist_wheel for regex: finished with status 'done'\n",
      "  Stored in directory: /root/.cache/pip/wheels/91/d2/b9/77522f50d9ec6ab6c755f54d9dfed385ae6afd1b7296bbbcc2\u001b[0m\n",
      "\u001b[34mSuccessfully built train regex\u001b[0m\n",
      "\u001b[34mInstalling collected packages: numpy, pytz, pandas, regex, joblib, tqdm, nltk, soupsieve, beautifulsoup4, webencodings, html5lib, train\n",
      "  Found existing installation: numpy 1.15.4\n",
      "    Uninstalling numpy-1.15.4:\u001b[0m\n",
      "\u001b[34m      Successfully uninstalled numpy-1.15.4\u001b[0m\n",
      "\u001b[34mSuccessfully installed beautifulsoup4-4.10.0 html5lib-1.1 joblib-0.14.1 nltk-3.6.2 numpy-1.18.5 pandas-0.24.2 pytz-2021.3 regex-2022.1.18 soupsieve-2.1 tqdm-4.62.3 train-1.0.0 webencodings-0.5.1\u001b[0m\n",
      "\u001b[34mYou are using pip version 18.1, however version 20.3.4 is available.\u001b[0m\n",
      "\u001b[34mYou should consider upgrading via the 'pip install --upgrade pip' command.\u001b[0m\n",
      "\u001b[34m2022-02-19 14:43:44,034 sagemaker-containers INFO     Invoking user script\u001b[0m\n",
      "\u001b[34mTraining Env:\u001b[0m\n",
      "\u001b[34m{\n",
      "    \"network_interface_name\": \"eth0\",\n",
      "    \"job_name\": \"sagemaker-pytorch-2022-02-19-14-39-35-598\",\n",
      "    \"current_host\": \"algo-1\",\n",
      "    \"model_dir\": \"/opt/ml/model\",\n",
      "    \"channel_input_dirs\": {\n",
      "        \"training\": \"/opt/ml/input/data/training\"\n",
      "    },\n",
      "    \"user_entry_point\": \"train.py\",\n",
      "    \"hyperparameters\": {\n",
      "        \"epochs\": 10,\n",
      "        \"hidden_dim\": 200\n",
      "    },\n",
      "    \"hosts\": [\n",
      "        \"algo-1\"\n",
      "    ],\n",
      "    \"input_data_config\": {\n",
      "        \"training\": {\n",
      "            \"S3DistributionType\": \"FullyReplicated\",\n",
      "            \"TrainingInputMode\": \"File\",\n",
      "            \"RecordWrapperType\": \"None\"\n",
      "        }\n",
      "    },\n",
      "    \"output_intermediate_dir\": \"/opt/ml/output/intermediate\",\n",
      "    \"num_gpus\": 1,\n",
      "    \"output_data_dir\": \"/opt/ml/output/data\",\n",
      "    \"framework_module\": \"sagemaker_pytorch_container.training:main\",\n",
      "    \"resource_config\": {\n",
      "        \"hosts\": [\n",
      "            \"algo-1\"\n",
      "        ],\n",
      "        \"network_interface_name\": \"eth0\",\n",
      "        \"current_host\": \"algo-1\"\n",
      "    },\n",
      "    \"num_cpus\": 4,\n",
      "    \"log_level\": 20,\n",
      "    \"input_dir\": \"/opt/ml/input\",\n",
      "    \"module_dir\": \"s3://sagemaker-us-east-1-067215852314/sagemaker-pytorch-2022-02-19-14-39-35-598/source/sourcedir.tar.gz\",\n",
      "    \"module_name\": \"train\",\n",
      "    \"additional_framework_parameters\": {},\n",
      "    \"output_dir\": \"/opt/ml/output\",\n",
      "    \"input_config_dir\": \"/opt/ml/input/config\"\u001b[0m\n",
      "\u001b[34m}\u001b[0m\n",
      "\u001b[34mEnvironment variables:\u001b[0m\n",
      "\u001b[34mSM_OUTPUT_DIR=/opt/ml/output\u001b[0m\n",
      "\u001b[34mSM_INPUT_DATA_CONFIG={\"training\":{\"RecordWrapperType\":\"None\",\"S3DistributionType\":\"FullyReplicated\",\"TrainingInputMode\":\"File\"}}\u001b[0m\n",
      "\u001b[34mPYTHONPATH=/usr/local/bin:/usr/lib/python35.zip:/usr/lib/python3.5:/usr/lib/python3.5/plat-x86_64-linux-gnu:/usr/lib/python3.5/lib-dynload:/usr/local/lib/python3.5/dist-packages:/usr/lib/python3/dist-packages\u001b[0m\n",
      "\u001b[34mSM_NETWORK_INTERFACE_NAME=eth0\u001b[0m\n",
      "\u001b[34mSM_MODULE_DIR=s3://sagemaker-us-east-1-067215852314/sagemaker-pytorch-2022-02-19-14-39-35-598/source/sourcedir.tar.gz\u001b[0m\n",
      "\u001b[34mSM_RESOURCE_CONFIG={\"current_host\":\"algo-1\",\"hosts\":[\"algo-1\"],\"network_interface_name\":\"eth0\"}\u001b[0m\n",
      "\u001b[34mSM_CURRENT_HOST=algo-1\u001b[0m\n",
      "\u001b[34mSM_NUM_GPUS=1\u001b[0m\n",
      "\u001b[34mSM_MODULE_NAME=train\u001b[0m\n",
      "\u001b[34mSM_CHANNEL_TRAINING=/opt/ml/input/data/training\u001b[0m\n",
      "\u001b[34mSM_CHANNELS=[\"training\"]\u001b[0m\n",
      "\u001b[34mSM_MODEL_DIR=/opt/ml/model\u001b[0m\n",
      "\u001b[34mSM_HP_HIDDEN_DIM=200\u001b[0m\n",
      "\u001b[34mSM_HP_EPOCHS=10\u001b[0m\n",
      "\u001b[34mSM_HPS={\"epochs\":10,\"hidden_dim\":200}\u001b[0m\n",
      "\u001b[34mSM_LOG_LEVEL=20\u001b[0m\n",
      "\u001b[34mSM_NUM_CPUS=4\u001b[0m\n",
      "\u001b[34mSM_FRAMEWORK_PARAMS={}\u001b[0m\n",
      "\u001b[34mSM_OUTPUT_DATA_DIR=/opt/ml/output/data\u001b[0m\n",
      "\u001b[34mSM_HOSTS=[\"algo-1\"]\u001b[0m\n",
      "\u001b[34mSM_USER_ARGS=[\"--epochs\",\"10\",\"--hidden_dim\",\"200\"]\u001b[0m\n",
      "\u001b[34mSM_OUTPUT_INTERMEDIATE_DIR=/opt/ml/output/intermediate\u001b[0m\n",
      "\u001b[34mSM_INPUT_DIR=/opt/ml/input\u001b[0m\n",
      "\u001b[34mSM_TRAINING_ENV={\"additional_framework_parameters\":{},\"channel_input_dirs\":{\"training\":\"/opt/ml/input/data/training\"},\"current_host\":\"algo-1\",\"framework_module\":\"sagemaker_pytorch_container.training:main\",\"hosts\":[\"algo-1\"],\"hyperparameters\":{\"epochs\":10,\"hidden_dim\":200},\"input_config_dir\":\"/opt/ml/input/config\",\"input_data_config\":{\"training\":{\"RecordWrapperType\":\"None\",\"S3DistributionType\":\"FullyReplicated\",\"TrainingInputMode\":\"File\"}},\"input_dir\":\"/opt/ml/input\",\"job_name\":\"sagemaker-pytorch-2022-02-19-14-39-35-598\",\"log_level\":20,\"model_dir\":\"/opt/ml/model\",\"module_dir\":\"s3://sagemaker-us-east-1-067215852314/sagemaker-pytorch-2022-02-19-14-39-35-598/source/sourcedir.tar.gz\",\"module_name\":\"train\",\"network_interface_name\":\"eth0\",\"num_cpus\":4,\"num_gpus\":1,\"output_data_dir\":\"/opt/ml/output/data\",\"output_dir\":\"/opt/ml/output\",\"output_intermediate_dir\":\"/opt/ml/output/intermediate\",\"resource_config\":{\"current_host\":\"algo-1\",\"hosts\":[\"algo-1\"],\"network_interface_name\":\"eth0\"},\"user_entry_point\":\"train.py\"}\u001b[0m\n",
      "\u001b[34mSM_INPUT_CONFIG_DIR=/opt/ml/input/config\u001b[0m\n",
      "\u001b[34mSM_USER_ENTRY_POINT=train.py\u001b[0m\n",
      "\u001b[34mSM_FRAMEWORK_MODULE=sagemaker_pytorch_container.training:main\u001b[0m\n",
      "\u001b[34mInvoking script with the following command:\u001b[0m\n",
      "\u001b[34m/usr/bin/python -m train --epochs 10 --hidden_dim 200\u001b[0m\n",
      "\u001b[34mUsing device cuda.\u001b[0m\n",
      "\u001b[34mGet train data loader.\u001b[0m\n",
      "\u001b[34mModel loaded with embedding_dim 32, hidden_dim 200, vocab_size 5000.\u001b[0m\n",
      "\u001b[34mEpoch: 1, BCELoss: 0.01421549855446329\u001b[0m\n",
      "\u001b[34mEpoch: 1, BCELoss: 0.028362749790658757\u001b[0m\n",
      "\u001b[34mEpoch: 1, BCELoss: 0.04247473332346702\u001b[0m\n",
      "\u001b[34mEpoch: 1, BCELoss: 0.056600549999548465\u001b[0m\n",
      "\u001b[34mEpoch: 1, BCELoss: 0.07068613718967048\u001b[0m\n",
      "\u001b[34mEpoch: 1, BCELoss: 0.08471789165418975\u001b[0m\n",
      "\u001b[34mEpoch: 1, BCELoss: 0.09878043860805277\u001b[0m\n",
      "\u001b[34mEpoch: 1, BCELoss: 0.11276942126604976\u001b[0m\n",
      "\u001b[34mEpoch: 1, BCELoss: 0.1268722597433596\u001b[0m\n",
      "\u001b[34mEpoch: 1, BCELoss: 0.1409580439937358\u001b[0m\n",
      "\u001b[34mEpoch: 1, BCELoss: 0.1549662108324012\u001b[0m\n",
      "\u001b[34mEpoch: 1, BCELoss: 0.16897380473662396\u001b[0m\n",
      "\u001b[34mEpoch: 1, BCELoss: 0.18301492929458618\u001b[0m\n",
      "\u001b[34mEpoch: 1, BCELoss: 0.19700675472921256\u001b[0m\n",
      "\u001b[34mEpoch: 1, BCELoss: 0.2111121975645727\u001b[0m\n",
      "\u001b[34mEpoch: 1, BCELoss: 0.22506246031547078\u001b[0m\n",
      "\u001b[34mEpoch: 1, BCELoss: 0.2388934809334424\u001b[0m\n",
      "\u001b[34mEpoch: 1, BCELoss: 0.25274516490040994\u001b[0m\n",
      "\u001b[34mEpoch: 1, BCELoss: 0.26669190489515965\u001b[0m\n",
      "\u001b[34mEpoch: 1, BCELoss: 0.2807082582493218\u001b[0m\n",
      "\u001b[34mEpoch: 1, BCELoss: 0.29458961316517424\u001b[0m\n",
      "\u001b[34mEpoch: 1, BCELoss: 0.3085051653336506\u001b[0m\n",
      "\u001b[34mEpoch: 1, BCELoss: 0.32221834027037327\u001b[0m\n",
      "\u001b[34mEpoch: 1, BCELoss: 0.3361506668888793\u001b[0m\n",
      "\u001b[34mEpoch: 1, BCELoss: 0.34977459542605344\u001b[0m\n",
      "\u001b[34mEpoch: 1, BCELoss: 0.36360163956272357\u001b[0m\n",
      "\u001b[34mEpoch: 1, BCELoss: 0.3775082923928086\u001b[0m\n",
      "\u001b[34mEpoch: 1, BCELoss: 0.39059499575167284\u001b[0m\n",
      "\u001b[34mEpoch: 1, BCELoss: 0.40399970448746975\u001b[0m\n",
      "\u001b[34mEpoch: 1, BCELoss: 0.41769769848609456\u001b[0m\n",
      "\u001b[34mEpoch: 1, BCELoss: 0.43134190355028423\u001b[0m\n",
      "\u001b[34mEpoch: 1, BCELoss: 0.44470803713311957\u001b[0m\n",
      "\u001b[34mEpoch: 1, BCELoss: 0.4578814810636092\u001b[0m\n",
      "\u001b[34mEpoch: 1, BCELoss: 0.4714122329439436\u001b[0m\n",
      "\u001b[34mEpoch: 1, BCELoss: 0.48477122126793376\u001b[0m\n",
      "\u001b[34mEpoch: 1, BCELoss: 0.49776690833422604\u001b[0m\n",
      "\u001b[34mEpoch: 1, BCELoss: 0.510934519524477\u001b[0m\n",
      "\u001b[34mEpoch: 1, BCELoss: 0.5240443056943466\u001b[0m\n",
      "\u001b[34mEpoch: 1, BCELoss: 0.5365715063348109\u001b[0m\n",
      "\u001b[34mEpoch: 1, BCELoss: 0.5501627739594908\u001b[0m\n",
      "\u001b[34mEpoch: 1, BCELoss: 0.5623454877308437\u001b[0m\n",
      "\u001b[34mEpoch: 1, BCELoss: 0.5753151020225213\u001b[0m\n",
      "\u001b[34mEpoch: 1, BCELoss: 0.5884278611261018\u001b[0m\n",
      "\u001b[34mEpoch: 1, BCELoss: 0.6013628767461193\u001b[0m\n",
      "\u001b[34mEpoch: 1, BCELoss: 0.614232924519753\u001b[0m\n",
      "\u001b[34mEpoch: 1, BCELoss: 0.626923744775811\u001b[0m\n",
      "\u001b[34mEpoch: 1, BCELoss: 0.6398580463565126\u001b[0m\n",
      "\u001b[34mEpoch: 1, BCELoss: 0.6525344629676975\u001b[0m\n",
      "\u001b[34mEpoch: 1, BCELoss: 0.665697308219209\u001b[0m\n",
      "\u001b[34mEpoch: 2, BCELoss: 0.012791224888392858\u001b[0m\n",
      "\u001b[34mEpoch: 2, BCELoss: 0.0252883750565198\u001b[0m\n",
      "\u001b[34mEpoch: 2, BCELoss: 0.03776292168364233\u001b[0m\n",
      "\u001b[34mEpoch: 2, BCELoss: 0.05020596543136908\u001b[0m\n",
      "\u001b[34mEpoch: 2, BCELoss: 0.0626984640043609\u001b[0m\n",
      "\u001b[34mEpoch: 2, BCELoss: 0.0750263187350059\u001b[0m\n",
      "\u001b[34mEpoch: 2, BCELoss: 0.08740053736433691\u001b[0m\n",
      "\u001b[34mEpoch: 2, BCELoss: 0.09976161742696957\u001b[0m\n",
      "\u001b[34mEpoch: 2, BCELoss: 0.1113684809937769\u001b[0m\n",
      "\u001b[34mEpoch: 2, BCELoss: 0.12389723500426934\u001b[0m\n",
      "\u001b[34mEpoch: 2, BCELoss: 0.13623960529054915\u001b[0m\n",
      "\u001b[34mEpoch: 2, BCELoss: 0.1486039344145327\u001b[0m\n",
      "\u001b[34mEpoch: 2, BCELoss: 0.1612958312034607\u001b[0m\n",
      "\u001b[34mEpoch: 2, BCELoss: 0.17390009213467034\u001b[0m\n",
      "\u001b[34mEpoch: 2, BCELoss: 0.1862691531375963\u001b[0m\n",
      "\u001b[34mEpoch: 2, BCELoss: 0.1981938785436202\u001b[0m\n",
      "\u001b[34mEpoch: 2, BCELoss: 0.21037388212826788\u001b[0m\n",
      "\u001b[34mEpoch: 2, BCELoss: 0.22220518029465966\u001b[0m\n",
      "\u001b[34mEpoch: 2, BCELoss: 0.23452364303627793\u001b[0m\n",
      "\u001b[34mEpoch: 2, BCELoss: 0.2466794422694615\u001b[0m\n",
      "\u001b[34mEpoch: 2, BCELoss: 0.2588599604003283\u001b[0m\n",
      "\u001b[34mEpoch: 2, BCELoss: 0.271197467434163\u001b[0m\n",
      "\u001b[34mEpoch: 2, BCELoss: 0.28307108003266\u001b[0m\n",
      "\u001b[34mEpoch: 2, BCELoss: 0.2954092147398968\u001b[0m\n",
      "\u001b[34mEpoch: 2, BCELoss: 0.3074377337280585\u001b[0m\n",
      "\u001b[34mEpoch: 2, BCELoss: 0.3202362960698653\u001b[0m\n",
      "\u001b[34mEpoch: 2, BCELoss: 0.3327823062332309\u001b[0m\n",
      "\u001b[34mEpoch: 2, BCELoss: 0.3440810758240369\u001b[0m\n",
      "\u001b[34mEpoch: 2, BCELoss: 0.3553617499312576\u001b[0m\n",
      "\u001b[34mEpoch: 2, BCELoss: 0.3671678779076557\u001b[0m\n",
      "\u001b[34mEpoch: 2, BCELoss: 0.37889602354594637\u001b[0m\n",
      "\u001b[34mEpoch: 2, BCELoss: 0.3905985951423645\u001b[0m\n",
      "\u001b[34mEpoch: 2, BCELoss: 0.40236675009435535\u001b[0m\n",
      "\u001b[34mEpoch: 2, BCELoss: 0.414249557621625\u001b[0m\n",
      "\u001b[34mEpoch: 2, BCELoss: 0.425869595031349\u001b[0m\n",
      "\u001b[34mEpoch: 2, BCELoss: 0.436926755369926\u001b[0m\n",
      "\u001b[34mEpoch: 2, BCELoss: 0.4480311615126474\u001b[0m\n",
      "\u001b[34mEpoch: 2, BCELoss: 0.459130052401095\u001b[0m\n",
      "\u001b[34mEpoch: 2, BCELoss: 0.4693377249094905\u001b[0m\n",
      "\u001b[34mEpoch: 2, BCELoss: 0.48070380274130375\u001b[0m\n",
      "\u001b[34mEpoch: 2, BCELoss: 0.49095744867714086\u001b[0m\n",
      "\u001b[34mEpoch: 2, BCELoss: 0.5022985266179455\u001b[0m\n",
      "\u001b[34mEpoch: 2, BCELoss: 0.5136032469418584\u001b[0m\n",
      "\u001b[34mEpoch: 2, BCELoss: 0.5247372534810281\u001b[0m\n",
      "\u001b[34mEpoch: 2, BCELoss: 0.5359308902098208\u001b[0m\n",
      "\u001b[34mEpoch: 2, BCELoss: 0.5465607533649522\u001b[0m\n",
      "\u001b[34mEpoch: 2, BCELoss: 0.5572698347422541\u001b[0m\n",
      "\u001b[34mEpoch: 2, BCELoss: 0.5682713608352505\u001b[0m\n",
      "\u001b[34mEpoch: 2, BCELoss: 0.5790990554556554\u001b[0m\n",
      "\u001b[34mEpoch: 3, BCELoss: 0.010789978260896643\u001b[0m\n",
      "\u001b[34mEpoch: 3, BCELoss: 0.021137562333321085\u001b[0m\n",
      "\u001b[34mEpoch: 3, BCELoss: 0.032069241514011304\u001b[0m\n",
      "\u001b[34mEpoch: 3, BCELoss: 0.04257379137739843\u001b[0m\n",
      "\u001b[34mEpoch: 3, BCELoss: 0.05330527801902927\u001b[0m\n",
      "\u001b[34mEpoch: 3, BCELoss: 0.06389594807916758\u001b[0m\n",
      "\u001b[34mEpoch: 3, BCELoss: 0.07466482872865637\u001b[0m\n",
      "\u001b[34mEpoch: 3, BCELoss: 0.08507097983846859\u001b[0m\n",
      "\u001b[34mEpoch: 3, BCELoss: 0.09504635115059054\u001b[0m\n",
      "\u001b[34mEpoch: 3, BCELoss: 0.10570825849260602\u001b[0m\n",
      "\u001b[34mEpoch: 3, BCELoss: 0.11579015303631218\u001b[0m\n",
      "\u001b[34mEpoch: 3, BCELoss: 0.12589932339532034\u001b[0m\n",
      "\u001b[34mEpoch: 3, BCELoss: 0.13601261985545254\u001b[0m\n",
      "\u001b[34mEpoch: 3, BCELoss: 0.14637562815023927\u001b[0m\n",
      "\u001b[34mEpoch: 3, BCELoss: 0.15716888345017724\u001b[0m\n",
      "\u001b[34mEpoch: 3, BCELoss: 0.16696287722003703\u001b[0m\n",
      "\u001b[34mEpoch: 3, BCELoss: 0.17681569286755153\u001b[0m\n",
      "\u001b[34mEpoch: 3, BCELoss: 0.18579999342256662\u001b[0m\n",
      "\u001b[34mEpoch: 3, BCELoss: 0.1963114744546462\u001b[0m\n",
      "\u001b[34mEpoch: 3, BCELoss: 0.20682102502608785\u001b[0m\n",
      "\u001b[34mEpoch: 3, BCELoss: 0.21670384248908686\u001b[0m\n",
      "\u001b[34mEpoch: 3, BCELoss: 0.227122178491281\u001b[0m\n",
      "\u001b[34mEpoch: 3, BCELoss: 0.2366806761342652\u001b[0m\n",
      "\u001b[34mEpoch: 3, BCELoss: 0.24706028736367516\u001b[0m\n",
      "\u001b[34mEpoch: 3, BCELoss: 0.257200618179477\u001b[0m\n",
      "\u001b[34mEpoch: 3, BCELoss: 0.26737198172783366\u001b[0m\n",
      "\u001b[34mEpoch: 3, BCELoss: 0.27831876277923584\u001b[0m\n",
      "\u001b[34mEpoch: 3, BCELoss: 0.28854293482644217\u001b[0m\n",
      "\u001b[34mEpoch: 3, BCELoss: 0.2986456180105404\u001b[0m\n",
      "\u001b[34mEpoch: 3, BCELoss: 0.3088288647787912\u001b[0m\n",
      "\u001b[34mEpoch: 3, BCELoss: 0.31806919526080696\u001b[0m\n",
      "\u001b[34mEpoch: 3, BCELoss: 0.3286731133655626\u001b[0m\n",
      "\u001b[34mEpoch: 3, BCELoss: 0.3381492617178936\u001b[0m\n",
      "\u001b[34mEpoch: 3, BCELoss: 0.3483008085464945\u001b[0m\n",
      "\u001b[34mEpoch: 3, BCELoss: 0.3586508887154715\u001b[0m\n",
      "\u001b[34mEpoch: 3, BCELoss: 0.3686924820043603\u001b[0m\n",
      "\u001b[34mEpoch: 3, BCELoss: 0.3785997994092046\u001b[0m\n",
      "\u001b[34mEpoch: 3, BCELoss: 0.3886203413106957\u001b[0m\n",
      "\u001b[34mEpoch: 3, BCELoss: 0.39833384022420765\u001b[0m\n",
      "\u001b[34mEpoch: 3, BCELoss: 0.40875896750664226\u001b[0m\n",
      "\u001b[34mEpoch: 3, BCELoss: 0.4184953022976311\u001b[0m\n",
      "\u001b[34mEpoch: 3, BCELoss: 0.42915435591522527\u001b[0m\n",
      "\u001b[34mEpoch: 3, BCELoss: 0.4396549438943668\u001b[0m\n",
      "\u001b[34mEpoch: 3, BCELoss: 0.44988054158736246\u001b[0m\n",
      "\u001b[34mEpoch: 3, BCELoss: 0.4599754858990105\u001b[0m\n",
      "\u001b[34mEpoch: 3, BCELoss: 0.46914987418116355\u001b[0m\n",
      "\u001b[34mEpoch: 3, BCELoss: 0.47873934312742583\u001b[0m\n",
      "\u001b[34mEpoch: 3, BCELoss: 0.4882102657337578\u001b[0m\n",
      "\u001b[34mEpoch: 3, BCELoss: 0.49757457022764245\u001b[0m\n",
      "\u001b[34mEpoch: 4, BCELoss: 0.0093229455607278\u001b[0m\n",
      "\u001b[34mEpoch: 4, BCELoss: 0.01890942089411677\u001b[0m\n",
      "\u001b[34mEpoch: 4, BCELoss: 0.028172800735551482\u001b[0m\n",
      "\u001b[34mEpoch: 4, BCELoss: 0.03750971507052986\u001b[0m\n",
      "\u001b[34mEpoch: 4, BCELoss: 0.04665785115592334\u001b[0m\n",
      "\u001b[34mEpoch: 4, BCELoss: 0.05599013883240369\u001b[0m\n",
      "\u001b[34mEpoch: 4, BCELoss: 0.06550865392295682\u001b[0m\n",
      "\u001b[34mEpoch: 4, BCELoss: 0.07424233032732594\u001b[0m\n",
      "\u001b[34mEpoch: 4, BCELoss: 0.08232345447248342\u001b[0m\n",
      "\u001b[34mEpoch: 4, BCELoss: 0.09187082611784643\u001b[0m\n",
      "\u001b[34mEpoch: 4, BCELoss: 0.10078801488389774\u001b[0m\n",
      "\u001b[34mEpoch: 4, BCELoss: 0.10991390201510215\u001b[0m\n",
      "\u001b[34mEpoch: 4, BCELoss: 0.11877555810675329\u001b[0m\n",
      "\u001b[34mEpoch: 4, BCELoss: 0.127950874518375\u001b[0m\n",
      "\u001b[34mEpoch: 4, BCELoss: 0.13737572759998087\u001b[0m\n",
      "\u001b[34mEpoch: 4, BCELoss: 0.14622251415739254\u001b[0m\n",
      "\u001b[34mEpoch: 4, BCELoss: 0.15556432337177042\u001b[0m\n",
      "\u001b[34mEpoch: 4, BCELoss: 0.16390004814887532\u001b[0m\n",
      "\u001b[34mEpoch: 4, BCELoss: 0.17340661615741496\u001b[0m\n",
      "\u001b[34mEpoch: 4, BCELoss: 0.1831580680243823\u001b[0m\n",
      "\u001b[34mEpoch: 4, BCELoss: 0.19160874157535787\u001b[0m\n",
      "\u001b[34mEpoch: 4, BCELoss: 0.20043657081467764\u001b[0m\n",
      "\u001b[34mEpoch: 4, BCELoss: 0.20913511940411159\u001b[0m\n",
      "\u001b[34mEpoch: 4, BCELoss: 0.21903973270435723\u001b[0m\n",
      "\u001b[34mEpoch: 4, BCELoss: 0.2275086963663296\u001b[0m\n",
      "\u001b[34mEpoch: 4, BCELoss: 0.2361026905020889\u001b[0m\n",
      "\u001b[34mEpoch: 4, BCELoss: 0.24585172473167888\u001b[0m\n",
      "\u001b[34mEpoch: 4, BCELoss: 0.2547090795575356\u001b[0m\n",
      "\u001b[34mEpoch: 4, BCELoss: 0.2629120708728323\u001b[0m\n",
      "\u001b[34mEpoch: 4, BCELoss: 0.27141728449840935\u001b[0m\n",
      "\u001b[34mEpoch: 4, BCELoss: 0.27971966351781574\u001b[0m\n",
      "\u001b[34mEpoch: 4, BCELoss: 0.28775903582572937\u001b[0m\n",
      "\u001b[34mEpoch: 4, BCELoss: 0.29618497223270185\u001b[0m\n",
      "\u001b[34mEpoch: 4, BCELoss: 0.30492227053155707\u001b[0m\n",
      "\u001b[34mEpoch: 4, BCELoss: 0.31510671000091395\u001b[0m\n",
      "\u001b[34mEpoch: 4, BCELoss: 0.32352158427238464\u001b[0m\n",
      "\u001b[34mEpoch: 4, BCELoss: 0.3321156994420655\u001b[0m\n",
      "\u001b[34mEpoch: 4, BCELoss: 0.3414030494738598\u001b[0m\n",
      "\u001b[34mEpoch: 4, BCELoss: 0.34997860205416775\u001b[0m\n",
      "\u001b[34mEpoch: 4, BCELoss: 0.358700732187349\u001b[0m\n",
      "\u001b[34mEpoch: 4, BCELoss: 0.36625199597709035\u001b[0m\n",
      "\u001b[34mEpoch: 4, BCELoss: 0.3748884097653992\u001b[0m\n",
      "\u001b[34mEpoch: 4, BCELoss: 0.384453684091568\u001b[0m\n",
      "\u001b[34mEpoch: 4, BCELoss: 0.39399120333243387\u001b[0m\n",
      "\u001b[34mEpoch: 4, BCELoss: 0.40249621746491415\u001b[0m\n",
      "\u001b[34mEpoch: 4, BCELoss: 0.4107486465755774\u001b[0m\n",
      "\u001b[34mEpoch: 4, BCELoss: 0.4197561661807858\u001b[0m\n",
      "\u001b[34mEpoch: 4, BCELoss: 0.4290192972640602\u001b[0m\n",
      "\u001b[34mEpoch: 4, BCELoss: 0.4380973188244567\u001b[0m\n",
      "\u001b[34mEpoch: 5, BCELoss: 0.008538100792437183\u001b[0m\n",
      "\u001b[34mEpoch: 5, BCELoss: 0.01694562362164867\u001b[0m\n",
      "\u001b[34mEpoch: 5, BCELoss: 0.025029751719260702\u001b[0m\n",
      "\u001b[34mEpoch: 5, BCELoss: 0.03329647073940355\u001b[0m\n",
      "\u001b[34mEpoch: 5, BCELoss: 0.04298953803218141\u001b[0m\n",
      "\u001b[34mEpoch: 5, BCELoss: 0.051444447162199994\u001b[0m\n",
      "\u001b[34mEpoch: 5, BCELoss: 0.06057274888972847\u001b[0m\n",
      "\u001b[34mEpoch: 5, BCELoss: 0.06884753582428912\u001b[0m\n",
      "\u001b[34mEpoch: 5, BCELoss: 0.07681237921422841\u001b[0m\n",
      "\u001b[34mEpoch: 5, BCELoss: 0.08499214965469983\u001b[0m\n",
      "\u001b[34mEpoch: 5, BCELoss: 0.0939024382708024\u001b[0m\n",
      "\u001b[34mEpoch: 5, BCELoss: 0.1025259014295072\u001b[0m\n",
      "\u001b[34mEpoch: 5, BCELoss: 0.11059360419000898\u001b[0m\n",
      "\u001b[34mEpoch: 5, BCELoss: 0.11851120177580386\u001b[0m\n",
      "\u001b[34mEpoch: 5, BCELoss: 0.1269500006218346\u001b[0m\n",
      "\u001b[34mEpoch: 5, BCELoss: 0.13457197924049533\u001b[0m\n",
      "\u001b[34mEpoch: 5, BCELoss: 0.14269940463864073\u001b[0m\n",
      "\u001b[34mEpoch: 5, BCELoss: 0.14953120387330346\u001b[0m\n",
      "\u001b[34mEpoch: 5, BCELoss: 0.15873217643523702\u001b[0m\n",
      "\u001b[34mEpoch: 5, BCELoss: 0.16759932588557808\u001b[0m\n",
      "\u001b[34mEpoch: 5, BCELoss: 0.17453098357940205\u001b[0m\n",
      "\u001b[34mEpoch: 5, BCELoss: 0.1826242676803044\u001b[0m\n",
      "\u001b[34mEpoch: 5, BCELoss: 0.1897802048799943\u001b[0m\n",
      "\u001b[34mEpoch: 5, BCELoss: 0.19809871242970836\u001b[0m\n",
      "\u001b[34mEpoch: 5, BCELoss: 0.20592777096495338\u001b[0m\n",
      "\u001b[34mEpoch: 5, BCELoss: 0.21377189122900672\u001b[0m\n",
      "\u001b[34mEpoch: 5, BCELoss: 0.22266707858260798\u001b[0m\n",
      "\u001b[34mEpoch: 5, BCELoss: 0.23057048600547167\u001b[0m\n",
      "\u001b[34mEpoch: 5, BCELoss: 0.23802540253619758\u001b[0m\n",
      "\u001b[34mEpoch: 5, BCELoss: 0.24569689862582147\u001b[0m\n",
      "\u001b[34mEpoch: 5, BCELoss: 0.2531772347129121\u001b[0m\n",
      "\u001b[34mEpoch: 5, BCELoss: 0.2604654534738891\u001b[0m\n",
      "\u001b[34mEpoch: 5, BCELoss: 0.26821616291999817\u001b[0m\n",
      "\u001b[34mEpoch: 5, BCELoss: 0.2758142291283121\u001b[0m\n",
      "\u001b[34mEpoch: 5, BCELoss: 0.2848730543438269\u001b[0m\n",
      "\u001b[34mEpoch: 5, BCELoss: 0.29257361317167474\u001b[0m\n",
      "\u001b[34mEpoch: 5, BCELoss: 0.29976147291611654\u001b[0m\n",
      "\u001b[34mEpoch: 5, BCELoss: 0.3078022392428651\u001b[0m\n",
      "\u001b[34mEpoch: 5, BCELoss: 0.3154210484757715\u001b[0m\n",
      "\u001b[34mEpoch: 5, BCELoss: 0.32301894438510037\u001b[0m\n",
      "\u001b[34mEpoch: 5, BCELoss: 0.32955830863543917\u001b[0m\n",
      "\u001b[34mEpoch: 5, BCELoss: 0.3373879784223985\u001b[0m\n",
      "\u001b[34mEpoch: 5, BCELoss: 0.3455392742643551\u001b[0m\n",
      "\u001b[34mEpoch: 5, BCELoss: 0.35459185619743505\u001b[0m\n",
      "\u001b[34mEpoch: 5, BCELoss: 0.36376269617859197\u001b[0m\n",
      "\u001b[34mEpoch: 5, BCELoss: 0.37126670139176504\u001b[0m\n",
      "\u001b[34mEpoch: 5, BCELoss: 0.37906193976499597\u001b[0m\n",
      "\u001b[34mEpoch: 5, BCELoss: 0.3874664257983772\u001b[0m\n",
      "\u001b[34mEpoch: 5, BCELoss: 0.3963356048476939\u001b[0m\n",
      "\u001b[34mEpoch: 6, BCELoss: 0.008569370118939146\u001b[0m\n",
      "\u001b[34mEpoch: 6, BCELoss: 0.016787381804719264\u001b[0m\n",
      "\u001b[34mEpoch: 6, BCELoss: 0.024887043602612555\u001b[0m\n",
      "\u001b[34mEpoch: 6, BCELoss: 0.032655617412255734\u001b[0m\n",
      "\u001b[34mEpoch: 6, BCELoss: 0.040606889797716726\u001b[0m\n",
      "\u001b[34mEpoch: 6, BCELoss: 0.04796608856746128\u001b[0m\n",
      "\u001b[34mEpoch: 6, BCELoss: 0.05610234579261469\u001b[0m\n",
      "\u001b[34mEpoch: 6, BCELoss: 0.06336457267099498\u001b[0m\n",
      "\u001b[34mEpoch: 6, BCELoss: 0.07022760838878397\u001b[0m\n",
      "\u001b[34mEpoch: 6, BCELoss: 0.07780938367454374\u001b[0m\n",
      "\u001b[34mEpoch: 6, BCELoss: 0.08519475922292592\u001b[0m\n",
      "\u001b[34mEpoch: 6, BCELoss: 0.09298499749631298\u001b[0m\n",
      "\u001b[34mEpoch: 6, BCELoss: 0.10024765437963057\u001b[0m\n",
      "\u001b[34mEpoch: 6, BCELoss: 0.10746394979710482\u001b[0m\n",
      "\u001b[34mEpoch: 6, BCELoss: 0.11511921396060866\u001b[0m\n",
      "\u001b[34mEpoch: 6, BCELoss: 0.122002191081339\u001b[0m\n",
      "\u001b[34mEpoch: 6, BCELoss: 0.1296329182021472\u001b[0m\n",
      "\u001b[34mEpoch: 6, BCELoss: 0.13594518753947044\u001b[0m\n",
      "\u001b[34mEpoch: 6, BCELoss: 0.14426753593950856\u001b[0m\n",
      "\u001b[34mEpoch: 6, BCELoss: 0.15284215065897727\u001b[0m\n",
      "\u001b[34mEpoch: 6, BCELoss: 0.15988304542035472\u001b[0m\n",
      "\u001b[34mEpoch: 6, BCELoss: 0.1675466578833911\u001b[0m\n",
      "\u001b[34mEpoch: 6, BCELoss: 0.17400622976069546\u001b[0m\n",
      "\u001b[34mEpoch: 6, BCELoss: 0.18230826757392105\u001b[0m\n",
      "\u001b[34mEpoch: 6, BCELoss: 0.18937755360895273\u001b[0m\n",
      "\u001b[34mEpoch: 6, BCELoss: 0.19651943627668886\u001b[0m\n",
      "\u001b[34mEpoch: 6, BCELoss: 0.20478339888611619\u001b[0m\n",
      "\u001b[34mEpoch: 6, BCELoss: 0.21230599284172058\u001b[0m\n",
      "\u001b[34mEpoch: 6, BCELoss: 0.21929079902415372\u001b[0m\n",
      "\u001b[34mEpoch: 6, BCELoss: 0.22623619680501977\u001b[0m\n",
      "\u001b[34mEpoch: 6, BCELoss: 0.23308783343860082\u001b[0m\n",
      "\u001b[34mEpoch: 6, BCELoss: 0.23993769166420917\u001b[0m\n",
      "\u001b[34mEpoch: 6, BCELoss: 0.246918899672372\u001b[0m\n",
      "\u001b[34mEpoch: 6, BCELoss: 0.25350226492297895\u001b[0m\n",
      "\u001b[34mEpoch: 6, BCELoss: 0.2618148211313754\u001b[0m\n",
      "\u001b[34mEpoch: 6, BCELoss: 0.26879695179511087\u001b[0m\n",
      "\u001b[34mEpoch: 6, BCELoss: 0.2755741513505274\u001b[0m\n",
      "\u001b[34mEpoch: 6, BCELoss: 0.2827267744103257\u001b[0m\n",
      "\u001b[34mEpoch: 6, BCELoss: 0.2892835784931572\u001b[0m\n",
      "\u001b[34mEpoch: 6, BCELoss: 0.2962470814889791\u001b[0m\n",
      "\u001b[34mEpoch: 6, BCELoss: 0.30284262250880806\u001b[0m\n",
      "\u001b[34mEpoch: 6, BCELoss: 0.31027294664966815\u001b[0m\n",
      "\u001b[34mEpoch: 6, BCELoss: 0.3172776157758674\u001b[0m\n",
      "\u001b[34mEpoch: 6, BCELoss: 0.32461997744988424\u001b[0m\n",
      "\u001b[34mEpoch: 6, BCELoss: 0.3320317876582243\u001b[0m\n",
      "\u001b[34mEpoch: 6, BCELoss: 0.3389384320804051\u001b[0m\n",
      "\u001b[34mEpoch: 6, BCELoss: 0.34548939855731264\u001b[0m\n",
      "\u001b[34mEpoch: 6, BCELoss: 0.3528223755408306\u001b[0m\n",
      "\u001b[34mEpoch: 6, BCELoss: 0.3600931556857362\u001b[0m\n",
      "\u001b[34mEpoch: 7, BCELoss: 0.007099357186531534\u001b[0m\n",
      "\u001b[34mEpoch: 7, BCELoss: 0.014347531357590032\u001b[0m\n",
      "\u001b[34mEpoch: 7, BCELoss: 0.020929319517953054\u001b[0m\n",
      "\u001b[34mEpoch: 7, BCELoss: 0.027488136169861774\u001b[0m\n",
      "\u001b[34mEpoch: 7, BCELoss: 0.03413374995698734\u001b[0m\n",
      "\u001b[34mEpoch: 7, BCELoss: 0.04096812313916732\u001b[0m\n",
      "\u001b[34mEpoch: 7, BCELoss: 0.04863674056773283\u001b[0m\n",
      "\u001b[34mEpoch: 7, BCELoss: 0.05530439773384405\u001b[0m\n",
      "\u001b[34mEpoch: 7, BCELoss: 0.061751927040061175\u001b[0m\n",
      "\u001b[34mEpoch: 7, BCELoss: 0.06930802367171462\u001b[0m\n",
      "\u001b[34mEpoch: 7, BCELoss: 0.07665409908002736\u001b[0m\n",
      "\u001b[34mEpoch: 7, BCELoss: 0.08378339543634532\u001b[0m\n",
      "\u001b[34mEpoch: 7, BCELoss: 0.09068994984334829\u001b[0m\n",
      "\u001b[34mEpoch: 7, BCELoss: 0.09746395933384798\u001b[0m\n",
      "\u001b[34mEpoch: 7, BCELoss: 0.10529507848681235\u001b[0m\n",
      "\u001b[34mEpoch: 7, BCELoss: 0.11202115671975273\u001b[0m\n",
      "\u001b[34mEpoch: 7, BCELoss: 0.11961556636557287\u001b[0m\n",
      "\u001b[34mEpoch: 7, BCELoss: 0.125990485658451\u001b[0m\n",
      "\u001b[34mEpoch: 7, BCELoss: 0.13413334865959323\u001b[0m\n",
      "\u001b[34mEpoch: 7, BCELoss: 0.14211594875977965\u001b[0m\n",
      "\u001b[34mEpoch: 7, BCELoss: 0.14911901099341257\u001b[0m\n",
      "\u001b[34mEpoch: 7, BCELoss: 0.1566070689230549\u001b[0m\n",
      "\u001b[34mEpoch: 7, BCELoss: 0.1625739177879022\u001b[0m\n",
      "\u001b[34mEpoch: 7, BCELoss: 0.1697968232388399\u001b[0m\n",
      "\u001b[34mEpoch: 7, BCELoss: 0.1770417933561364\u001b[0m\n",
      "\u001b[34mEpoch: 7, BCELoss: 0.18431152920333707\u001b[0m\n",
      "\u001b[34mEpoch: 7, BCELoss: 0.19192270052676297\u001b[0m\n",
      "\u001b[34mEpoch: 7, BCELoss: 0.19920232101362578\u001b[0m\n",
      "\u001b[34mEpoch: 7, BCELoss: 0.20636172014839796\u001b[0m\n",
      "\u001b[34mEpoch: 7, BCELoss: 0.21378688240537838\u001b[0m\n",
      "\u001b[34mEpoch: 7, BCELoss: 0.22097379090834637\u001b[0m\n",
      "\u001b[34mEpoch: 7, BCELoss: 0.2280353757799888\u001b[0m\n",
      "\u001b[34mEpoch: 7, BCELoss: 0.23476670530377602\u001b[0m\n",
      "\u001b[34mEpoch: 7, BCELoss: 0.24132484866648304\u001b[0m\n",
      "\u001b[34mEpoch: 7, BCELoss: 0.249909051827022\u001b[0m\n",
      "\u001b[34mEpoch: 7, BCELoss: 0.2571267072035342\u001b[0m\n",
      "\u001b[34mEpoch: 7, BCELoss: 0.26337361457396524\u001b[0m\n",
      "\u001b[34mEpoch: 7, BCELoss: 0.26992070127506645\u001b[0m\n",
      "\u001b[34mEpoch: 7, BCELoss: 0.27606880239077974\u001b[0m\n",
      "\u001b[34mEpoch: 7, BCELoss: 0.28260633592702905\u001b[0m\n",
      "\u001b[34mEpoch: 7, BCELoss: 0.28875621362608306\u001b[0m\n",
      "\u001b[34mEpoch: 7, BCELoss: 0.29564326210897796\u001b[0m\n",
      "\u001b[34mEpoch: 7, BCELoss: 0.30229608440885736\u001b[0m\n",
      "\u001b[34mEpoch: 7, BCELoss: 0.3092161313611634\u001b[0m\n",
      "\u001b[34mEpoch: 7, BCELoss: 0.31632368114529824\u001b[0m\n",
      "\u001b[34mEpoch: 7, BCELoss: 0.3230208535583652\u001b[0m\n",
      "\u001b[34mEpoch: 7, BCELoss: 0.32919126931501896\u001b[0m\n",
      "\u001b[34mEpoch: 7, BCELoss: 0.3359261173374799\u001b[0m\n",
      "\u001b[34mEpoch: 7, BCELoss: 0.342620991322459\u001b[0m\n",
      "\u001b[34mEpoch: 8, BCELoss: 0.006474206034018069\u001b[0m\n",
      "\u001b[34mEpoch: 8, BCELoss: 0.013306006485102127\u001b[0m\n",
      "\u001b[34mEpoch: 8, BCELoss: 0.019573040762726143\u001b[0m\n",
      "\u001b[34mEpoch: 8, BCELoss: 0.02567572922122722\u001b[0m\n",
      "\u001b[34mEpoch: 8, BCELoss: 0.03187361116311988\u001b[0m\n",
      "\u001b[34mEpoch: 8, BCELoss: 0.03838915058544704\u001b[0m\n",
      "\u001b[34mEpoch: 8, BCELoss: 0.045537804462471784\u001b[0m\n",
      "\u001b[34mEpoch: 8, BCELoss: 0.05170770567290637\u001b[0m\n",
      "\u001b[34mEpoch: 8, BCELoss: 0.05770215817860195\u001b[0m\n",
      "\u001b[34mEpoch: 8, BCELoss: 0.0642553233370489\u001b[0m\n",
      "\u001b[34mEpoch: 8, BCELoss: 0.07073035714577655\u001b[0m\n",
      "\u001b[34mEpoch: 8, BCELoss: 0.07746376492539231\u001b[0m\n",
      "\u001b[34mEpoch: 8, BCELoss: 0.08368767280967868\u001b[0m\n",
      "\u001b[34mEpoch: 8, BCELoss: 0.08965071914147357\u001b[0m\n",
      "\u001b[34mEpoch: 8, BCELoss: 0.09631149136290258\u001b[0m\n",
      "\u001b[34mEpoch: 8, BCELoss: 0.10214215395401935\u001b[0m\n",
      "\u001b[34mEpoch: 8, BCELoss: 0.1085887259366561\u001b[0m\n",
      "\u001b[34mEpoch: 8, BCELoss: 0.11367536564262545\u001b[0m\n",
      "\u001b[34mEpoch: 8, BCELoss: 0.12161026499709304\u001b[0m\n",
      "\u001b[34mEpoch: 8, BCELoss: 0.12904918254638204\u001b[0m\n",
      "\u001b[34mEpoch: 8, BCELoss: 0.1350577017482446\u001b[0m\n",
      "\u001b[34mEpoch: 8, BCELoss: 0.14173854613790707\u001b[0m\n",
      "\u001b[34mEpoch: 8, BCELoss: 0.14725997131697985\u001b[0m\n",
      "\u001b[34mEpoch: 8, BCELoss: 0.15414853789368455\u001b[0m\n",
      "\u001b[34mEpoch: 8, BCELoss: 0.1601410581141102\u001b[0m\n",
      "\u001b[34mEpoch: 8, BCELoss: 0.1668459894705792\u001b[0m\n",
      "\u001b[34mEpoch: 8, BCELoss: 0.1741040020572896\u001b[0m\n",
      "\u001b[34mEpoch: 8, BCELoss: 0.18092753145159507\u001b[0m\n",
      "\u001b[34mEpoch: 8, BCELoss: 0.18727909849614513\u001b[0m\n",
      "\u001b[34mEpoch: 8, BCELoss: 0.19361239489243956\u001b[0m\n",
      "\u001b[34mEpoch: 8, BCELoss: 0.1998811881152951\u001b[0m\n",
      "\u001b[34mEpoch: 8, BCELoss: 0.20632301483835494\u001b[0m\n",
      "\u001b[34mEpoch: 8, BCELoss: 0.213074193317063\u001b[0m\n",
      "\u001b[34mEpoch: 8, BCELoss: 0.21870361359751955\u001b[0m\n",
      "\u001b[34mEpoch: 8, BCELoss: 0.2262272597575674\u001b[0m\n",
      "\u001b[34mEpoch: 8, BCELoss: 0.23247705552042747\u001b[0m\n",
      "\u001b[34mEpoch: 8, BCELoss: 0.23803262990348192\u001b[0m\n",
      "\u001b[34mEpoch: 8, BCELoss: 0.24396475054779831\u001b[0m\n",
      "\u001b[34mEpoch: 8, BCELoss: 0.24968546507309894\u001b[0m\n",
      "\u001b[34mEpoch: 8, BCELoss: 0.2556937069309001\u001b[0m\n",
      "\u001b[34mEpoch: 8, BCELoss: 0.2611145638689703\u001b[0m\n",
      "\u001b[34mEpoch: 8, BCELoss: 0.2674201355904949\u001b[0m\n",
      "\u001b[34mEpoch: 8, BCELoss: 0.27354783792884985\u001b[0m\n",
      "\u001b[34mEpoch: 8, BCELoss: 0.279813070686496\u001b[0m\n",
      "\u001b[34mEpoch: 8, BCELoss: 0.28593084945970654\u001b[0m\n",
      "\u001b[34mEpoch: 8, BCELoss: 0.29194261346544537\u001b[0m\n",
      "\u001b[34mEpoch: 8, BCELoss: 0.2976784560145164\u001b[0m\n",
      "\u001b[34mEpoch: 8, BCELoss: 0.30414596443273584\u001b[0m\n",
      "\u001b[34mEpoch: 8, BCELoss: 0.3104026275021689\u001b[0m\n",
      "\u001b[34mEpoch: 9, BCELoss: 0.00604386171516107\u001b[0m\n",
      "\u001b[34mEpoch: 9, BCELoss: 0.012433211414181456\u001b[0m\n",
      "\u001b[34mEpoch: 9, BCELoss: 0.018084792458281224\u001b[0m\n",
      "\u001b[34mEpoch: 9, BCELoss: 0.02358094526796925\u001b[0m\n",
      "\u001b[34mEpoch: 9, BCELoss: 0.029259279674413254\u001b[0m\n",
      "\u001b[34mEpoch: 9, BCELoss: 0.03478874783126675\u001b[0m\n",
      "\u001b[34mEpoch: 9, BCELoss: 0.04107435625426623\u001b[0m\n",
      "\u001b[34mEpoch: 9, BCELoss: 0.046672637365302264\u001b[0m\n",
      "\u001b[34mEpoch: 9, BCELoss: 0.05218383426568946\u001b[0m\n",
      "\u001b[34mEpoch: 9, BCELoss: 0.05839006876458927\u001b[0m\n",
      "\u001b[34mEpoch: 9, BCELoss: 0.06444471952866535\u001b[0m\n",
      "\u001b[34mEpoch: 9, BCELoss: 0.07054063921072046\u001b[0m\n",
      "\u001b[34mEpoch: 9, BCELoss: 0.0762713089281199\u001b[0m\n",
      "\u001b[34mEpoch: 9, BCELoss: 0.0817279475075858\u001b[0m\n",
      "\u001b[34mEpoch: 9, BCELoss: 0.08812834656968409\u001b[0m\n",
      "\u001b[34mEpoch: 9, BCELoss: 0.09357807283498804\u001b[0m\n",
      "\u001b[34mEpoch: 9, BCELoss: 0.09990014713637684\u001b[0m\n",
      "\u001b[34mEpoch: 9, BCELoss: 0.10486694592602398\u001b[0m\n",
      "\u001b[34mEpoch: 9, BCELoss: 0.11199615348358544\u001b[0m\n",
      "\u001b[34mEpoch: 9, BCELoss: 0.11884127922204075\u001b[0m\n",
      "\u001b[34mEpoch: 9, BCELoss: 0.12446837492135106\u001b[0m\n",
      "\u001b[34mEpoch: 9, BCELoss: 0.13061682150071982\u001b[0m\n",
      "\u001b[34mEpoch: 9, BCELoss: 0.13566769172950666\u001b[0m\n",
      "\u001b[34mEpoch: 9, BCELoss: 0.14179498230924412\u001b[0m\n",
      "\u001b[34mEpoch: 9, BCELoss: 0.1473929070088328\u001b[0m\n",
      "\u001b[34mEpoch: 9, BCELoss: 0.15321578571991046\u001b[0m\n",
      "\u001b[34mEpoch: 9, BCELoss: 0.15974316335454278\u001b[0m\n",
      "\u001b[34mEpoch: 9, BCELoss: 0.16600294897750933\u001b[0m\n",
      "\u001b[34mEpoch: 9, BCELoss: 0.17174549948196022\u001b[0m\n",
      "\u001b[34mEpoch: 9, BCELoss: 0.17754572112949527\u001b[0m\n",
      "\u001b[34mEpoch: 9, BCELoss: 0.18329602814450555\u001b[0m\n",
      "\u001b[34mEpoch: 9, BCELoss: 0.1889973693356222\u001b[0m\n",
      "\u001b[34mEpoch: 9, BCELoss: 0.1948108980242087\u001b[0m\n",
      "\u001b[34mEpoch: 9, BCELoss: 0.20014531484672002\u001b[0m\n",
      "\u001b[34mEpoch: 9, BCELoss: 0.20800727697051302\u001b[0m\n",
      "\u001b[34mEpoch: 9, BCELoss: 0.2134807362240188\u001b[0m\n",
      "\u001b[34mEpoch: 9, BCELoss: 0.21898117083676008\u001b[0m\n",
      "\u001b[34mEpoch: 9, BCELoss: 0.22515182501199293\u001b[0m\n",
      "\u001b[34mEpoch: 9, BCELoss: 0.23069983994474216\u001b[0m\n",
      "\u001b[34mEpoch: 9, BCELoss: 0.2362891627209527\u001b[0m\n",
      "\u001b[34mEpoch: 9, BCELoss: 0.2412745484283992\u001b[0m\n",
      "\u001b[34mEpoch: 9, BCELoss: 0.24733733644290845\u001b[0m\n",
      "\u001b[34mEpoch: 9, BCELoss: 0.25331058794138384\u001b[0m\n",
      "\u001b[34mEpoch: 9, BCELoss: 0.25923137397182233\u001b[0m\n",
      "\u001b[34mEpoch: 9, BCELoss: 0.26506213205201284\u001b[0m\n",
      "\u001b[34mEpoch: 9, BCELoss: 0.27102974604587166\u001b[0m\n",
      "\u001b[34mEpoch: 9, BCELoss: 0.27680691590114515\u001b[0m\n",
      "\u001b[34mEpoch: 9, BCELoss: 0.2827567427742238\u001b[0m\n",
      "\u001b[34mEpoch: 9, BCELoss: 0.28853664349536506\u001b[0m\n",
      "\u001b[34mEpoch: 10, BCELoss: 0.006005423409598214\u001b[0m\n",
      "\u001b[34mEpoch: 10, BCELoss: 0.012953472988946097\u001b[0m\n",
      "\u001b[34mEpoch: 10, BCELoss: 0.018209808335012317\u001b[0m\n",
      "\u001b[34mEpoch: 10, BCELoss: 0.023473026801128775\u001b[0m\n",
      "\u001b[34mEpoch: 10, BCELoss: 0.029139765671321323\u001b[0m\n",
      "\u001b[34mEpoch: 10, BCELoss: 0.03460615021841867\u001b[0m\n",
      "\u001b[34mEpoch: 10, BCELoss: 0.040260915245328634\u001b[0m\n",
      "\u001b[34mEpoch: 10, BCELoss: 0.04554339878413142\u001b[0m\n",
      "\u001b[34mEpoch: 10, BCELoss: 0.0506619646841166\u001b[0m\n",
      "\u001b[34mEpoch: 10, BCELoss: 0.05658764741858657\u001b[0m\n",
      "\u001b[34mEpoch: 10, BCELoss: 0.06281543933615392\u001b[0m\n",
      "\u001b[34mEpoch: 10, BCELoss: 0.06865630466110852\u001b[0m\n",
      "\u001b[34mEpoch: 10, BCELoss: 0.07418996156478415\u001b[0m\n",
      "\u001b[34mEpoch: 10, BCELoss: 0.07973841015173465\u001b[0m\n",
      "\u001b[34mEpoch: 10, BCELoss: 0.08603443661514594\u001b[0m\n",
      "\u001b[34mEpoch: 10, BCELoss: 0.09133174954628458\u001b[0m\n",
      "\u001b[34mEpoch: 10, BCELoss: 0.09713034605493351\u001b[0m\n",
      "\u001b[34mEpoch: 10, BCELoss: 0.1022202050199314\u001b[0m\n",
      "\u001b[34mEpoch: 10, BCELoss: 0.10952048338189417\u001b[0m\n",
      "\u001b[34mEpoch: 10, BCELoss: 0.11621907839969713\u001b[0m\n",
      "\u001b[34mEpoch: 10, BCELoss: 0.12187184545458579\u001b[0m\n",
      "\u001b[34mEpoch: 10, BCELoss: 0.12822633312672985\u001b[0m\n",
      "\u001b[34mEpoch: 10, BCELoss: 0.13357243245961714\u001b[0m\n",
      "\u001b[34mEpoch: 10, BCELoss: 0.14019330241242234\u001b[0m\n",
      "\u001b[34mEpoch: 10, BCELoss: 0.14584815745451013\u001b[0m\n",
      "\u001b[34mEpoch: 10, BCELoss: 0.15194480455651574\u001b[0m\n",
      "\u001b[34mEpoch: 10, BCELoss: 0.15874392219952174\u001b[0m\n",
      "\u001b[34mEpoch: 10, BCELoss: 0.1642615405880675\u001b[0m\n",
      "\u001b[34mEpoch: 10, BCELoss: 0.17050599078742826\u001b[0m\n",
      "\u001b[34mEpoch: 10, BCELoss: 0.17598862489875483\u001b[0m\n",
      "\u001b[34mEpoch: 10, BCELoss: 0.18145256443899505\u001b[0m\n",
      "\u001b[34mEpoch: 10, BCELoss: 0.18731227882054388\u001b[0m\n",
      "\u001b[34mEpoch: 10, BCELoss: 0.1936523981240331\u001b[0m\n",
      "\u001b[34mEpoch: 10, BCELoss: 0.19916747601664797\u001b[0m\n",
      "\u001b[34mEpoch: 10, BCELoss: 0.20524587619061374\u001b[0m\n",
      "\u001b[34mEpoch: 10, BCELoss: 0.21059633092004426\u001b[0m\n",
      "\u001b[34mEpoch: 10, BCELoss: 0.21602434102369814\u001b[0m\n",
      "\u001b[34mEpoch: 10, BCELoss: 0.2212678029829142\u001b[0m\n",
      "\u001b[34mEpoch: 10, BCELoss: 0.22627702841953357\u001b[0m\n",
      "\u001b[34mEpoch: 10, BCELoss: 0.23156376335085654\u001b[0m\n",
      "\u001b[34mEpoch: 10, BCELoss: 0.23643122461377358\u001b[0m\n",
      "\u001b[34mEpoch: 10, BCELoss: 0.24206700556132257\u001b[0m\n",
      "\u001b[34mEpoch: 10, BCELoss: 0.24750503715203734\u001b[0m\n",
      "\u001b[34mEpoch: 10, BCELoss: 0.2528970989645744\u001b[0m\n",
      "\u001b[34mEpoch: 10, BCELoss: 0.25822640134363756\u001b[0m\n",
      "\u001b[34mEpoch: 10, BCELoss: 0.2639505449606448\u001b[0m\n",
      "\u001b[34mEpoch: 10, BCELoss: 0.2691679675968326\u001b[0m\n",
      "\u001b[34mEpoch: 10, BCELoss: 0.27483144524146097\u001b[0m\n",
      "\u001b[34mEpoch: 10, BCELoss: 0.2803995609283447\u001b[0m\n",
      "\u001b[34m2022-02-19 14:46:41,971 sagemaker-containers INFO     Reporting training SUCCESS\u001b[0m\n",
      "\n",
      "2022-02-19 14:46:50 Uploading - Uploading generated training model\n",
      "2022-02-19 14:46:50 Completed - Training job completed\n",
      "Training seconds: 278\n",
      "Billable seconds: 278\n"
     ]
    }
   ],
   "source": [
    "estimator.fit({'training': input_data})"
   ]
  },
  {
   "cell_type": "markdown",
   "metadata": {},
   "source": [
    "## Step 5: Testing the model\n",
    "\n",
    "As mentioned at the top of this notebook, we will be testing this model by first deploying it and then sending the testing data to the deployed endpoint. We will do this so that we can make sure that the deployed model is working correctly.\n",
    "\n",
    "## Step 6: Deploy the model for testing\n",
    "\n",
    "Now that we have trained our model, we would like to test it to see how it performs. Currently our model takes input of the form `review_length, review[500]` where `review[500]` is a sequence of `500` integers which describe the words present in the review, encoded using `word_dict`. Fortunately for us, SageMaker provides built-in inference code for models with simple inputs such as this.\n",
    "\n",
    "There is one thing that we need to provide, however, and that is a function which loads the saved model. This function must be called `model_fn()` and takes as its only parameter a path to the directory where the model artifacts are stored. This function must also be present in the python file which we specified as the entry point. In our case the model loading function has been provided and so no changes need to be made.\n",
    "\n",
    "**NOTE**: When the built-in inference code is run it must import the `model_fn()` method from the `train.py` file. This is why the training code is wrapped in a main guard ( ie, `if __name__ == '__main__':` )\n",
    "\n",
    "Since we don't need to change anything in the code that was uploaded during training, we can simply deploy the current model as-is.\n",
    "\n",
    "**NOTE:** When deploying a model you are asking SageMaker to launch an compute instance that will wait for data to be sent to it. As a result, this compute instance will continue to run until *you* shut it down. This is important to know since the cost of a deployed endpoint depends on how long it has been running for.\n",
    "\n",
    "In other words **If you are no longer using a deployed endpoint, shut it down!**\n",
    "\n",
    "**TODO:** Deploy the trained model."
   ]
  },
  {
   "cell_type": "code",
   "execution_count": 29,
   "metadata": {
    "scrolled": true
   },
   "outputs": [
    {
     "name": "stderr",
     "output_type": "stream",
     "text": [
      "Parameter image will be renamed to image_uri in SageMaker Python SDK v2.\n",
      "'create_image_uri' will be deprecated in favor of 'ImageURIProvider' class in SageMaker Python SDK v2.\n"
     ]
    },
    {
     "name": "stdout",
     "output_type": "stream",
     "text": [
      "----------!"
     ]
    }
   ],
   "source": [
    "# TODO: Deploy the trained model\n",
    "predictor = estimator.deploy(initial_instance_count=1,\n",
    "                             instance_type='ml.m4.xlarge')"
   ]
  },
  {
   "cell_type": "markdown",
   "metadata": {},
   "source": [
    "## Step 7 - Use the model for testing\n",
    "\n",
    "Once deployed, we can read in the test data and send it off to our deployed model to get some results. Once we collect all of the results we can determine how accurate our model is."
   ]
  },
  {
   "cell_type": "code",
   "execution_count": 30,
   "metadata": {},
   "outputs": [],
   "source": [
    "test_X = pd.concat([pd.DataFrame(test_X_len), pd.DataFrame(test_X)], axis=1)"
   ]
  },
  {
   "cell_type": "code",
   "execution_count": 31,
   "metadata": {},
   "outputs": [],
   "source": [
    "# We split the data into chunks and send each chunk seperately, accumulating the results.\n",
    "\n",
    "def predict(data, rows=512):\n",
    "    split_array = np.array_split(data, int(data.shape[0] / float(rows) + 1))\n",
    "    predictions = np.array([])\n",
    "    for array in split_array:\n",
    "        predictions = np.append(predictions, predictor.predict(array))\n",
    "    \n",
    "    return predictions"
   ]
  },
  {
   "cell_type": "code",
   "execution_count": 32,
   "metadata": {},
   "outputs": [],
   "source": [
    "predictions = predict(test_X.values)\n",
    "predictions = [round(num) for num in predictions]"
   ]
  },
  {
   "cell_type": "code",
   "execution_count": 33,
   "metadata": {},
   "outputs": [
    {
     "data": {
      "text/plain": [
       "0.85292"
      ]
     },
     "execution_count": 33,
     "metadata": {},
     "output_type": "execute_result"
    }
   ],
   "source": [
    "from sklearn.metrics import accuracy_score\n",
    "accuracy_score(test_y, predictions)"
   ]
  },
  {
   "cell_type": "markdown",
   "metadata": {},
   "source": [
    "**Question:** How does this model compare to the XGBoost model you created earlier? Why might these two models perform differently on this dataset? Which do *you* think is better for sentiment analysis?"
   ]
  },
  {
   "cell_type": "markdown",
   "metadata": {},
   "source": [
    "**Answer:**\n",
    "\n",
    "Based on the accuracy results, I can see that XGBoost is slightly better than LSTMClassifier. But as LSTm proved to be a good method to understand semantic objects, it can work well"
   ]
  },
  {
   "cell_type": "markdown",
   "metadata": {},
   "source": [
    "### (TODO) More testing\n",
    "\n",
    "We now have a trained model which has been deployed and which we can send processed reviews to and which returns the predicted sentiment. However, ultimately we would like to be able to send our model an unprocessed review. That is, we would like to send the review itself as a string. For example, suppose we wish to send the following review to our model."
   ]
  },
  {
   "cell_type": "code",
   "execution_count": 34,
   "metadata": {},
   "outputs": [],
   "source": [
    "test_review = 'The simplest pleasures in life are the best, and this film is one of them. Combining a rather basic storyline of love and adventure this movie transcends the usual weekend fair with wit and unmitigated charm.'"
   ]
  },
  {
   "cell_type": "markdown",
   "metadata": {},
   "source": [
    "The question we now need to answer is, how do we send this review to our model?\n",
    "\n",
    "Recall in the first section of this notebook we did a bunch of data processing to the IMDb dataset. In particular, we did two specific things to the provided reviews.\n",
    " - Removed any html tags and stemmed the input\n",
    " - Encoded the review as a sequence of integers using `word_dict`\n",
    " \n",
    "In order process the review we will need to repeat these two steps.\n",
    "\n",
    "**TODO**: Using the `review_to_words` and `convert_and_pad` methods from section one, convert `test_review` into a numpy array `test_data` suitable to send to our model. Remember that our model expects input of the form `review_length, review[500]`. So make sure you produce two variables from processing: \n",
    "- A sequence of length 500 which represents the converted review\n",
    "- The length of the review"
   ]
  },
  {
   "cell_type": "code",
   "execution_count": 35,
   "metadata": {},
   "outputs": [],
   "source": [
    "# TODO: Convert test_review into a form usable by the model and save the results in test_data\n",
    "test_data = [np.array(convert_and_pad(\n",
    "    word_dict, review_to_words(test_review))[0])]"
   ]
  },
  {
   "cell_type": "markdown",
   "metadata": {},
   "source": [
    "Now that we have processed the review, we can send the resulting array to our model to predict the sentiment of the review."
   ]
  },
  {
   "cell_type": "code",
   "execution_count": 36,
   "metadata": {},
   "outputs": [
    {
     "data": {
      "text/plain": [
       "array(0.5880316, dtype=float32)"
      ]
     },
     "execution_count": 36,
     "metadata": {},
     "output_type": "execute_result"
    }
   ],
   "source": [
    "predictor.predict(test_data)"
   ]
  },
  {
   "cell_type": "markdown",
   "metadata": {},
   "source": [
    "Since the return value of our model is close to `1`, we can be certain that the review we submitted is positive."
   ]
  },
  {
   "cell_type": "markdown",
   "metadata": {},
   "source": [
    "### Delete the endpoint\n",
    "\n",
    "Of course, just like in the XGBoost notebook, once we've deployed an endpoint it continues to run until we tell it to shut down. Since we are done using our endpoint for now, we can delete it."
   ]
  },
  {
   "cell_type": "code",
   "execution_count": 37,
   "metadata": {},
   "outputs": [
    {
     "name": "stderr",
     "output_type": "stream",
     "text": [
      "estimator.delete_endpoint() will be deprecated in SageMaker Python SDK v2. Please use the delete_endpoint() function on your predictor instead.\n"
     ]
    }
   ],
   "source": [
    "estimator.delete_endpoint()"
   ]
  },
  {
   "cell_type": "markdown",
   "metadata": {},
   "source": [
    "## Step 6 (again) - Deploy the model for the web app\n",
    "\n",
    "Now that we know that our model is working, it's time to create some custom inference code so that we can send the model a review which has not been processed and have it determine the sentiment of the review.\n",
    "\n",
    "As we saw above, by default the estimator which we created, when deployed, will use the entry script and directory which we provided when creating the model. However, since we now wish to accept a string as input and our model expects a processed review, we need to write some custom inference code.\n",
    "\n",
    "We will store the code that we write in the `serve` directory. Provided in this directory is the `model.py` file that we used to construct our model, a `utils.py` file which contains the `review_to_words` and `convert_and_pad` pre-processing functions which we used during the initial data processing, and `predict.py`, the file which will contain our custom inference code. Note also that `requirements.txt` is present which will tell SageMaker what Python libraries are required by our custom inference code.\n",
    "\n",
    "When deploying a PyTorch model in SageMaker, you are expected to provide four functions which the SageMaker inference container will use.\n",
    " - `model_fn`: This function is the same function that we used in the training script and it tells SageMaker how to load our model.\n",
    " - `input_fn`: This function receives the raw serialized input that has been sent to the model's endpoint and its job is to de-serialize and make the input available for the inference code.\n",
    " - `output_fn`: This function takes the output of the inference code and its job is to serialize this output and return it to the caller of the model's endpoint.\n",
    " - `predict_fn`: The heart of the inference script, this is where the actual prediction is done and is the function which you will need to complete.\n",
    "\n",
    "For the simple website that we are constructing during this project, the `input_fn` and `output_fn` methods are relatively straightforward. We only require being able to accept a string as input and we expect to return a single value as output. You might imagine though that in a more complex application the input or output may be image data or some other binary data which would require some effort to serialize.\n",
    "\n",
    "### (TODO) Writing inference code\n",
    "\n",
    "Before writing our custom inference code, we will begin by taking a look at the code which has been provided."
   ]
  },
  {
   "cell_type": "code",
   "execution_count": 38,
   "metadata": {},
   "outputs": [
    {
     "name": "stdout",
     "output_type": "stream",
     "text": [
      "\u001b[34mimport\u001b[39;49;00m \u001b[04m\u001b[36margparse\u001b[39;49;00m\r\n",
      "\u001b[34mimport\u001b[39;49;00m \u001b[04m\u001b[36mjson\u001b[39;49;00m\r\n",
      "\u001b[34mimport\u001b[39;49;00m \u001b[04m\u001b[36mos\u001b[39;49;00m\r\n",
      "\u001b[34mimport\u001b[39;49;00m \u001b[04m\u001b[36mpickle\u001b[39;49;00m\r\n",
      "\u001b[34mimport\u001b[39;49;00m \u001b[04m\u001b[36msys\u001b[39;49;00m\r\n",
      "\u001b[34mimport\u001b[39;49;00m \u001b[04m\u001b[36msagemaker_containers\u001b[39;49;00m\r\n",
      "\u001b[34mimport\u001b[39;49;00m \u001b[04m\u001b[36mpandas\u001b[39;49;00m \u001b[34mas\u001b[39;49;00m \u001b[04m\u001b[36mpd\u001b[39;49;00m\r\n",
      "\u001b[34mimport\u001b[39;49;00m \u001b[04m\u001b[36mnumpy\u001b[39;49;00m \u001b[34mas\u001b[39;49;00m \u001b[04m\u001b[36mnp\u001b[39;49;00m\r\n",
      "\u001b[34mimport\u001b[39;49;00m \u001b[04m\u001b[36mtorch\u001b[39;49;00m\r\n",
      "\u001b[34mimport\u001b[39;49;00m \u001b[04m\u001b[36mtorch\u001b[39;49;00m\u001b[04m\u001b[36m.\u001b[39;49;00m\u001b[04m\u001b[36mnn\u001b[39;49;00m \u001b[34mas\u001b[39;49;00m \u001b[04m\u001b[36mnn\u001b[39;49;00m\r\n",
      "\u001b[34mimport\u001b[39;49;00m \u001b[04m\u001b[36mtorch\u001b[39;49;00m\u001b[04m\u001b[36m.\u001b[39;49;00m\u001b[04m\u001b[36moptim\u001b[39;49;00m \u001b[34mas\u001b[39;49;00m \u001b[04m\u001b[36moptim\u001b[39;49;00m\r\n",
      "\u001b[34mimport\u001b[39;49;00m \u001b[04m\u001b[36mtorch\u001b[39;49;00m\u001b[04m\u001b[36m.\u001b[39;49;00m\u001b[04m\u001b[36mutils\u001b[39;49;00m\u001b[04m\u001b[36m.\u001b[39;49;00m\u001b[04m\u001b[36mdata\u001b[39;49;00m\r\n",
      "\r\n",
      "\u001b[34mfrom\u001b[39;49;00m \u001b[04m\u001b[36mmodel\u001b[39;49;00m \u001b[34mimport\u001b[39;49;00m LSTMClassifier\r\n",
      "\r\n",
      "\u001b[34mfrom\u001b[39;49;00m \u001b[04m\u001b[36mutils\u001b[39;49;00m \u001b[34mimport\u001b[39;49;00m review_to_words, convert_and_pad\r\n",
      "\r\n",
      "\u001b[34mdef\u001b[39;49;00m \u001b[32mmodel_fn\u001b[39;49;00m(model_dir):\r\n",
      "    \u001b[33m\"\"\"Load the PyTorch model from the `model_dir` directory.\"\"\"\u001b[39;49;00m\r\n",
      "    \u001b[36mprint\u001b[39;49;00m(\u001b[33m\"\u001b[39;49;00m\u001b[33mLoading model.\u001b[39;49;00m\u001b[33m\"\u001b[39;49;00m)\r\n",
      "\r\n",
      "    \u001b[37m# First, load the parameters used to create the model.\u001b[39;49;00m\r\n",
      "    model_info = {}\r\n",
      "    model_info_path = os.path.join(model_dir, \u001b[33m'\u001b[39;49;00m\u001b[33mmodel_info.pth\u001b[39;49;00m\u001b[33m'\u001b[39;49;00m)\r\n",
      "    \u001b[34mwith\u001b[39;49;00m \u001b[36mopen\u001b[39;49;00m(model_info_path, \u001b[33m'\u001b[39;49;00m\u001b[33mrb\u001b[39;49;00m\u001b[33m'\u001b[39;49;00m) \u001b[34mas\u001b[39;49;00m f:\r\n",
      "        model_info = torch.load(f)\r\n",
      "\r\n",
      "    \u001b[36mprint\u001b[39;49;00m(\u001b[33m\"\u001b[39;49;00m\u001b[33mmodel_info: \u001b[39;49;00m\u001b[33m{}\u001b[39;49;00m\u001b[33m\"\u001b[39;49;00m.format(model_info))\r\n",
      "\r\n",
      "    \u001b[37m# Determine the device and construct the model.\u001b[39;49;00m\r\n",
      "    device = torch.device(\u001b[33m\"\u001b[39;49;00m\u001b[33mcuda\u001b[39;49;00m\u001b[33m\"\u001b[39;49;00m \u001b[34mif\u001b[39;49;00m torch.cuda.is_available() \u001b[34melse\u001b[39;49;00m \u001b[33m\"\u001b[39;49;00m\u001b[33mcpu\u001b[39;49;00m\u001b[33m\"\u001b[39;49;00m)\r\n",
      "    model = LSTMClassifier(model_info[\u001b[33m'\u001b[39;49;00m\u001b[33membedding_dim\u001b[39;49;00m\u001b[33m'\u001b[39;49;00m], model_info[\u001b[33m'\u001b[39;49;00m\u001b[33mhidden_dim\u001b[39;49;00m\u001b[33m'\u001b[39;49;00m], model_info[\u001b[33m'\u001b[39;49;00m\u001b[33mvocab_size\u001b[39;49;00m\u001b[33m'\u001b[39;49;00m])\r\n",
      "\r\n",
      "    \u001b[37m# Load the store model parameters.\u001b[39;49;00m\r\n",
      "    model_path = os.path.join(model_dir, \u001b[33m'\u001b[39;49;00m\u001b[33mmodel.pth\u001b[39;49;00m\u001b[33m'\u001b[39;49;00m)\r\n",
      "    \u001b[34mwith\u001b[39;49;00m \u001b[36mopen\u001b[39;49;00m(model_path, \u001b[33m'\u001b[39;49;00m\u001b[33mrb\u001b[39;49;00m\u001b[33m'\u001b[39;49;00m) \u001b[34mas\u001b[39;49;00m f:\r\n",
      "        model.load_state_dict(torch.load(f))\r\n",
      "\r\n",
      "    \u001b[37m# Load the saved word_dict.\u001b[39;49;00m\r\n",
      "    word_dict_path = os.path.join(model_dir, \u001b[33m'\u001b[39;49;00m\u001b[33mword_dict.pkl\u001b[39;49;00m\u001b[33m'\u001b[39;49;00m)\r\n",
      "    \u001b[34mwith\u001b[39;49;00m \u001b[36mopen\u001b[39;49;00m(word_dict_path, \u001b[33m'\u001b[39;49;00m\u001b[33mrb\u001b[39;49;00m\u001b[33m'\u001b[39;49;00m) \u001b[34mas\u001b[39;49;00m f:\r\n",
      "        model.word_dict = pickle.load(f)\r\n",
      "\r\n",
      "    model.to(device).eval()\r\n",
      "\r\n",
      "    \u001b[36mprint\u001b[39;49;00m(\u001b[33m\"\u001b[39;49;00m\u001b[33mDone loading model.\u001b[39;49;00m\u001b[33m\"\u001b[39;49;00m)\r\n",
      "    \u001b[34mreturn\u001b[39;49;00m model\r\n",
      "\r\n",
      "\u001b[34mdef\u001b[39;49;00m \u001b[32minput_fn\u001b[39;49;00m(serialized_input_data, content_type):\r\n",
      "    \u001b[36mprint\u001b[39;49;00m(\u001b[33m'\u001b[39;49;00m\u001b[33mDeserializing the input data.\u001b[39;49;00m\u001b[33m'\u001b[39;49;00m)\r\n",
      "    \u001b[34mif\u001b[39;49;00m content_type == \u001b[33m'\u001b[39;49;00m\u001b[33mtext/plain\u001b[39;49;00m\u001b[33m'\u001b[39;49;00m:\r\n",
      "        data = serialized_input_data.decode(\u001b[33m'\u001b[39;49;00m\u001b[33mutf-8\u001b[39;49;00m\u001b[33m'\u001b[39;49;00m)\r\n",
      "        \u001b[34mreturn\u001b[39;49;00m data\r\n",
      "    \u001b[34mraise\u001b[39;49;00m \u001b[36mException\u001b[39;49;00m(\u001b[33m'\u001b[39;49;00m\u001b[33mRequested unsupported ContentType in content_type: \u001b[39;49;00m\u001b[33m'\u001b[39;49;00m + content_type)\r\n",
      "\r\n",
      "\u001b[34mdef\u001b[39;49;00m \u001b[32moutput_fn\u001b[39;49;00m(prediction_output, accept):\r\n",
      "    \u001b[36mprint\u001b[39;49;00m(\u001b[33m'\u001b[39;49;00m\u001b[33mSerializing the generated output.\u001b[39;49;00m\u001b[33m'\u001b[39;49;00m)\r\n",
      "    \u001b[34mreturn\u001b[39;49;00m \u001b[36mstr\u001b[39;49;00m(prediction_output)\r\n",
      "\r\n",
      "\u001b[34mdef\u001b[39;49;00m \u001b[32mpredict_fn\u001b[39;49;00m(input_data, model):\r\n",
      "    \u001b[36mprint\u001b[39;49;00m(\u001b[33m'\u001b[39;49;00m\u001b[33mInferring sentiment of input data.\u001b[39;49;00m\u001b[33m'\u001b[39;49;00m)\r\n",
      "\r\n",
      "    device = torch.device(\u001b[33m\"\u001b[39;49;00m\u001b[33mcuda\u001b[39;49;00m\u001b[33m\"\u001b[39;49;00m \u001b[34mif\u001b[39;49;00m torch.cuda.is_available() \u001b[34melse\u001b[39;49;00m \u001b[33m\"\u001b[39;49;00m\u001b[33mcpu\u001b[39;49;00m\u001b[33m\"\u001b[39;49;00m)\r\n",
      "    \r\n",
      "    \u001b[34mif\u001b[39;49;00m model.word_dict \u001b[35mis\u001b[39;49;00m \u001b[34mNone\u001b[39;49;00m:\r\n",
      "        \u001b[34mraise\u001b[39;49;00m \u001b[36mException\u001b[39;49;00m(\u001b[33m'\u001b[39;49;00m\u001b[33mModel has not been loaded properly, no word_dict.\u001b[39;49;00m\u001b[33m'\u001b[39;49;00m)\r\n",
      "    \r\n",
      "    \u001b[37m# TODO: Process input_data so that it is ready to be sent to our model.\u001b[39;49;00m\r\n",
      "    \u001b[37m#       You should produce two variables:\u001b[39;49;00m\r\n",
      "    \u001b[37m#         data_X   - A sequence of length 500 which represents the converted review\u001b[39;49;00m\r\n",
      "    \u001b[37m#         data_len - The length of the review\u001b[39;49;00m\r\n",
      "\r\n",
      "    words = review_to_words(input_data)\r\n",
      "    data_X, data_len = convert_and_pad(model.word_dict, words)\r\n",
      "\r\n",
      "    \u001b[37m# Using data_X and data_len we construct an appropriate input tensor. Remember\u001b[39;49;00m\r\n",
      "    \u001b[37m# that our model expects input data of the form 'len, review[500]'.\u001b[39;49;00m\r\n",
      "    data_pack = np.hstack((data_len, data_X))\r\n",
      "    data_pack = data_pack.reshape(\u001b[34m1\u001b[39;49;00m, -\u001b[34m1\u001b[39;49;00m)\r\n",
      "    \r\n",
      "    data = torch.from_numpy(data_pack)\r\n",
      "    data = data.to(device)\r\n",
      "\r\n",
      "    \u001b[37m# Make sure to put the model into evaluation mode\u001b[39;49;00m\r\n",
      "    model.eval()\r\n",
      "\r\n",
      "    \u001b[37m# TODO: Compute the result of applying the model to the input data. The variable `result` should\u001b[39;49;00m\r\n",
      "    \u001b[37m#       be a numpy array which contains a single integer which is either 1 or 0\u001b[39;49;00m\r\n",
      "    \r\n",
      "    \u001b[34mwith\u001b[39;49;00m torch.no_grad():\r\n",
      "        output = model.forward(data)\r\n",
      "        \r\n",
      "    output = output.cpu()\r\n",
      "    result = \u001b[36mint\u001b[39;49;00m(np.round(output.numpy()))\r\n",
      "\r\n",
      "    \u001b[34mreturn\u001b[39;49;00m result\r\n"
     ]
    }
   ],
   "source": [
    "!pygmentize serve/predict.py"
   ]
  },
  {
   "cell_type": "markdown",
   "metadata": {},
   "source": [
    "As mentioned earlier, the `model_fn` method is the same as the one provided in the training code and the `input_fn` and `output_fn` methods are very simple and your task will be to complete the `predict_fn` method. \n",
    "\n",
    "**Note**: Our model expects input data of the form 'len, review[500]'. So make sure you produce two variables from processing: \n",
    "- `data_X`:  A sequence of length 500 which represents the converted review\n",
    "- `data_len`: - The length of the review\n",
    "\n",
    "Make sure that you save the completed file as `predict.py` in the `serve` directory.\n",
    "\n",
    "**TODO**: Complete the `predict_fn()` method in the `serve/predict.py` file."
   ]
  },
  {
   "cell_type": "markdown",
   "metadata": {},
   "source": [
    "### Deploying the model\n",
    "\n",
    "Now that the custom inference code has been written, we will create and deploy our model. To begin with, we need to construct a new PyTorchModel object which points to the model artifacts created during training and also points to the inference code that we wish to use. Then we can call the deploy method to launch the deployment container.\n",
    "\n",
    "**NOTE**: The default behaviour for a deployed PyTorch model is to assume that any input passed to the predictor is a `numpy` array. In our case we want to send a string so we need to construct a simple wrapper around the `RealTimePredictor` class to accomodate simple strings. In a more complicated situation you may want to provide a serialization object, for example if you wanted to sent image data."
   ]
  },
  {
   "cell_type": "code",
   "execution_count": 39,
   "metadata": {},
   "outputs": [
    {
     "name": "stderr",
     "output_type": "stream",
     "text": [
      "Parameter image will be renamed to image_uri in SageMaker Python SDK v2.\n",
      "'create_image_uri' will be deprecated in favor of 'ImageURIProvider' class in SageMaker Python SDK v2.\n"
     ]
    },
    {
     "name": "stdout",
     "output_type": "stream",
     "text": [
      "-------!"
     ]
    }
   ],
   "source": [
    "from sagemaker.predictor import RealTimePredictor\n",
    "from sagemaker.pytorch import PyTorchModel\n",
    "\n",
    "class StringPredictor(RealTimePredictor):\n",
    "    def __init__(self, endpoint_name, sagemaker_session):\n",
    "        super(StringPredictor, self).__init__(endpoint_name, sagemaker_session, content_type='text/plain')\n",
    "\n",
    "model = PyTorchModel(model_data=estimator.model_data,\n",
    "                     role = role,\n",
    "                     framework_version='0.4.0',\n",
    "                     entry_point='predict.py',\n",
    "                     source_dir='serve',\n",
    "                     predictor_cls=StringPredictor)\n",
    "predictor = model.deploy(initial_instance_count=1, instance_type='ml.m4.xlarge')"
   ]
  },
  {
   "cell_type": "markdown",
   "metadata": {},
   "source": [
    "### Testing the model\n",
    "\n",
    "Now that we have deployed our model with the custom inference code, we should test to see if everything is working. Here we test our model by loading the first `250` positive and negative reviews and send them to the endpoint, then collect the results. The reason for only sending some of the data is that the amount of time it takes for our model to process the input and then perform inference is quite long and so testing the entire data set would be prohibitive."
   ]
  },
  {
   "cell_type": "code",
   "execution_count": 40,
   "metadata": {},
   "outputs": [],
   "source": [
    "import glob\n",
    "\n",
    "def test_reviews(data_dir='../data/aclImdb', stop=250):\n",
    "    \n",
    "    results = []\n",
    "    ground = []\n",
    "    \n",
    "    # We make sure to test both positive and negative reviews    \n",
    "    for sentiment in ['pos', 'neg']:\n",
    "        \n",
    "        path = os.path.join(data_dir, 'test', sentiment, '*.txt')\n",
    "        files = glob.glob(path)\n",
    "        \n",
    "        files_read = 0\n",
    "        \n",
    "        print('Starting ', sentiment, ' files')\n",
    "        \n",
    "        # Iterate through the files and send them to the predictor\n",
    "        for f in files:\n",
    "            with open(f) as review:\n",
    "                # First, we store the ground truth (was the review positive or negative)\n",
    "                if sentiment == 'pos':\n",
    "                    ground.append(1)\n",
    "                else:\n",
    "                    ground.append(0)\n",
    "                # Read in the review and convert to 'utf-8' for transmission via HTTP\n",
    "                review_input = review.read().encode('utf-8')\n",
    "                # Send the review to the predictor and store the results\n",
    "                results.append(float(predictor.predict(review_input)))\n",
    "                \n",
    "            # Sending reviews to our endpoint one at a time takes a while so we\n",
    "            # only send a small number of reviews\n",
    "            files_read += 1\n",
    "            if files_read == stop:\n",
    "                break\n",
    "            \n",
    "    return ground, results"
   ]
  },
  {
   "cell_type": "code",
   "execution_count": 41,
   "metadata": {},
   "outputs": [
    {
     "name": "stdout",
     "output_type": "stream",
     "text": [
      "Starting  pos  files\n",
      "Starting  neg  files\n"
     ]
    }
   ],
   "source": [
    "ground, results = test_reviews()"
   ]
  },
  {
   "cell_type": "code",
   "execution_count": 42,
   "metadata": {},
   "outputs": [
    {
     "data": {
      "text/plain": [
       "0.878"
      ]
     },
     "execution_count": 42,
     "metadata": {},
     "output_type": "execute_result"
    }
   ],
   "source": [
    "from sklearn.metrics import accuracy_score\n",
    "accuracy_score(ground, results)"
   ]
  },
  {
   "cell_type": "markdown",
   "metadata": {},
   "source": [
    "As an additional test, we can try sending the `test_review` that we looked at earlier."
   ]
  },
  {
   "cell_type": "code",
   "execution_count": 48,
   "metadata": {},
   "outputs": [
    {
     "data": {
      "text/plain": [
       "'The simplest pleasures in life are the best, and this film is one of them. Combining a rather basic storyline of love and adventure this movie transcends the usual weekend fair with wit and unmitigated charm.'"
      ]
     },
     "execution_count": 48,
     "metadata": {},
     "output_type": "execute_result"
    }
   ],
   "source": [
    "test_review"
   ]
  },
  {
   "cell_type": "code",
   "execution_count": 43,
   "metadata": {},
   "outputs": [
    {
     "data": {
      "text/plain": [
       "b'1'"
      ]
     },
     "execution_count": 43,
     "metadata": {},
     "output_type": "execute_result"
    }
   ],
   "source": [
    "predictor.predict(test_review)"
   ]
  },
  {
   "cell_type": "markdown",
   "metadata": {},
   "source": [
    "Now that we know our endpoint is working as expected, we can set up the web page that will interact with it. If you don't have time to finish the project now, make sure to skip down to the end of this notebook and shut down your endpoint. You can deploy it again when you come back."
   ]
  },
  {
   "cell_type": "markdown",
   "metadata": {},
   "source": [
    "## Step 7 (again): Use the model for the web app\n",
    "\n",
    "> **TODO:** This entire section and the next contain tasks for you to complete, mostly using the AWS console.\n",
    "\n",
    "So far we have been accessing our model endpoint by constructing a predictor object which uses the endpoint and then just using the predictor object to perform inference. What if we wanted to create a web app which accessed our model? The way things are set up currently makes that not possible since in order to access a SageMaker endpoint the app would first have to authenticate with AWS using an IAM role which included access to SageMaker endpoints. However, there is an easier way! We just need to use some additional AWS services.\n",
    "\n",
    "<img src=\"Web App Diagram.svg\">\n",
    "\n",
    "The diagram above gives an overview of how the various services will work together. On the far right is the model which we trained above and which is deployed using SageMaker. On the far left is our web app that collects a user's movie review, sends it off and expects a positive or negative sentiment in return.\n",
    "\n",
    "In the middle is where some of the magic happens. We will construct a Lambda function, which you can think of as a straightforward Python function that can be executed whenever a specified event occurs. We will give this function permission to send and recieve data from a SageMaker endpoint.\n",
    "\n",
    "Lastly, the method we will use to execute the Lambda function is a new endpoint that we will create using API Gateway. This endpoint will be a url that listens for data to be sent to it. Once it gets some data it will pass that data on to the Lambda function and then return whatever the Lambda function returns. Essentially it will act as an interface that lets our web app communicate with the Lambda function.\n",
    "\n",
    "### Setting up a Lambda function\n",
    "\n",
    "The first thing we are going to do is set up a Lambda function. This Lambda function will be executed whenever our public API has data sent to it. When it is executed it will receive the data, perform any sort of processing that is required, send the data (the review) to the SageMaker endpoint we've created and then return the result.\n",
    "\n",
    "#### Part A: Create an IAM Role for the Lambda function\n",
    "\n",
    "Since we want the Lambda function to call a SageMaker endpoint, we need to make sure that it has permission to do so. To do this, we will construct a role that we can later give the Lambda function.\n",
    "\n",
    "Using the AWS Console, navigate to the **IAM** page and click on **Roles**. Then, click on **Create role**. Make sure that the **AWS service** is the type of trusted entity selected and choose **Lambda** as the service that will use this role, then click **Next: Permissions**.\n",
    "\n",
    "In the search box type `sagemaker` and select the check box next to the **AmazonSageMakerFullAccess** policy. Then, click on **Next: Review**.\n",
    "\n",
    "Lastly, give this role a name. Make sure you use a name that you will remember later on, for example `LambdaSageMakerRole`. Then, click on **Create role**.\n",
    "\n",
    "#### Part B: Create a Lambda function\n",
    "\n",
    "Now it is time to actually create the Lambda function.\n",
    "\n",
    "Using the AWS Console, navigate to the AWS Lambda page and click on **Create a function**. When you get to the next page, make sure that **Author from scratch** is selected. Now, name your Lambda function, using a name that you will remember later on, for example `sentiment_analysis_func`. Make sure that the **Python 3.6** runtime is selected and then choose the role that you created in the previous part. Then, click on **Create Function**.\n",
    "\n",
    "On the next page you will see some information about the Lambda function you've just created. If you scroll down you should see an editor in which you can write the code that will be executed when your Lambda function is triggered. In our example, we will use the code below. \n",
    "\n",
    "```python\n",
    "# We need to use the low-level library to interact with SageMaker since the SageMaker API\n",
    "# is not available natively through Lambda.\n",
    "import boto3\n",
    "\n",
    "def lambda_handler(event, context):\n",
    "\n",
    "    # The SageMaker runtime is what allows us to invoke the endpoint that we've created.\n",
    "    runtime = boto3.Session().client('sagemaker-runtime')\n",
    "\n",
    "    # Now we use the SageMaker runtime to invoke our endpoint, sending the review we were given\n",
    "    response = runtime.invoke_endpoint(EndpointName = '**ENDPOINT NAME HERE**',    # The name of the endpoint we created\n",
    "                                       ContentType = 'text/plain',                 # The data format that is expected\n",
    "                                       Body = event['body'])                       # The actual review\n",
    "\n",
    "    # The response is an HTTP response whose body contains the result of our inference\n",
    "    result = response['Body'].read().decode('utf-8')\n",
    "\n",
    "    return {\n",
    "        'statusCode' : 200,\n",
    "        'headers' : { 'Content-Type' : 'text/plain', 'Access-Control-Allow-Origin' : '*' },\n",
    "        'body' : result\n",
    "    }\n",
    "```\n",
    "\n",
    "Once you have copy and pasted the code above into the Lambda code editor, replace the `**ENDPOINT NAME HERE**` portion with the name of the endpoint that we deployed earlier. You can determine the name of the endpoint using the code cell below."
   ]
  },
  {
   "cell_type": "code",
   "execution_count": 44,
   "metadata": {},
   "outputs": [
    {
     "data": {
      "text/plain": [
       "'sagemaker-pytorch-2022-02-19-14-56-11-673'"
      ]
     },
     "execution_count": 44,
     "metadata": {},
     "output_type": "execute_result"
    }
   ],
   "source": [
    "predictor.endpoint"
   ]
  },
  {
   "cell_type": "markdown",
   "metadata": {},
   "source": [
    "Once you have added the endpoint name to the Lambda function, click on **Save**. Your Lambda function is now up and running. Next we need to create a way for our web app to execute the Lambda function.\n",
    "\n",
    "### Setting up API Gateway\n",
    "\n",
    "Now that our Lambda function is set up, it is time to create a new API using API Gateway that will trigger the Lambda function we have just created.\n",
    "\n",
    "Using AWS Console, navigate to **Amazon API Gateway** and then click on **Get started**.\n",
    "\n",
    "On the next page, make sure that **New API** is selected and give the new api a name, for example, `sentiment_analysis_api`. Then, click on **Create API**.\n",
    "\n",
    "Now we have created an API, however it doesn't currently do anything. What we want it to do is to trigger the Lambda function that we created earlier.\n",
    "\n",
    "Select the **Actions** dropdown menu and click **Create Method**. A new blank method will be created, select its dropdown menu and select **POST**, then click on the check mark beside it.\n",
    "\n",
    "For the integration point, make sure that **Lambda Function** is selected and click on the **Use Lambda Proxy integration**. This option makes sure that the data that is sent to the API is then sent directly to the Lambda function with no processing. It also means that the return value must be a proper response object as it will also not be processed by API Gateway.\n",
    "\n",
    "Type the name of the Lambda function you created earlier into the **Lambda Function** text entry box and then click on **Save**. Click on **OK** in the pop-up box that then appears, giving permission to API Gateway to invoke the Lambda function you created.\n",
    "\n",
    "The last step in creating the API Gateway is to select the **Actions** dropdown and click on **Deploy API**. You will need to create a new Deployment stage and name it anything you like, for example `prod`.\n",
    "\n",
    "You have now successfully set up a public API to access your SageMaker model. Make sure to copy or write down the URL provided to invoke your newly created public API as this will be needed in the next step. This URL can be found at the top of the page, highlighted in blue next to the text **Invoke URL**."
   ]
  },
  {
   "cell_type": "markdown",
   "metadata": {},
   "source": [
    "## Step 4: Deploying our web app\n",
    "\n",
    "Now that we have a publicly available API, we can start using it in a web app. For our purposes, we have provided a simple static html file which can make use of the public api you created earlier.\n",
    "\n",
    "In the `website` folder there should be a file called `index.html`. Download the file to your computer and open that file up in a text editor of your choice. There should be a line which contains **\\*\\*REPLACE WITH PUBLIC API URL\\*\\***. Replace this string with the url that you wrote down in the last step and then save the file.\n",
    "\n",
    "Now, if you open `index.html` on your local computer, your browser will behave as a local web server and you can use the provided site to interact with your SageMaker model.\n",
    "\n",
    "If you'd like to go further, you can host this html file anywhere you'd like, for example using github or hosting a static site on Amazon's S3. Once you have done this you can share the link with anyone you'd like and have them play with it too!\n",
    "\n",
    "> **Important Note** In order for the web app to communicate with the SageMaker endpoint, the endpoint has to actually be deployed and running. This means that you are paying for it. Make sure that the endpoint is running when you want to use the web app but that you shut it down when you don't need it, otherwise you will end up with a surprisingly large AWS bill.\n",
    "\n",
    "**TODO:** Make sure that you include the edited `index.html` file in your project submission."
   ]
  },
  {
   "cell_type": "markdown",
   "metadata": {},
   "source": [
    "Now that your web app is working, trying playing around with it and see how well it works.\n",
    "\n",
    "**Question**: Post a screenshot showing a sample review that you entered into your web app and the predicted sentiment. What was the predicted sentiment of your example review?"
   ]
  },
  {
   "attachments": {
    "image.png": {
     "image/png": "[encoded data removed]"
    }
   },
   "cell_type": "markdown",
   "metadata": {},
   "source": [
    "**Screenshot:**\n",
    "\n",
    "\n",
    "\n",
    "**Answer:**\n",
    "![image.png](attachment:image.png)"
   ]
  },
  {
   "cell_type": "markdown",
   "metadata": {},
   "source": [
    "### Delete the endpoint\n",
    "\n",
    "Remember to always shut down your endpoint if you are no longer using it. You are charged for the length of time that the endpoint is running so if you forget and leave it on you could end up with an unexpectedly large bill."
   ]
  },
  {
   "cell_type": "code",
   "execution_count": 58,
   "metadata": {},
   "outputs": [],
   "source": [
    "predictor.delete_endpoint()"
   ]
  }
 ],
 "metadata": {
  "kernelspec": {
   "display_name": "conda_pytorch_p36",
   "language": "python",
   "name": "conda_pytorch_p36"
  },
  "language_info": {
   "codemirror_mode": {
    "name": "ipython",
    "version": 3
   },
   "file_extension": ".py",
   "mimetype": "text/x-python",
   "name": "python",
   "nbconvert_exporter": "python",
   "pygments_lexer": "ipython3",
   "version": "3.6.13"
  }
 },
 "nbformat": 4,
 "nbformat_minor": 4
}
